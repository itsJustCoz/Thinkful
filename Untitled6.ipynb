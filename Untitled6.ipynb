{
 "cells": [
  {
   "cell_type": "code",
   "execution_count": 1,
   "metadata": {
    "collapsed": true
   },
   "outputs": [],
   "source": [
    "import matplotlib.pyplot as plt\n",
    "import pandas as pd\n",
    "import numpy as np\n",
    "%matplotlib inline"
   ]
  },
  {
   "cell_type": "code",
   "execution_count": 2,
   "metadata": {},
   "outputs": [
    {
     "data": {
      "text/html": [
       "<div>\n",
       "<style>\n",
       "    .dataframe thead tr:only-child th {\n",
       "        text-align: right;\n",
       "    }\n",
       "\n",
       "    .dataframe thead th {\n",
       "        text-align: left;\n",
       "    }\n",
       "\n",
       "    .dataframe tbody tr th {\n",
       "        vertical-align: top;\n",
       "    }\n",
       "</style>\n",
       "<table border=\"1\" class=\"dataframe\">\n",
       "  <thead>\n",
       "    <tr style=\"text-align: right;\">\n",
       "      <th></th>\n",
       "      <th>start_time</th>\n",
       "      <th>end_time</th>\n",
       "      <th>bikeid</th>\n",
       "      <th>tripduration</th>\n",
       "      <th>from_station_id</th>\n",
       "      <th>from_station_name</th>\n",
       "      <th>to_station_id</th>\n",
       "      <th>to_station_name</th>\n",
       "      <th>usertype</th>\n",
       "      <th>gender</th>\n",
       "      <th>birthyear</th>\n",
       "    </tr>\n",
       "    <tr>\n",
       "      <th>trip_id</th>\n",
       "      <th></th>\n",
       "      <th></th>\n",
       "      <th></th>\n",
       "      <th></th>\n",
       "      <th></th>\n",
       "      <th></th>\n",
       "      <th></th>\n",
       "      <th></th>\n",
       "      <th></th>\n",
       "      <th></th>\n",
       "      <th></th>\n",
       "    </tr>\n",
       "  </thead>\n",
       "  <tbody>\n",
       "    <tr>\n",
       "      <th>17536701</th>\n",
       "      <td>12/31/2017 23:58</td>\n",
       "      <td>1/1/2018 0:03</td>\n",
       "      <td>3304</td>\n",
       "      <td>284</td>\n",
       "      <td>159</td>\n",
       "      <td>Claremont Ave &amp; Hirsch St</td>\n",
       "      <td>69</td>\n",
       "      <td>Damen Ave &amp; Pierce Ave</td>\n",
       "      <td>Subscriber</td>\n",
       "      <td>Male</td>\n",
       "      <td>1988.0</td>\n",
       "    </tr>\n",
       "    <tr>\n",
       "      <th>17536700</th>\n",
       "      <td>12/31/2017 23:54</td>\n",
       "      <td>1/1/2018 0:18</td>\n",
       "      <td>5975</td>\n",
       "      <td>1402</td>\n",
       "      <td>145</td>\n",
       "      <td>Mies van der Rohe Way &amp; Chestnut St</td>\n",
       "      <td>145</td>\n",
       "      <td>Mies van der Rohe Way &amp; Chestnut St</td>\n",
       "      <td>Customer</td>\n",
       "      <td>NaN</td>\n",
       "      <td>NaN</td>\n",
       "    </tr>\n",
       "    <tr>\n",
       "      <th>17536699</th>\n",
       "      <td>12/31/2017 23:54</td>\n",
       "      <td>1/1/2018 0:18</td>\n",
       "      <td>4906</td>\n",
       "      <td>1441</td>\n",
       "      <td>145</td>\n",
       "      <td>Mies van der Rohe Way &amp; Chestnut St</td>\n",
       "      <td>145</td>\n",
       "      <td>Mies van der Rohe Way &amp; Chestnut St</td>\n",
       "      <td>Customer</td>\n",
       "      <td>NaN</td>\n",
       "      <td>NaN</td>\n",
       "    </tr>\n",
       "    <tr>\n",
       "      <th>17536698</th>\n",
       "      <td>12/31/2017 23:48</td>\n",
       "      <td>12/31/2017 23:53</td>\n",
       "      <td>5667</td>\n",
       "      <td>315</td>\n",
       "      <td>340</td>\n",
       "      <td>Clark St &amp; Wrightwood Ave</td>\n",
       "      <td>143</td>\n",
       "      <td>Sedgwick St &amp; Webster Ave</td>\n",
       "      <td>Subscriber</td>\n",
       "      <td>Male</td>\n",
       "      <td>1963.0</td>\n",
       "    </tr>\n",
       "    <tr>\n",
       "      <th>17536697</th>\n",
       "      <td>12/31/2017 23:42</td>\n",
       "      <td>12/31/2017 23:47</td>\n",
       "      <td>5353</td>\n",
       "      <td>272</td>\n",
       "      <td>240</td>\n",
       "      <td>Sheridan Rd &amp; Irving Park Rd</td>\n",
       "      <td>245</td>\n",
       "      <td>Clarendon Ave &amp; Junior Ter</td>\n",
       "      <td>Subscriber</td>\n",
       "      <td>Male</td>\n",
       "      <td>1977.0</td>\n",
       "    </tr>\n",
       "  </tbody>\n",
       "</table>\n",
       "</div>"
      ],
      "text/plain": [
       "                start_time          end_time  bikeid  tripduration  \\\n",
       "trip_id                                                              \n",
       "17536701  12/31/2017 23:58     1/1/2018 0:03    3304           284   \n",
       "17536700  12/31/2017 23:54     1/1/2018 0:18    5975          1402   \n",
       "17536699  12/31/2017 23:54     1/1/2018 0:18    4906          1441   \n",
       "17536698  12/31/2017 23:48  12/31/2017 23:53    5667           315   \n",
       "17536697  12/31/2017 23:42  12/31/2017 23:47    5353           272   \n",
       "\n",
       "          from_station_id                    from_station_name  to_station_id  \\\n",
       "trip_id                                                                         \n",
       "17536701              159            Claremont Ave & Hirsch St             69   \n",
       "17536700              145  Mies van der Rohe Way & Chestnut St            145   \n",
       "17536699              145  Mies van der Rohe Way & Chestnut St            145   \n",
       "17536698              340            Clark St & Wrightwood Ave            143   \n",
       "17536697              240         Sheridan Rd & Irving Park Rd            245   \n",
       "\n",
       "                              to_station_name    usertype gender  birthyear  \n",
       "trip_id                                                                      \n",
       "17536701               Damen Ave & Pierce Ave  Subscriber   Male     1988.0  \n",
       "17536700  Mies van der Rohe Way & Chestnut St    Customer    NaN        NaN  \n",
       "17536699  Mies van der Rohe Way & Chestnut St    Customer    NaN        NaN  \n",
       "17536698            Sedgwick St & Webster Ave  Subscriber   Male     1963.0  \n",
       "17536697           Clarendon Ave & Junior Ter  Subscriber   Male     1977.0  "
      ]
     },
     "execution_count": 2,
     "metadata": {},
     "output_type": "execute_result"
    }
   ],
   "source": [
    "#Read a datafrom as df\n",
    "df = pd.read_csv('Divvy_Trips_2017_Q4.csv', index_col=0)\n",
    "df.head()\n"
   ]
  },
  {
   "cell_type": "code",
   "execution_count": 9,
   "metadata": {},
   "outputs": [
    {
     "data": {
      "text/plain": [
       "<pandas.core.groupby.DataFrameGroupBy object at 0x10ab947b8>"
      ]
     },
     "execution_count": 9,
     "metadata": {},
     "output_type": "execute_result"
    }
   ],
   "source": [
    "#Convert trip duration to minutes and round down to make it easier on my eyes\n",
    "df['trip_duration_minutes'] = (df['tripduration']/60).apply(np.floor)\n",
    "# Shape by gender\n",
    "df.groupby('gender')"
   ]
  },
  {
   "cell_type": "code",
   "execution_count": 23,
   "metadata": {},
   "outputs": [
    {
     "data": {
      "image/png": "[encoded data removed]",
      "text/plain": [
       "<matplotlib.figure.Figure at 0x10fbc7748>"
      ]
     },
     "metadata": {},
     "output_type": "display_data"
    },
    {
     "data": {
      "text/plain": [
       "trip_id\n",
       "17536701     True\n",
       "17536700    False\n",
       "17536699    False\n",
       "17536698     True\n",
       "17536697     True\n",
       "Name: gender, dtype: bool"
      ]
     },
     "execution_count": 23,
     "metadata": {},
     "output_type": "execute_result"
    }
   ],
   "source": [
    "#df['trip_duration_minutes'].hist(by=df['gender'])\n",
    "plt.plot(df['trip_duration_minutes'])\n",
    "plt.show()\n",
    "\n",
    "df_male = (df['gender'] == 'Male')\n",
    "df_male.head()"
   ]
  },
  {
   "cell_type": "code",
   "execution_count": null,
   "metadata": {
    "collapsed": true
   },
   "outputs": [],
   "source": []
  },
  {
   "cell_type": "code",
   "execution_count": null,
   "metadata": {
    "collapsed": true
   },
   "outputs": [],
   "source": []
  }
 ],
 "metadata": {
  "kernelspec": {
   "display_name": "Python 3",
   "language": "python",
   "name": "python3"
  },
  "language_info": {
   "codemirror_mode": {
    "name": "ipython",
    "version": 3
   },
   "file_extension": ".py",
   "mimetype": "text/x-python",
   "name": "python",
   "nbconvert_exporter": "python",
   "pygments_lexer": "ipython3",
   "version": "3.6.3"
  }
 },
 "nbformat": 4,
 "nbformat_minor": 2
}
