{
 "cells": [
  {
   "cell_type": "markdown",
   "metadata": {},
   "source": [
    "# Introduction"
   ]
  },
  {
   "cell_type": "markdown",
   "metadata": {},
   "source": [
    "This presents a Breast Cancer Diagnostics project that is built by using Python’s Scikit-Learn librar using Logistic Regression, Random Forest, and Support Vector Machine to predict which cells are malignant. We also measure the accuracy of models that are built by using Machine Learning, and we assess directions for further development. "
   ]
  },
  {
   "cell_type": "markdown",
   "metadata": {},
   "source": [
    "The data was downloaded from Wisconsins's UCI Machine Learning repository. Each row represents samples from Clinical cases, each column contains features of cells.\n",
    "\n",
    "Source: https://archive.ics.uci.edu/ml/datasets/Breast+Cancer+Wisconsin+(Diagnostic)\n",
    "\n",
    "1. Sample code number: id number \n",
    "2. Clump Thickness: 1 - 10 \n",
    "3. Uniformity of Cell Size: 1 - 10 \n",
    "4. Uniformity of Cell Shape: 1 - 10 \n",
    "5. Marginal Adhesion: 1 - 10 \n",
    "6. Single Epithelial Cell Size: 1 - 10 \n",
    "7. Bare Nuclei: 1 - 10 \n",
    "8. Bland Chromatin: 1 - 10 \n",
    "9. Normal Nucleoli: 1 - 10 \n",
    "10. Mitoses: 1 - 10 \n",
    "11. Class: (2 for benign, 4 for malignant)\n",
    "\n",
    "All the data is already scaled from 1-10. This is how observations are scored, it's not a result of data transformation. "
   ]
  },
  {
   "cell_type": "markdown",
   "metadata": {},
   "source": [
    "## Pre-processing"
   ]
  },
  {
   "cell_type": "code",
   "execution_count": 667,
   "metadata": {},
   "outputs": [
    {
     "data": {
      "text/html": [
       "<div>\n",
       "<style scoped>\n",
       "    .dataframe tbody tr th:only-of-type {\n",
       "        vertical-align: middle;\n",
       "    }\n",
       "\n",
       "    .dataframe tbody tr th {\n",
       "        vertical-align: top;\n",
       "    }\n",
       "\n",
       "    .dataframe thead th {\n",
       "        text-align: right;\n",
       "    }\n",
       "</style>\n",
       "<table border=\"1\" class=\"dataframe\">\n",
       "  <thead>\n",
       "    <tr style=\"text-align: right;\">\n",
       "      <th></th>\n",
       "      <th>clump_thickness</th>\n",
       "      <th>uniform_cellsize</th>\n",
       "      <th>uniform_cellshape</th>\n",
       "      <th>marginal_adhesion</th>\n",
       "      <th>single_epithelial_cell_size</th>\n",
       "      <th>bare_nuclei</th>\n",
       "      <th>bland_chromatin</th>\n",
       "      <th>normal_nucleoli</th>\n",
       "      <th>mitoses</th>\n",
       "      <th>class</th>\n",
       "    </tr>\n",
       "  </thead>\n",
       "  <tbody>\n",
       "    <tr>\n",
       "      <th>0</th>\n",
       "      <td>5</td>\n",
       "      <td>1</td>\n",
       "      <td>1</td>\n",
       "      <td>1</td>\n",
       "      <td>2</td>\n",
       "      <td>1</td>\n",
       "      <td>3</td>\n",
       "      <td>1</td>\n",
       "      <td>1</td>\n",
       "      <td>2</td>\n",
       "    </tr>\n",
       "    <tr>\n",
       "      <th>1</th>\n",
       "      <td>5</td>\n",
       "      <td>4</td>\n",
       "      <td>4</td>\n",
       "      <td>5</td>\n",
       "      <td>7</td>\n",
       "      <td>10</td>\n",
       "      <td>3</td>\n",
       "      <td>2</td>\n",
       "      <td>1</td>\n",
       "      <td>2</td>\n",
       "    </tr>\n",
       "    <tr>\n",
       "      <th>2</th>\n",
       "      <td>3</td>\n",
       "      <td>1</td>\n",
       "      <td>1</td>\n",
       "      <td>1</td>\n",
       "      <td>2</td>\n",
       "      <td>2</td>\n",
       "      <td>3</td>\n",
       "      <td>1</td>\n",
       "      <td>1</td>\n",
       "      <td>2</td>\n",
       "    </tr>\n",
       "    <tr>\n",
       "      <th>3</th>\n",
       "      <td>6</td>\n",
       "      <td>8</td>\n",
       "      <td>8</td>\n",
       "      <td>1</td>\n",
       "      <td>3</td>\n",
       "      <td>4</td>\n",
       "      <td>3</td>\n",
       "      <td>7</td>\n",
       "      <td>1</td>\n",
       "      <td>2</td>\n",
       "    </tr>\n",
       "    <tr>\n",
       "      <th>4</th>\n",
       "      <td>4</td>\n",
       "      <td>1</td>\n",
       "      <td>1</td>\n",
       "      <td>3</td>\n",
       "      <td>2</td>\n",
       "      <td>1</td>\n",
       "      <td>3</td>\n",
       "      <td>1</td>\n",
       "      <td>1</td>\n",
       "      <td>2</td>\n",
       "    </tr>\n",
       "  </tbody>\n",
       "</table>\n",
       "</div>"
      ],
      "text/plain": [
       "   clump_thickness  uniform_cellsize  uniform_cellshape  marginal_adhesion  \\\n",
       "0                5                 1                  1                  1   \n",
       "1                5                 4                  4                  5   \n",
       "2                3                 1                  1                  1   \n",
       "3                6                 8                  8                  1   \n",
       "4                4                 1                  1                  3   \n",
       "\n",
       "   single_epithelial_cell_size bare_nuclei  bland_chromatin  normal_nucleoli  \\\n",
       "0                            2           1                3                1   \n",
       "1                            7          10                3                2   \n",
       "2                            2           2                3                1   \n",
       "3                            3           4                3                7   \n",
       "4                            2           1                3                1   \n",
       "\n",
       "   mitoses  class  \n",
       "0        1      2  \n",
       "1        1      2  \n",
       "2        1      2  \n",
       "3        1      2  \n",
       "4        1      2  "
      ]
     },
     "execution_count": 667,
     "metadata": {},
     "output_type": "execute_result"
    }
   ],
   "source": [
    "#import standard packages\n",
    "import pandas as pd\n",
    "import numpy as np\n",
    "import warnings\n",
    "warnings.filterwarnings('ignore')\n",
    "\n",
    "#import graphing packages\n",
    "%matplotlib inline\n",
    "import matplotlib.pyplot as plt\n",
    "import seaborn as sns\n",
    "from tabulate import tabulate\n",
    "\n",
    "#import modeling packages\n",
    "from sklearn.svm import SVC\n",
    "from sklearn.ensemble import RandomForestClassifier\n",
    "from sklearn.linear_model import LogisticRegression\n",
    "\n",
    "#import feature and hyperparameter tuning packages\n",
    "from sklearn.feature_selection import RFE\n",
    "from sklearn.model_selection import RandomizedSearchCV\n",
    "\n",
    "#import stats packages\n",
    "from scipy import stats\n",
    "from scipy.stats import uniform\n",
    "from sklearn import metrics\n",
    "\n",
    "#import scoring packages\n",
    "from sklearn.model_selection import cross_val_score\n",
    "from sklearn.metrics import confusion_matrix\n",
    "from sklearn.metrics import classification_report\n",
    "from sklearn.metrics import roc_auc_score\n",
    "from sklearn.metrics import roc_curve\n",
    "\n",
    "#Read csv, create column names and assign to df\n",
    "df = pd.read_csv('bc.csv', names = ['id', 'clump_thickness', 'uniform_cellsize','uniform_cellshape','marginal_adhesion'\n",
    "                                    ,'single_epithelial_cell_size','bare_nuclei','bland_chromatin','normal_nucleoli',\n",
    "                                    'mitoses','class'])\n",
    "#Drop id (useless column)\n",
    "df.drop('id', axis=1, inplace = True)\n",
    "df.head()"
   ]
  },
  {
   "cell_type": "code",
   "execution_count": 668,
   "metadata": {},
   "outputs": [
    {
     "data": {
      "text/plain": [
       "(699, 10)"
      ]
     },
     "execution_count": 668,
     "metadata": {},
     "output_type": "execute_result"
    }
   ],
   "source": [
    "#get shape of data\n",
    "df.shape"
   ]
  },
  {
   "cell_type": "markdown",
   "metadata": {},
   "source": [
    "The data contains 699 observations and 10 features"
   ]
  },
  {
   "cell_type": "code",
   "execution_count": 669,
   "metadata": {},
   "outputs": [
    {
     "data": {
      "text/plain": [
       "clump_thickness                 int64\n",
       "uniform_cellsize                int64\n",
       "uniform_cellshape               int64\n",
       "marginal_adhesion               int64\n",
       "single_epithelial_cell_size     int64\n",
       "bare_nuclei                    object\n",
       "bland_chromatin                 int64\n",
       "normal_nucleoli                 int64\n",
       "mitoses                         int64\n",
       "class                           int64\n",
       "dtype: object"
      ]
     },
     "execution_count": 669,
     "metadata": {},
     "output_type": "execute_result"
    }
   ],
   "source": [
    "#get types of data\n",
    "df.dtypes"
   ]
  },
  {
   "cell_type": "code",
   "execution_count": 670,
   "metadata": {},
   "outputs": [
    {
     "data": {
      "text/plain": [
       "clump_thickness                0\n",
       "uniform_cellsize               0\n",
       "uniform_cellshape              0\n",
       "marginal_adhesion              0\n",
       "single_epithelial_cell_size    0\n",
       "bare_nuclei                    0\n",
       "bland_chromatin                0\n",
       "normal_nucleoli                0\n",
       "mitoses                        0\n",
       "class                          0\n",
       "dtype: int64"
      ]
     },
     "execution_count": 670,
     "metadata": {},
     "output_type": "execute_result"
    }
   ],
   "source": [
    "#Check for other missing data\n",
    "df.isnull().sum()"
   ]
  },
  {
   "cell_type": "code",
   "execution_count": 671,
   "metadata": {},
   "outputs": [
    {
     "data": {
      "text/plain": [
       "array(['1', '10', '2', '4', '3', '9', '7', '?', '5', '8', '6'], dtype=object)"
      ]
     },
     "execution_count": 671,
     "metadata": {},
     "output_type": "execute_result"
    }
   ],
   "source": [
    "#find the unique values of the bn object data\n",
    "df['bare_nuclei'].unique()"
   ]
  },
  {
   "cell_type": "code",
   "execution_count": 672,
   "metadata": {},
   "outputs": [
    {
     "data": {
      "text/plain": [
       "16"
      ]
     },
     "execution_count": 672,
     "metadata": {},
     "output_type": "execute_result"
    }
   ],
   "source": [
    "# find number of missing values('?')\n",
    "(df['bare_nuclei']=='?').sum()"
   ]
  },
  {
   "cell_type": "markdown",
   "metadata": {},
   "source": [
    "The data is fairly clean, we just have a few instances(16/700) of missing data ('?') which we'll remove. All of our data is in type int64. "
   ]
  },
  {
   "cell_type": "code",
   "execution_count": 673,
   "metadata": {},
   "outputs": [
    {
     "data": {
      "text/plain": [
       "0"
      ]
     },
     "execution_count": 673,
     "metadata": {},
     "output_type": "execute_result"
    }
   ],
   "source": [
    "#Drop rows with '?'\n",
    "df = df.replace('?', np.nan).dropna()\n",
    "\n",
    "#check to make sure '?' have been removed\n",
    "(df['bare_nuclei']=='?').sum()\n"
   ]
  },
  {
   "cell_type": "raw",
   "metadata": {},
   "source": [
    "Last, we'll recategorize benign from 2 to 0 and malignant from 4 to 1"
   ]
  },
  {
   "cell_type": "code",
   "execution_count": 674,
   "metadata": {
    "collapsed": true
   },
   "outputs": [],
   "source": [
    "#re-assign 2 to 0 and 4 to 1\n",
    "df['class'] = df['class'].replace(2,0)\n",
    "df['class'] = df['class'].replace(4,1)"
   ]
  },
  {
   "cell_type": "markdown",
   "metadata": {},
   "source": [
    "## Data Exploration"
   ]
  },
  {
   "cell_type": "markdown",
   "metadata": {},
   "source": [
    "Now,that we have a clean dataset, we'll start exploring the distributions of the features and outcomes."
   ]
  },
  {
   "cell_type": "code",
   "execution_count": 675,
   "metadata": {},
   "outputs": [
    {
     "data": {
      "image/png": "[encoded data removed]",
      "text/plain": [
       "<matplotlib.figure.Figure at 0x1257f8d30>"
      ]
     },
     "metadata": {},
     "output_type": "display_data"
    },
    {
     "name": "stdout",
     "output_type": "stream",
     "text": [
      "0    444\n",
      "1    239\n",
      "Name: class, dtype: int64\n",
      "% Malignant: 34.99\n"
     ]
    }
   ],
   "source": [
    "#graph number of outcomes\n",
    "sns.countplot('class', data = df)\n",
    "plt.show()\n",
    "\n",
    "#print counts of data by outcome(class) 0 is malignant 1 is benign\n",
    "print(df['class'].value_counts())\n",
    "\n",
    "#Print % of outcomes thabt are malignant\n",
    "print(\"% Malignant: {:.2f}\".format((np.sum(df['class'] == 1)/len(df['class']))*100))\n"
   ]
  },
  {
   "cell_type": "markdown",
   "metadata": {},
   "source": [
    "About %35 of our outcomes are Malignant. The class imbalance doesn't seem like it will be a problem, so I'll skip any upsampling/downsampling for now and implement it later if I can't get a good model."
   ]
  },
  {
   "cell_type": "code",
   "execution_count": 676,
   "metadata": {},
   "outputs": [
    {
     "data": {
      "text/html": [
       "<div>\n",
       "<style scoped>\n",
       "    .dataframe tbody tr th:only-of-type {\n",
       "        vertical-align: middle;\n",
       "    }\n",
       "\n",
       "    .dataframe tbody tr th {\n",
       "        vertical-align: top;\n",
       "    }\n",
       "\n",
       "    .dataframe thead th {\n",
       "        text-align: right;\n",
       "    }\n",
       "</style>\n",
       "<table border=\"1\" class=\"dataframe\">\n",
       "  <thead>\n",
       "    <tr style=\"text-align: right;\">\n",
       "      <th></th>\n",
       "      <th>clump_thickness</th>\n",
       "      <th>uniform_cellsize</th>\n",
       "      <th>uniform_cellshape</th>\n",
       "      <th>marginal_adhesion</th>\n",
       "      <th>single_epithelial_cell_size</th>\n",
       "      <th>bland_chromatin</th>\n",
       "      <th>normal_nucleoli</th>\n",
       "      <th>mitoses</th>\n",
       "    </tr>\n",
       "    <tr>\n",
       "      <th>class</th>\n",
       "      <th></th>\n",
       "      <th></th>\n",
       "      <th></th>\n",
       "      <th></th>\n",
       "      <th></th>\n",
       "      <th></th>\n",
       "      <th></th>\n",
       "      <th></th>\n",
       "    </tr>\n",
       "  </thead>\n",
       "  <tbody>\n",
       "    <tr>\n",
       "      <th>0</th>\n",
       "      <td>2.963964</td>\n",
       "      <td>1.306306</td>\n",
       "      <td>1.414414</td>\n",
       "      <td>1.346847</td>\n",
       "      <td>2.108108</td>\n",
       "      <td>2.083333</td>\n",
       "      <td>1.261261</td>\n",
       "      <td>1.065315</td>\n",
       "    </tr>\n",
       "    <tr>\n",
       "      <th>1</th>\n",
       "      <td>7.188285</td>\n",
       "      <td>6.577406</td>\n",
       "      <td>6.560669</td>\n",
       "      <td>5.585774</td>\n",
       "      <td>5.326360</td>\n",
       "      <td>5.974895</td>\n",
       "      <td>5.857741</td>\n",
       "      <td>2.602510</td>\n",
       "    </tr>\n",
       "  </tbody>\n",
       "</table>\n",
       "</div>"
      ],
      "text/plain": [
       "       clump_thickness  uniform_cellsize  uniform_cellshape  \\\n",
       "class                                                         \n",
       "0             2.963964          1.306306           1.414414   \n",
       "1             7.188285          6.577406           6.560669   \n",
       "\n",
       "       marginal_adhesion  single_epithelial_cell_size  bland_chromatin  \\\n",
       "class                                                                    \n",
       "0               1.346847                     2.108108         2.083333   \n",
       "1               5.585774                     5.326360         5.974895   \n",
       "\n",
       "       normal_nucleoli   mitoses  \n",
       "class                             \n",
       "0             1.261261  1.065315  \n",
       "1             5.857741  2.602510  "
      ]
     },
     "execution_count": 676,
     "metadata": {},
     "output_type": "execute_result"
    }
   ],
   "source": [
    "#return mean of other features grouped by outcome\n",
    "df.groupby('class').mean()"
   ]
  },
  {
   "cell_type": "markdown",
   "metadata": {},
   "source": [
    "There is a distinct differece between malignant and benign observations in the direction of larger cellshape/sizes, coarser chromatin, and more nucleoli are are strong indicator of tumors being malignant. The difference in mitosis between outcomes has the least contrast. "
   ]
  },
  {
   "cell_type": "code",
   "execution_count": 677,
   "metadata": {},
   "outputs": [
    {
     "data": {
      "text/html": [
       "<div>\n",
       "<style scoped>\n",
       "    .dataframe tbody tr th:only-of-type {\n",
       "        vertical-align: middle;\n",
       "    }\n",
       "\n",
       "    .dataframe tbody tr th {\n",
       "        vertical-align: top;\n",
       "    }\n",
       "\n",
       "    .dataframe thead th {\n",
       "        text-align: right;\n",
       "    }\n",
       "</style>\n",
       "<table border=\"1\" class=\"dataframe\">\n",
       "  <thead>\n",
       "    <tr style=\"text-align: right;\">\n",
       "      <th></th>\n",
       "      <th>clump_thickness</th>\n",
       "      <th>uniform_cellsize</th>\n",
       "      <th>uniform_cellshape</th>\n",
       "      <th>marginal_adhesion</th>\n",
       "      <th>single_epithelial_cell_size</th>\n",
       "      <th>bland_chromatin</th>\n",
       "      <th>normal_nucleoli</th>\n",
       "      <th>mitoses</th>\n",
       "      <th>class</th>\n",
       "    </tr>\n",
       "    <tr>\n",
       "      <th>bare_nuclei</th>\n",
       "      <th></th>\n",
       "      <th></th>\n",
       "      <th></th>\n",
       "      <th></th>\n",
       "      <th></th>\n",
       "      <th></th>\n",
       "      <th></th>\n",
       "      <th></th>\n",
       "      <th></th>\n",
       "    </tr>\n",
       "  </thead>\n",
       "  <tbody>\n",
       "    <tr>\n",
       "      <th>1</th>\n",
       "      <td>3.072139</td>\n",
       "      <td>1.422886</td>\n",
       "      <td>1.537313</td>\n",
       "      <td>1.420398</td>\n",
       "      <td>2.203980</td>\n",
       "      <td>2.136816</td>\n",
       "      <td>1.358209</td>\n",
       "      <td>1.104478</td>\n",
       "      <td>0.037313</td>\n",
       "    </tr>\n",
       "    <tr>\n",
       "      <th>10</th>\n",
       "      <td>7.143939</td>\n",
       "      <td>6.492424</td>\n",
       "      <td>6.598485</td>\n",
       "      <td>6.272727</td>\n",
       "      <td>5.280303</td>\n",
       "      <td>6.227273</td>\n",
       "      <td>5.537879</td>\n",
       "      <td>2.515152</td>\n",
       "      <td>0.977273</td>\n",
       "    </tr>\n",
       "    <tr>\n",
       "      <th>2</th>\n",
       "      <td>4.766667</td>\n",
       "      <td>3.300000</td>\n",
       "      <td>2.966667</td>\n",
       "      <td>2.433333</td>\n",
       "      <td>3.166667</td>\n",
       "      <td>3.866667</td>\n",
       "      <td>3.166667</td>\n",
       "      <td>2.066667</td>\n",
       "      <td>0.300000</td>\n",
       "    </tr>\n",
       "    <tr>\n",
       "      <th>3</th>\n",
       "      <td>4.678571</td>\n",
       "      <td>3.750000</td>\n",
       "      <td>3.571429</td>\n",
       "      <td>3.321429</td>\n",
       "      <td>3.535714</td>\n",
       "      <td>3.642857</td>\n",
       "      <td>3.392857</td>\n",
       "      <td>1.892857</td>\n",
       "      <td>0.500000</td>\n",
       "    </tr>\n",
       "    <tr>\n",
       "      <th>4</th>\n",
       "      <td>6.210526</td>\n",
       "      <td>5.631579</td>\n",
       "      <td>4.842105</td>\n",
       "      <td>2.842105</td>\n",
       "      <td>4.210526</td>\n",
       "      <td>4.210526</td>\n",
       "      <td>5.263158</td>\n",
       "      <td>2.210526</td>\n",
       "      <td>0.684211</td>\n",
       "    </tr>\n",
       "    <tr>\n",
       "      <th>5</th>\n",
       "      <td>6.133333</td>\n",
       "      <td>5.100000</td>\n",
       "      <td>5.100000</td>\n",
       "      <td>4.166667</td>\n",
       "      <td>4.200000</td>\n",
       "      <td>4.700000</td>\n",
       "      <td>4.966667</td>\n",
       "      <td>1.800000</td>\n",
       "      <td>0.666667</td>\n",
       "    </tr>\n",
       "    <tr>\n",
       "      <th>6</th>\n",
       "      <td>7.750000</td>\n",
       "      <td>6.000000</td>\n",
       "      <td>6.750000</td>\n",
       "      <td>2.250000</td>\n",
       "      <td>5.500000</td>\n",
       "      <td>3.250000</td>\n",
       "      <td>6.500000</td>\n",
       "      <td>4.000000</td>\n",
       "      <td>1.000000</td>\n",
       "    </tr>\n",
       "    <tr>\n",
       "      <th>7</th>\n",
       "      <td>7.125000</td>\n",
       "      <td>4.000000</td>\n",
       "      <td>5.000000</td>\n",
       "      <td>4.125000</td>\n",
       "      <td>4.500000</td>\n",
       "      <td>5.625000</td>\n",
       "      <td>6.625000</td>\n",
       "      <td>2.250000</td>\n",
       "      <td>0.875000</td>\n",
       "    </tr>\n",
       "    <tr>\n",
       "      <th>8</th>\n",
       "      <td>6.523810</td>\n",
       "      <td>6.952381</td>\n",
       "      <td>7.095238</td>\n",
       "      <td>4.714286</td>\n",
       "      <td>5.857143</td>\n",
       "      <td>6.000000</td>\n",
       "      <td>5.142857</td>\n",
       "      <td>1.476190</td>\n",
       "      <td>0.904762</td>\n",
       "    </tr>\n",
       "    <tr>\n",
       "      <th>9</th>\n",
       "      <td>6.111111</td>\n",
       "      <td>6.333333</td>\n",
       "      <td>6.333333</td>\n",
       "      <td>5.333333</td>\n",
       "      <td>5.000000</td>\n",
       "      <td>5.444444</td>\n",
       "      <td>6.333333</td>\n",
       "      <td>4.777778</td>\n",
       "      <td>1.000000</td>\n",
       "    </tr>\n",
       "  </tbody>\n",
       "</table>\n",
       "</div>"
      ],
      "text/plain": [
       "             clump_thickness  uniform_cellsize  uniform_cellshape  \\\n",
       "bare_nuclei                                                         \n",
       "1                   3.072139          1.422886           1.537313   \n",
       "10                  7.143939          6.492424           6.598485   \n",
       "2                   4.766667          3.300000           2.966667   \n",
       "3                   4.678571          3.750000           3.571429   \n",
       "4                   6.210526          5.631579           4.842105   \n",
       "5                   6.133333          5.100000           5.100000   \n",
       "6                   7.750000          6.000000           6.750000   \n",
       "7                   7.125000          4.000000           5.000000   \n",
       "8                   6.523810          6.952381           7.095238   \n",
       "9                   6.111111          6.333333           6.333333   \n",
       "\n",
       "             marginal_adhesion  single_epithelial_cell_size  bland_chromatin  \\\n",
       "bare_nuclei                                                                    \n",
       "1                     1.420398                     2.203980         2.136816   \n",
       "10                    6.272727                     5.280303         6.227273   \n",
       "2                     2.433333                     3.166667         3.866667   \n",
       "3                     3.321429                     3.535714         3.642857   \n",
       "4                     2.842105                     4.210526         4.210526   \n",
       "5                     4.166667                     4.200000         4.700000   \n",
       "6                     2.250000                     5.500000         3.250000   \n",
       "7                     4.125000                     4.500000         5.625000   \n",
       "8                     4.714286                     5.857143         6.000000   \n",
       "9                     5.333333                     5.000000         5.444444   \n",
       "\n",
       "             normal_nucleoli   mitoses     class  \n",
       "bare_nuclei                                       \n",
       "1                   1.358209  1.104478  0.037313  \n",
       "10                  5.537879  2.515152  0.977273  \n",
       "2                   3.166667  2.066667  0.300000  \n",
       "3                   3.392857  1.892857  0.500000  \n",
       "4                   5.263158  2.210526  0.684211  \n",
       "5                   4.966667  1.800000  0.666667  \n",
       "6                   6.500000  4.000000  1.000000  \n",
       "7                   6.625000  2.250000  0.875000  \n",
       "8                   5.142857  1.476190  0.904762  \n",
       "9                   6.333333  4.777778  1.000000  "
      ]
     },
     "execution_count": 677,
     "metadata": {},
     "output_type": "execute_result"
    }
   ],
   "source": [
    "#inpsect the bn column with object type\n",
    "df.groupby('bare_nuclei').mean()"
   ]
  },
  {
   "cell_type": "markdown",
   "metadata": {},
   "source": [
    "Looking at the bare_nuclei object,we can see there is a weaker but still prevelent association between higher scores and malignant diagnoses. "
   ]
  },
  {
   "cell_type": "markdown",
   "metadata": {},
   "source": [
    "Next we'll examine the distributions and skewness of the data."
   ]
  },
  {
   "cell_type": "code",
   "execution_count": 678,
   "metadata": {},
   "outputs": [
    {
     "name": "stdout",
     "output_type": "stream",
     "text": [
      "clump_thickness 1.09319768285e-13  not normal\n",
      "uniform_cellsize 5.16939373303e-25  not normal\n",
      "uniform_cellshape 4.56386742977e-23  not normal\n",
      "marginal_adhesion 1.09131646507e-35  not normal\n",
      "single_epithelial_cell_size 4.10003154282e-46  not normal\n",
      "bland_chromatin 1.58309640398e-21  not normal\n",
      "normal_nucleoli 2.24258690377e-31  not normal\n",
      "mitoses 1.26040671956e-112  not normal\n"
     ]
    },
    {
     "data": {
      "image/png": "[encoded data removed]",
      "text/plain": [
       "<matplotlib.figure.Figure at 0x11cb6a898>"
      ]
     },
     "metadata": {},
     "output_type": "display_data"
    }
   ],
   "source": [
    "\n",
    "\n",
    "for col in df.columns.drop(['class', 'bare_nuclei']): #initialize loop dropping outcome and object types cols\n",
    "    _,pval = stats.normaltest(df[col]) \n",
    "    if pval > .1:\n",
    "        print(col, pval)\n",
    "    else:\n",
    "        print(col, pval, \" not normal\")\n",
    "\n",
    "#assing parameters to histogram\n",
    "num_bins = 10\n",
    "df.hist(bins=num_bins, figsize=(20,15))\n",
    "\n",
    "#plot graphs\n",
    "plt.show()"
   ]
  },
  {
   "cell_type": "markdown",
   "metadata": {},
   "source": [
    "None of the data is gaussian and most have a pronounced right skew. I can use a normalcy test to confirm and I'll also plot the data on a violinplot to demonstrate the variance and medians of the data."
   ]
  },
  {
   "cell_type": "code",
   "execution_count": 679,
   "metadata": {},
   "outputs": [
    {
     "name": "stdout",
     "output_type": "stream",
     "text": [
      "clump_thickness 1.09319768285e-13  not normal\n",
      "uniform_cellsize 5.16939373303e-25  not normal\n",
      "uniform_cellshape 4.56386742977e-23  not normal\n",
      "marginal_adhesion 1.09131646507e-35  not normal\n",
      "single_epithelial_cell_size 4.10003154282e-46  not normal\n",
      "bland_chromatin 1.58309640398e-21  not normal\n",
      "normal_nucleoli 2.24258690377e-31  not normal\n",
      "mitoses 1.26040671956e-112  not normal\n"
     ]
    },
    {
     "data": {
      "image/png": "[encoded data removed]",
      "text/plain": [
       "<matplotlib.figure.Figure at 0x117cca320>"
      ]
     },
     "metadata": {},
     "output_type": "display_data"
    }
   ],
   "source": [
    "plt.figure(figsize=(20,15))\n",
    "i = 1\n",
    "for col in df.columns.drop(['class', 'bare_nuclei']):\n",
    "    plt.subplot(3,3,i)\n",
    "    sns.violinplot(x=\"class\", y=col, data=df, palette=\"Set3\")\n",
    "    i+= 1\n",
    "    \n",
    "    _,pval = stats.normaltest(df[col])\n",
    "    if pval > .05:\n",
    "        print(col, pval)\n",
    "    else:\n",
    "        print(col, pval, \" not normal\")\n",
    "plt.tight_layout()\n",
    "plt.show()"
   ]
  },
  {
   "cell_type": "markdown",
   "metadata": {},
   "source": [
    "The medians for all featueres, except mitosis, are higher for malignant cells than benign ones. Clump Thickness and Bland Chromatin have the most irregulary shaped data compared to the other features. It's important to note that the malignant cells have a greater variance than the benign cells; The min and max values, across all features, are associated with malignant cells. \n",
    "\n",
    "Our data isn't normally distrbuted, so we'll use a Mann Whitney U test to the null hypothesis: the distributions of both populations are equal. Also, our dataset is large enough that we can also run a t-test. These run quickly, so we'll do both."
   ]
  },
  {
   "cell_type": "code",
   "execution_count": 680,
   "metadata": {},
   "outputs": [
    {
     "name": "stdout",
     "output_type": "stream",
     "text": [
      "MW :  clump_thickness 1.26040671956e-112 Rejct Null\n",
      "pval :  clump_thickness 1.7753362123e-71 Reject Null\n",
      "MW :  uniform_cellsize 7.29250383846e-108 Rejct Null\n",
      "pval :  uniform_cellsize 4.40455598323e-112 Reject Null\n",
      "MW :  uniform_cellshape 8.92222628244e-168 Rejct Null\n",
      "pval :  uniform_cellshape 9.01200233712e-108 Reject Null\n",
      "MW :  marginal_adhesion 1.36942492293e-168 Rejct Null\n",
      "pval :  marginal_adhesion 5.19510052252e-83 Reject Null\n",
      "MW :  single_epithelial_cell_size 2.97977760901e-104 Rejct Null\n",
      "pval :  single_epithelial_cell_size 2.14375012842e-91 Reject Null\n",
      "MW :  bland_chromatin 4.73353974095e-98 Rejct Null\n",
      "pval :  bland_chromatin 1.62659725895e-84 Reject Null\n",
      "MW :  normal_nucleoli 1.26771179168e-128 Rejct Null\n",
      "pval :  normal_nucleoli 2.07946256123e-85 Reject Null\n",
      "MW :  mitoses 1.4656453681e-109 Rejct Null\n",
      "pval :  mitoses 1.87158455196e-43 Reject Null\n"
     ]
    }
   ],
   "source": [
    "#run mannwhitneyu\n",
    "b = df[df['class'] == 0]\n",
    "m = df[df['class'] == 1]\n",
    "\n",
    "for col in b.columns.drop(['class', 'bare_nuclei']):\n",
    " \n",
    "     _,val = stats.mannwhitneyu(b[col], m[col])\n",
    "     if val < .05:\n",
    "        print('MW : ',col, pval, \"Rejct Null\")\n",
    "     else:\n",
    "        print('MW : ',col, pval)\n",
    "        \n",
    "     _,pval = stats.ttest_ind(b[col], m[col])\n",
    "     if pval < .05:\n",
    "        print('pval : ',col, val,\"Reject Null\")\n",
    "     else:\n",
    "        print('pval : ',col, val)\n",
    "     \n"
   ]
  },
  {
   "cell_type": "markdown",
   "metadata": {},
   "source": [
    "All have p and u values that are essentialy 0. We can assume the distributions are not equal. We'll move on to feature correlations\n"
   ]
  },
  {
   "cell_type": "code",
   "execution_count": 681,
   "metadata": {},
   "outputs": [
    {
     "data": {
      "text/html": [
       "<div>\n",
       "<style scoped>\n",
       "    .dataframe tbody tr th:only-of-type {\n",
       "        vertical-align: middle;\n",
       "    }\n",
       "\n",
       "    .dataframe tbody tr th {\n",
       "        vertical-align: top;\n",
       "    }\n",
       "\n",
       "    .dataframe thead th {\n",
       "        text-align: right;\n",
       "    }\n",
       "</style>\n",
       "<table border=\"1\" class=\"dataframe\">\n",
       "  <thead>\n",
       "    <tr style=\"text-align: right;\">\n",
       "      <th></th>\n",
       "      <th>clump_thickness</th>\n",
       "      <th>uniform_cellsize</th>\n",
       "      <th>uniform_cellshape</th>\n",
       "      <th>marginal_adhesion</th>\n",
       "      <th>single_epithelial_cell_size</th>\n",
       "      <th>bland_chromatin</th>\n",
       "      <th>normal_nucleoli</th>\n",
       "      <th>mitoses</th>\n",
       "      <th>class</th>\n",
       "    </tr>\n",
       "  </thead>\n",
       "  <tbody>\n",
       "    <tr>\n",
       "      <th>clump_thickness</th>\n",
       "      <td>1.000000</td>\n",
       "      <td>0.642481</td>\n",
       "      <td>0.653470</td>\n",
       "      <td>0.487829</td>\n",
       "      <td>0.523596</td>\n",
       "      <td>0.553742</td>\n",
       "      <td>0.534066</td>\n",
       "      <td>0.350957</td>\n",
       "      <td>0.714790</td>\n",
       "    </tr>\n",
       "    <tr>\n",
       "      <th>uniform_cellsize</th>\n",
       "      <td>0.642481</td>\n",
       "      <td>1.000000</td>\n",
       "      <td>0.907228</td>\n",
       "      <td>0.706977</td>\n",
       "      <td>0.753544</td>\n",
       "      <td>0.755559</td>\n",
       "      <td>0.719346</td>\n",
       "      <td>0.460755</td>\n",
       "      <td>0.820801</td>\n",
       "    </tr>\n",
       "    <tr>\n",
       "      <th>uniform_cellshape</th>\n",
       "      <td>0.653470</td>\n",
       "      <td>0.907228</td>\n",
       "      <td>1.000000</td>\n",
       "      <td>0.685948</td>\n",
       "      <td>0.722462</td>\n",
       "      <td>0.735344</td>\n",
       "      <td>0.717963</td>\n",
       "      <td>0.441258</td>\n",
       "      <td>0.821891</td>\n",
       "    </tr>\n",
       "    <tr>\n",
       "      <th>marginal_adhesion</th>\n",
       "      <td>0.487829</td>\n",
       "      <td>0.706977</td>\n",
       "      <td>0.685948</td>\n",
       "      <td>1.000000</td>\n",
       "      <td>0.594548</td>\n",
       "      <td>0.668567</td>\n",
       "      <td>0.603121</td>\n",
       "      <td>0.418898</td>\n",
       "      <td>0.706294</td>\n",
       "    </tr>\n",
       "    <tr>\n",
       "      <th>single_epithelial_cell_size</th>\n",
       "      <td>0.523596</td>\n",
       "      <td>0.753544</td>\n",
       "      <td>0.722462</td>\n",
       "      <td>0.594548</td>\n",
       "      <td>1.000000</td>\n",
       "      <td>0.618128</td>\n",
       "      <td>0.628926</td>\n",
       "      <td>0.480583</td>\n",
       "      <td>0.690958</td>\n",
       "    </tr>\n",
       "    <tr>\n",
       "      <th>bland_chromatin</th>\n",
       "      <td>0.553742</td>\n",
       "      <td>0.755559</td>\n",
       "      <td>0.735344</td>\n",
       "      <td>0.668567</td>\n",
       "      <td>0.618128</td>\n",
       "      <td>1.000000</td>\n",
       "      <td>0.665602</td>\n",
       "      <td>0.346011</td>\n",
       "      <td>0.758228</td>\n",
       "    </tr>\n",
       "    <tr>\n",
       "      <th>normal_nucleoli</th>\n",
       "      <td>0.534066</td>\n",
       "      <td>0.719346</td>\n",
       "      <td>0.717963</td>\n",
       "      <td>0.603121</td>\n",
       "      <td>0.628926</td>\n",
       "      <td>0.665602</td>\n",
       "      <td>1.000000</td>\n",
       "      <td>0.433757</td>\n",
       "      <td>0.718677</td>\n",
       "    </tr>\n",
       "    <tr>\n",
       "      <th>mitoses</th>\n",
       "      <td>0.350957</td>\n",
       "      <td>0.460755</td>\n",
       "      <td>0.441258</td>\n",
       "      <td>0.418898</td>\n",
       "      <td>0.480583</td>\n",
       "      <td>0.346011</td>\n",
       "      <td>0.433757</td>\n",
       "      <td>1.000000</td>\n",
       "      <td>0.423448</td>\n",
       "    </tr>\n",
       "    <tr>\n",
       "      <th>class</th>\n",
       "      <td>0.714790</td>\n",
       "      <td>0.820801</td>\n",
       "      <td>0.821891</td>\n",
       "      <td>0.706294</td>\n",
       "      <td>0.690958</td>\n",
       "      <td>0.758228</td>\n",
       "      <td>0.718677</td>\n",
       "      <td>0.423448</td>\n",
       "      <td>1.000000</td>\n",
       "    </tr>\n",
       "  </tbody>\n",
       "</table>\n",
       "</div>"
      ],
      "text/plain": [
       "                             clump_thickness  uniform_cellsize  \\\n",
       "clump_thickness                     1.000000          0.642481   \n",
       "uniform_cellsize                    0.642481          1.000000   \n",
       "uniform_cellshape                   0.653470          0.907228   \n",
       "marginal_adhesion                   0.487829          0.706977   \n",
       "single_epithelial_cell_size         0.523596          0.753544   \n",
       "bland_chromatin                     0.553742          0.755559   \n",
       "normal_nucleoli                     0.534066          0.719346   \n",
       "mitoses                             0.350957          0.460755   \n",
       "class                               0.714790          0.820801   \n",
       "\n",
       "                             uniform_cellshape  marginal_adhesion  \\\n",
       "clump_thickness                       0.653470           0.487829   \n",
       "uniform_cellsize                      0.907228           0.706977   \n",
       "uniform_cellshape                     1.000000           0.685948   \n",
       "marginal_adhesion                     0.685948           1.000000   \n",
       "single_epithelial_cell_size           0.722462           0.594548   \n",
       "bland_chromatin                       0.735344           0.668567   \n",
       "normal_nucleoli                       0.717963           0.603121   \n",
       "mitoses                               0.441258           0.418898   \n",
       "class                                 0.821891           0.706294   \n",
       "\n",
       "                             single_epithelial_cell_size  bland_chromatin  \\\n",
       "clump_thickness                                 0.523596         0.553742   \n",
       "uniform_cellsize                                0.753544         0.755559   \n",
       "uniform_cellshape                               0.722462         0.735344   \n",
       "marginal_adhesion                               0.594548         0.668567   \n",
       "single_epithelial_cell_size                     1.000000         0.618128   \n",
       "bland_chromatin                                 0.618128         1.000000   \n",
       "normal_nucleoli                                 0.628926         0.665602   \n",
       "mitoses                                         0.480583         0.346011   \n",
       "class                                           0.690958         0.758228   \n",
       "\n",
       "                             normal_nucleoli   mitoses     class  \n",
       "clump_thickness                     0.534066  0.350957  0.714790  \n",
       "uniform_cellsize                    0.719346  0.460755  0.820801  \n",
       "uniform_cellshape                   0.717963  0.441258  0.821891  \n",
       "marginal_adhesion                   0.603121  0.418898  0.706294  \n",
       "single_epithelial_cell_size         0.628926  0.480583  0.690958  \n",
       "bland_chromatin                     0.665602  0.346011  0.758228  \n",
       "normal_nucleoli                     1.000000  0.433757  0.718677  \n",
       "mitoses                             0.433757  1.000000  0.423448  \n",
       "class                               0.718677  0.423448  1.000000  "
      ]
     },
     "execution_count": 681,
     "metadata": {},
     "output_type": "execute_result"
    }
   ],
   "source": [
    "#return correlations\n",
    "df.corr()"
   ]
  },
  {
   "cell_type": "code",
   "execution_count": 682,
   "metadata": {},
   "outputs": [
    {
     "data": {
      "image/png": "[encoded data removed]",
      "text/plain": [
       "<matplotlib.figure.Figure at 0x11c83d748>"
      ]
     },
     "metadata": {},
     "output_type": "display_data"
    }
   ],
   "source": [
    "#create correlation heatmap\n",
    "plt.figure(figsize=(10,6))\n",
    "sns.heatmap(df.corr())\n",
    "plt.show()"
   ]
  },
  {
   "cell_type": "markdown",
   "metadata": {},
   "source": [
    "Most of our features have similiar correlations to our outcomes. Cell Size and cell shape are virtually the same. We'll combind them into the same feature or drop one of them depending on how they perform with a simple model.\n",
    "\n"
   ]
  },
  {
   "cell_type": "code",
   "execution_count": 683,
   "metadata": {},
   "outputs": [
    {
     "name": "stdout",
     "output_type": "stream",
     "text": [
      "                   uniform_cellsize  uniform_cellshape  cell_size_shape  \\\n",
      "uniform_cellsize           1.000000           0.907228         0.977129   \n",
      "uniform_cellshape          0.907228           1.000000         0.975927   \n",
      "cell_size_shape            0.977129           0.975927         1.000000   \n",
      "class                      0.820801           0.821891         0.841075   \n",
      "\n",
      "                      class  \n",
      "uniform_cellsize   0.820801  \n",
      "uniform_cellshape  0.821891  \n",
      "cell_size_shape    0.841075  \n",
      "class              1.000000  \n"
     ]
    }
   ],
   "source": [
    "df_combined = df\n",
    "df_drop_shape = df.drop('uniform_cellshape' ,axis = 1)\n",
    "df_drop_size =df.drop('uniform_cellsize',axis =1)\n",
    "df_combined['cell_size_shape'] = (df['uniform_cellshape']+df['uniform_cellsize'])/2\n",
    "df_combined = df_combined.drop(['uniform_cellshape','uniform_cellsize'], axis =1)\n",
    "\n",
    "# Check how well the composite correlates with each of the individual variables.\n",
    "plotdf = df.loc[:, ['uniform_cellsize', 'uniform_cellshape', 'cell_size_shape','class']]\n",
    "\n",
    "corrmat2 = plotdf.corr()\n",
    "\n",
    "print(corrmat2)"
   ]
  },
  {
   "cell_type": "markdown",
   "metadata": {},
   "source": [
    "The new feature correlates well with their parent features."
   ]
  },
  {
   "cell_type": "markdown",
   "metadata": {},
   "source": [
    "## Data Modeling"
   ]
  },
  {
   "cell_type": "code",
   "execution_count": 684,
   "metadata": {},
   "outputs": [],
   "source": [
    "#Assign outcome(class) to Y and seperate from dataset\n",
    "y=df['class']\n",
    "X=df.loc[:, ~df.columns.isin(['class'])]\n",
    "\n",
    "#Assign outcome(class) to Y and seperate from dataset for cell shape/size feature datest\n",
    "y_com=df_combined['class']\n",
    "X_com=df_combined.loc[:, ~df_combined.columns.isin(['class'])]\n",
    "\n",
    "#Assign outcome(class) to Y and seperate from dataset for data with the size feature\n",
    "y_size=df_drop_shape['class']\n",
    "X_size=df_drop_shape.loc[:, ~df_drop_shape.columns.isin(['class'])]\n",
    "\n",
    "#Assign outcome(class) to Y and seperate from dataset for data with the shape feature\n",
    "y_shape=df_drop_size['class']\n",
    "X_shape=df_drop_size.loc[:, ~df_drop_size.columns.isin(['class'])]\n",
    "\n",
    "\n",
    "#train test split data for original dataset\n",
    "X_train, X_test, y_train, y_test = train_test_split(X, y,\n",
    "                                                  test_size = 0.30,\n",
    "                                                  random_state=123)\n",
    "#train test split data for shape/size dataset\n",
    "X_train_com, X_test_com, y_train_com, y_test_com = train_test_split(X_com, y_com,\n",
    "                                                  test_size = 0.30,\n",
    "                                                  random_state=123)\n",
    "#train test split data for the size only feature dataset\n",
    "X_train_size, X_test_size, y_train_size, y_test_size = train_test_split(X_size, y_size,\n",
    "                                                  test_size = 0.30,\n",
    "                                                  random_state=123)\n",
    "#train test split data for the shape only feature dataset\n",
    "X_train_shape, X_test_shape, y_train_shape, y_test_shape = train_test_split(X_shape, y_shape,\n",
    "                                                  test_size = 0.30,\n",
    "                                                  random_state=123)\n",
    "\n",
    "    \n"
   ]
  },
  {
   "cell_type": "code",
   "execution_count": 685,
   "metadata": {},
   "outputs": [
    {
     "name": "stdout",
     "output_type": "stream",
     "text": [
      "Cross Validation Accuracy Scores: 0.964(+/- 0.05)\n",
      "Cross Validation Accuracy Scores: 0.964(+/- 0.05)\n",
      "Cross Validation Accuracy Scores: 0.964(+/- 0.05)\n",
      "Cross Validation Accuracy Scores: 0.964(+/- 0.05)\n"
     ]
    }
   ],
   "source": [
    "#instantiate lr model\n",
    "lr= LogisticRegression()\n",
    "\n",
    "#fit and train original df\n",
    "lr.fit(X_train, y_train)\n",
    "y_pred= lr.predict(X_test)\n",
    "scores_lr = cross_val_score(lr, X_train, y_train, cv=10)\n",
    "print('Cross Validation Accuracy Scores: {:.3f}(+/- {:.2f})'.format(scores_lr.mean(), \n",
    "                                                                      scores_lr.std()*2))\n",
    "\n",
    "#fit and train combined df\n",
    "lr.fit(X_train_com, y_train_com)\n",
    "y_pred_com= lr.predict(X_test_com)\n",
    "scores_lr1 = cross_val_score(lr, X_train_com, y_train_com, cv=10)\n",
    "print('Cross Validation Accuracy Scores: {:.3f}(+/- {:.2f})'.format(scores_lr1.mean(), \n",
    "                                                                      scores_lr1.std()*2))\n",
    "\n",
    "#fit and train dropped shape df\n",
    "lr.fit(X_train_size, y_train_size)\n",
    "y_pred_size= lr.predict(X_test_size)\n",
    "scores_lr2 = cross_val_score(lr, X_train_size, y_train_size, cv=10)\n",
    "print('Cross Validation Accuracy Scores: {:.3f}(+/- {:.2f})'.format(scores_lr2.mean(), \n",
    "                                                                      scores_lr2.std()*2))\n",
    "\n",
    "#fit and train dropped size df\n",
    "lr.fit(X_train_shape, y_train_shape)\n",
    "y_pred_shape= lr.predict(X_test_shape)\n",
    "scores_lr3 = cross_val_score(lr, X_train_size, y_train_size, cv=10)\n",
    "print('Cross Validation Accuracy Scores: {:.3f}(+/- {:.2f})'.format(scores_lr3.mean(), \n",
    "                                                                      scores_lr3.std()*2))\n"
   ]
  },
  {
   "cell_type": "markdown",
   "metadata": {},
   "source": [
    "My model improves ever so slightly by dropping one of the size of shape features, or by including the combined variable. I'll use the model with the combined variable going forward.(df_combined)"
   ]
  },
  {
   "cell_type": "markdown",
   "metadata": {},
   "source": [
    "#### Further Feature reduction and Logistic Regression"
   ]
  },
  {
   "cell_type": "code",
   "execution_count": 686,
   "metadata": {},
   "outputs": [],
   "source": [
    "#drop outcome from shape/size df\n",
    "df_combined.drop('class', axis =1, inplace = True)"
   ]
  },
  {
   "cell_type": "code",
   "execution_count": 687,
   "metadata": {},
   "outputs": [
    {
     "name": "stdout",
     "output_type": "stream",
     "text": [
      "[ True False False  True  True  True  True  True]\n",
      "[1 2 3 1 1 1 1 1]\n",
      "Column names:\n",
      "['clump_thickness', 'marginal_adhesion', 'single_epithelial_cell_size', 'bare_nuclei', 'bland_chromatin', 'normal_nucleoli', 'mitoses', 'cell_size_shape']\n"
     ]
    }
   ],
   "source": [
    "#instantiate and fit Feature Reduction model\n",
    "rfe = RFE(model, 6)\n",
    "rfe = rfe.fit(X_com, y_com)\n",
    "print(rfe.support_)\n",
    "print(rfe.ranking_)\n",
    "\n",
    "#assign rankings to column_num variable and print\n",
    "column_num = rfe.ranking_\n",
    "#assing column name to col_names and print \n",
    "col_names =df_combined.columns.tolist()\n",
    "print(\"Column names:\")\n",
    "print(col_names)\n"
   ]
  },
  {
   "cell_type": "code",
   "execution_count": 688,
   "metadata": {},
   "outputs": [
    {
     "data": {
      "text/html": [
       "<div>\n",
       "<style scoped>\n",
       "    .dataframe tbody tr th:only-of-type {\n",
       "        vertical-align: middle;\n",
       "    }\n",
       "\n",
       "    .dataframe tbody tr th {\n",
       "        vertical-align: top;\n",
       "    }\n",
       "\n",
       "    .dataframe thead th {\n",
       "        text-align: right;\n",
       "    }\n",
       "</style>\n",
       "<table border=\"1\" class=\"dataframe\">\n",
       "  <thead>\n",
       "    <tr style=\"text-align: right;\">\n",
       "      <th></th>\n",
       "      <th>clump_thickness</th>\n",
       "      <th>bare_nuclei</th>\n",
       "      <th>bland_chromatin</th>\n",
       "      <th>normal_nucleoli</th>\n",
       "      <th>mitoses</th>\n",
       "      <th>cell_size_shape</th>\n",
       "    </tr>\n",
       "  </thead>\n",
       "  <tbody>\n",
       "    <tr>\n",
       "      <th>0</th>\n",
       "      <td>5</td>\n",
       "      <td>1</td>\n",
       "      <td>3</td>\n",
       "      <td>1</td>\n",
       "      <td>1</td>\n",
       "      <td>1.0</td>\n",
       "    </tr>\n",
       "    <tr>\n",
       "      <th>1</th>\n",
       "      <td>5</td>\n",
       "      <td>10</td>\n",
       "      <td>3</td>\n",
       "      <td>2</td>\n",
       "      <td>1</td>\n",
       "      <td>4.0</td>\n",
       "    </tr>\n",
       "    <tr>\n",
       "      <th>2</th>\n",
       "      <td>3</td>\n",
       "      <td>2</td>\n",
       "      <td>3</td>\n",
       "      <td>1</td>\n",
       "      <td>1</td>\n",
       "      <td>1.0</td>\n",
       "    </tr>\n",
       "    <tr>\n",
       "      <th>3</th>\n",
       "      <td>6</td>\n",
       "      <td>4</td>\n",
       "      <td>3</td>\n",
       "      <td>7</td>\n",
       "      <td>1</td>\n",
       "      <td>8.0</td>\n",
       "    </tr>\n",
       "    <tr>\n",
       "      <th>4</th>\n",
       "      <td>4</td>\n",
       "      <td>1</td>\n",
       "      <td>3</td>\n",
       "      <td>1</td>\n",
       "      <td>1</td>\n",
       "      <td>1.0</td>\n",
       "    </tr>\n",
       "  </tbody>\n",
       "</table>\n",
       "</div>"
      ],
      "text/plain": [
       "   clump_thickness bare_nuclei  bland_chromatin  normal_nucleoli  mitoses  \\\n",
       "0                5           1                3                1        1   \n",
       "1                5          10                3                2        1   \n",
       "2                3           2                3                1        1   \n",
       "3                6           4                3                7        1   \n",
       "4                4           1                3                1        1   \n",
       "\n",
       "   cell_size_shape  \n",
       "0              1.0  \n",
       "1              4.0  \n",
       "2              1.0  \n",
       "3              8.0  \n",
       "4              1.0  "
      ]
     },
     "execution_count": 688,
     "metadata": {},
     "output_type": "execute_result"
    }
   ],
   "source": [
    "#Turn the ranking above into a list and cut out features that aren't scored '1'\n",
    "\n",
    "#assign cols to an empty list\n",
    "cols = []\n",
    "#create a for loop that enumerates indexes and values\n",
    "for idx, val in enumerate(column_num):\n",
    "    if val == 1:\n",
    "        cols.append(idx)\n",
    "        \n",
    "        \n",
    "#use cols list to create new array of the features I want to keep\n",
    "X_slim=df_combined.iloc[:, cols]\n",
    "X_slim.head()"
   ]
  },
  {
   "cell_type": "code",
   "execution_count": 689,
   "metadata": {},
   "outputs": [
    {
     "name": "stdout",
     "output_type": "stream",
     "text": [
      "Cross Validation Accuracy Scores: 0.960(+/- 0.05)\n",
      "             precision    recall  f1-score   support\n",
      "\n",
      "          0       0.97      0.98      0.97       312\n",
      "          1       0.96      0.94      0.95       166\n",
      "\n",
      "avg / total       0.96      0.96      0.96       478\n",
      "\n"
     ]
    },
    {
     "data": {
      "image/png": "[encoded data removed]",
      "text/plain": [
       "<matplotlib.figure.Figure at 0x125d9e400>"
      ]
     },
     "metadata": {},
     "output_type": "display_data"
    }
   ],
   "source": [
    "\n",
    "#set train size to 70%/30% train/test because the dataset is small\n",
    "X_train, X_test, y_train, y_test = train_test_split(X_slim, y_com,\n",
    "                                                    test_size =0.30,\n",
    "                                                    random_state = 123)\n",
    "lr.fit(X_train, y_train)\n",
    "scores_lr = cross_val_score(lr, X_train, y_train, cv=10)\n",
    "print('Cross Validation Accuracy Scores: {:.3f}(+/- {:.2f})'.format(scores_lr.mean(), \n",
    "                                                                      scores_lr.std()*2))\n",
    "\n",
    "\n",
    "y_pred = lr.predict(X_train)\n",
    "lr_cm = metrics.confusion_matrix(y_pred, y_train, [1,0])\n",
    "sns.heatmap(lr_cm, annot=True, fmt='.2f')\n",
    "plt.ylabel('True class')\n",
    "plt.xlabel('Predicted class')\n",
    "plt.title('Logreg')\n",
    "plt.savefig('Logreg')\n",
    "print(classification_report(y_train, lr.predict(X_train)))"
   ]
  },
  {
   "cell_type": "markdown",
   "metadata": {},
   "source": [
    "This is looking pretty good. We can eliminate the marginal_adhesion and single_epithelial_cell_size features and still maintain the same accuracy across folds in our model.  We cut our original features from 9 down to 6 and we have a model that seems to be fairly well balanced.\n",
    "\n",
    "Next, we'll do some hyperparamter tuning with Randomized Search"
   ]
  },
  {
   "cell_type": "code",
   "execution_count": 690,
   "metadata": {},
   "outputs": [
    {
     "name": "stdout",
     "output_type": "stream",
     "text": [
      "Fitting 5 folds for each of 100 candidates, totalling 500 fits\n",
      "Best penalty: l2\n",
      "Best C: 0.907405814257\n",
      "Best solver: lbfgs\n"
     ]
    },
    {
     "name": "stderr",
     "output_type": "stream",
     "text": [
      "[Parallel(n_jobs=-1)]: Done 500 out of 500 | elapsed:    1.9s finished\n"
     ]
    }
   ],
   "source": [
    "# Create logistic regression\n",
    "logistic = LogisticRegression()\n",
    "\n",
    "# Create regularization penalty\n",
    "#penalty = ['l1', 'l2']\n",
    "\n",
    "# Create regularization hyperparameter distribution using uniform distribution\n",
    "C = uniform(loc=0, scale=4)\n",
    "\n",
    "#create solver hyperparameter\n",
    "solver = ['newton-cg', 'lbfgs', 'liblinear', 'sag', 'saga']\n",
    "\n",
    "# Create hyperparameter options\n",
    "hyperparameters = dict(C=C, solver = solver)\n",
    "\n",
    "# Create randomized search 5-fold cross validation and 25 iterations. Add verbosity for runtime\n",
    "clf = RandomizedSearchCV(logistic, hyperparameters, random_state=123, n_iter=100, cv=5, verbose=1, n_jobs=-1)\n",
    "\n",
    "# Fit randomized search\n",
    "best_model = clf.fit(X_train, y_train)\n",
    "\n",
    "# View best hyperparameters \n",
    "print('Best penalty:', best_model.best_estimator_.get_params()['penalty'])\n",
    "print('Best C:', best_model.best_estimator_.get_params()['C'])\n",
    "print('Best solver:', best_model.best_estimator_.get_params()['solver'])"
   ]
  },
  {
   "cell_type": "code",
   "execution_count": 691,
   "metadata": {},
   "outputs": [
    {
     "name": "stdout",
     "output_type": "stream",
     "text": [
      "Cross Validation Accuracy Scores: 0.962(+/- 0.05)\n",
      "             precision    recall  f1-score   support\n",
      "\n",
      "          0       0.97      0.98      0.97       312\n",
      "          1       0.96      0.94      0.95       166\n",
      "\n",
      "avg / total       0.96      0.96      0.96       478\n",
      "\n"
     ]
    },
    {
     "data": {
      "image/png": "[encoded data removed]",
      "text/plain": [
       "<matplotlib.figure.Figure at 0x1257aceb8>"
      ]
     },
     "metadata": {},
     "output_type": "display_data"
    }
   ],
   "source": [
    "lr1 = LogisticRegression(penalty = 'l2',\n",
    "                           C = 0.938051500729,\n",
    "                           solver = 'saga')\n",
    "lr1.fit(X_train, y_train)\n",
    "scores_lr1 = cross_val_score(lr1, X_train, y_train, cv=10)\n",
    "print('Cross Validation Accuracy Scores: {:.3f}(+/- {:.2f})'.format(scores_lr1.mean(), \n",
    "                                                                      scores_lr1.std()*2))\n",
    "\n",
    "y_pred = lr1.predict(X_train)\n",
    "lr1_cm = metrics.confusion_matrix(y_pred, y_train, [1,0])\n",
    "sns.heatmap(lr1_cm, annot=True, fmt='.2f')\n",
    "plt.ylabel('True class')\n",
    "plt.xlabel('Predicted class')\n",
    "plt.title('Random Forest')\n",
    "plt.savefig('Random Forest')\n",
    "print(classification_report(y_train, lr1.predict(X_train)))"
   ]
  },
  {
   "cell_type": "markdown",
   "metadata": {},
   "source": [
    "Hyperparameter tuning didn't affect the models accuracy. I'll stick with the original model. We'll try a Random Forest Classifier next."
   ]
  },
  {
   "cell_type": "markdown",
   "metadata": {},
   "source": [
    "#### Random Forest"
   ]
  },
  {
   "cell_type": "code",
   "execution_count": 692,
   "metadata": {},
   "outputs": [
    {
     "name": "stdout",
     "output_type": "stream",
     "text": [
      "Cross Validation Accuracy Scores: 0.958(+/- 0.06)\n",
      "             precision    recall  f1-score   support\n",
      "\n",
      "          0       1.00      0.99      1.00       312\n",
      "          1       0.99      0.99      0.99       166\n",
      "\n",
      "avg / total       0.99      0.99      0.99       478\n",
      "\n"
     ]
    },
    {
     "data": {
      "image/png": "[encoded data removed]",
      "text/plain": [
       "<matplotlib.figure.Figure at 0x125bd2748>"
      ]
     },
     "metadata": {},
     "output_type": "display_data"
    }
   ],
   "source": [
    "\n",
    "rf = RandomForestClassifier()\n",
    "rf.fit(X_train, y_train)\n",
    "scores_rf = cross_val_score(rf, X_train, y_train, cv=10)\n",
    "print('Cross Validation Accuracy Scores: {:.3f}(+/- {:.2f})'.format(scores_rf.mean(), \n",
    "                                                                      scores_rf.std()*2))\n",
    "\n",
    "y_pred = rf.predict(X_train)\n",
    "rf_cm = metrics.confusion_matrix(y_pred, y_train, [1,0])\n",
    "sns.heatmap(rf_cm, annot=True, fmt='.2f')\n",
    "plt.ylabel('True class')\n",
    "plt.xlabel('Predicted class')\n",
    "plt.title('Random Forest')\n",
    "plt.savefig('Random Forest')\n",
    "print(classification_report(y_train, rf.predict(X_train)))"
   ]
  },
  {
   "cell_type": "markdown",
   "metadata": {},
   "source": [
    "My Random Forest model performs quite well out of the box, but ideally we'd have no type 2 errors. Let's do a little tuning with Randomized Search. The dataset is rather small, so this should run quickly."
   ]
  },
  {
   "cell_type": "code",
   "execution_count": 693,
   "metadata": {},
   "outputs": [
    {
     "data": {
      "text/plain": [
       "{'bootstrap': True,\n",
       " 'class_weight': None,\n",
       " 'criterion': 'gini',\n",
       " 'max_depth': None,\n",
       " 'max_features': 'auto',\n",
       " 'max_leaf_nodes': None,\n",
       " 'min_impurity_decrease': 0.0,\n",
       " 'min_impurity_split': None,\n",
       " 'min_samples_leaf': 1,\n",
       " 'min_samples_split': 2,\n",
       " 'min_weight_fraction_leaf': 0.0,\n",
       " 'n_estimators': 10,\n",
       " 'n_jobs': 1,\n",
       " 'oob_score': False,\n",
       " 'random_state': None,\n",
       " 'verbose': 0,\n",
       " 'warm_start': False}"
      ]
     },
     "execution_count": 693,
     "metadata": {},
     "output_type": "execute_result"
    }
   ],
   "source": [
    "rf.get_params()"
   ]
  },
  {
   "cell_type": "code",
   "execution_count": 694,
   "metadata": {},
   "outputs": [
    {
     "name": "stdout",
     "output_type": "stream",
     "text": [
      "Fitting 10 folds for each of 100 candidates, totalling 1000 fits\n"
     ]
    },
    {
     "name": "stderr",
     "output_type": "stream",
     "text": [
      "[Parallel(n_jobs=-1)]: Done  76 tasks      | elapsed:    2.8s\n",
      "[Parallel(n_jobs=-1)]: Done 610 tasks      | elapsed:   14.1s\n"
     ]
    },
    {
     "name": "stdout",
     "output_type": "stream",
     "text": [
      "Best n_estimators: 56\n",
      "Best max_depth: 26\n",
      "Best min_samples_leaf: 9\n",
      "0.976987447699\n"
     ]
    },
    {
     "name": "stderr",
     "output_type": "stream",
     "text": [
      "[Parallel(n_jobs=-1)]: Done 1000 out of 1000 | elapsed:   24.3s finished\n"
     ]
    }
   ],
   "source": [
    "\n",
    "rf = RandomForestClassifier()\n",
    "rf.fit(X_train, y_train)\n",
    "\n",
    "# Create hyperparamater values\n",
    "n_estimators = np.arange(1,100,5)\n",
    "max_depth = np.arange(1, 30, 5)\n",
    "min_samples_leaf = np.arange(1, 20, 1)\n",
    "\n",
    "# Create hyperparameter options\n",
    "hyperparameters = dict(n_estimators=n_estimators,\n",
    "                       max_depth = max_depth,\n",
    "                       min_samples_leaf = min_samples_leaf)\n",
    "\n",
    "# Create randomized search 3-fold cross validation and 100 iterations. Add verbosity for runtime\n",
    "clf = RandomizedSearchCV(rf, hyperparameters, random_state=1, n_iter=100, cv=10, verbose=1, n_jobs =-1)\n",
    "# Fit randomized search\n",
    "best_model = clf.fit(X_train, y_train)\n",
    "\n",
    "# View best hyperparameters \n",
    "print('Best n_estimators:', best_model.best_estimator_.get_params()['n_estimators'])\n",
    "print('Best max_depth:', best_model.best_estimator_.get_params()['max_depth'])\n",
    "print('Best min_samples_leaf:', best_model.best_estimator_.get_params()['min_samples_leaf'])\n",
    "print(clf.best_score_)\n",
    "\n"
   ]
  },
  {
   "cell_type": "code",
   "execution_count": 695,
   "metadata": {},
   "outputs": [
    {
     "name": "stdout",
     "output_type": "stream",
     "text": [
      "Cross Validation Accuracy Scores: 0.967(+/- 0.04)\n",
      "             precision    recall  f1-score   support\n",
      "\n",
      "          0       0.99      0.97      0.98       312\n",
      "          1       0.95      0.98      0.97       166\n",
      "\n",
      "avg / total       0.98      0.98      0.98       478\n",
      "\n"
     ]
    },
    {
     "data": {
      "image/png": "[encoded data removed]",
      "text/plain": [
       "<matplotlib.figure.Figure at 0x1258001d0>"
      ]
     },
     "metadata": {},
     "output_type": "display_data"
    }
   ],
   "source": [
    "rf1 = RandomForestClassifier(n_estimators = 71,\n",
    "                           max_depth = 6,\n",
    "                           min_samples_leaf = 15)\n",
    "rf1.fit(X_train, y_train)\n",
    "scores_rf1 = cross_val_score(rf1, X_train, y_train, cv=10)\n",
    "print('Cross Validation Accuracy Scores: {:.3f}(+/- {:.2f})'.format(scores_rf1.mean(), \n",
    "                                                                      scores_rf1.std()*2))\n",
    "\n",
    "y_pred = rf1.predict(X_train)\n",
    "rf1_cm = metrics.confusion_matrix(y_pred, y_train, [1,0])\n",
    "sns.heatmap(rf1_cm, annot=True, fmt='.2f')\n",
    "plt.ylabel('True class')\n",
    "plt.xlabel('Predicted class')\n",
    "plt.title('Random Forest')\n",
    "plt.savefig('Random Forest')\n",
    "print(classification_report(y_train, rf1.predict(X_train)))"
   ]
  },
  {
   "cell_type": "code",
   "execution_count": 696,
   "metadata": {},
   "outputs": [
    {
     "data": {
      "text/plain": [
       "{'bootstrap': True,\n",
       " 'class_weight': None,\n",
       " 'criterion': 'gini',\n",
       " 'max_depth': 6,\n",
       " 'max_features': 'auto',\n",
       " 'max_leaf_nodes': None,\n",
       " 'min_impurity_decrease': 0.0,\n",
       " 'min_impurity_split': None,\n",
       " 'min_samples_leaf': 15,\n",
       " 'min_samples_split': 2,\n",
       " 'min_weight_fraction_leaf': 0.0,\n",
       " 'n_estimators': 71,\n",
       " 'n_jobs': 1,\n",
       " 'oob_score': False,\n",
       " 'random_state': None,\n",
       " 'verbose': 0,\n",
       " 'warm_start': False}"
      ]
     },
     "execution_count": 696,
     "metadata": {},
     "output_type": "execute_result"
    }
   ],
   "source": [
    "rf1.get_params()"
   ]
  },
  {
   "cell_type": "markdown",
   "metadata": {},
   "source": [
    "My model performs... worse? with tuning. Again, we'll stick with the original model. We'll try SVC next. "
   ]
  },
  {
   "cell_type": "markdown",
   "metadata": {},
   "source": [
    "#### Support Vector Classifier"
   ]
  },
  {
   "cell_type": "code",
   "execution_count": 697,
   "metadata": {},
   "outputs": [
    {
     "name": "stdout",
     "output_type": "stream",
     "text": [
      "Cross Validation Accuracy Scores: 0.960(+/- 0.06)\n",
      "             precision    recall  f1-score   support\n",
      "\n",
      "          0       1.00      0.99      0.99       312\n",
      "          1       0.98      0.99      0.99       166\n",
      "\n",
      "avg / total       0.99      0.99      0.99       478\n",
      "\n"
     ]
    },
    {
     "data": {
      "image/png": "[encoded data removed]",
      "text/plain": [
       "<matplotlib.figure.Figure at 0x125134160>"
      ]
     },
     "metadata": {},
     "output_type": "display_data"
    }
   ],
   "source": [
    "\n",
    "\n",
    "svc = SVC()\n",
    "svc.fit(X_train,y_train)\n",
    "scores_svc = cross_val_score(svc, X_train, y_train, cv=10)\n",
    "print('Cross Validation Accuracy Scores: {:.3f}(+/- {:.2f})'.format(scores_svc.mean(), \n",
    "                                                                      scores_svc.std()*2))\n",
    "\n",
    "y_pred = svc.predict(X_train)\n",
    "svc_cm = metrics.confusion_matrix(y_pred, y_train, [1,0])\n",
    "sns.heatmap(svc_cm, annot=True, fmt='.2f')\n",
    "plt.ylabel('True class')\n",
    "plt.xlabel('Predicted class')\n",
    "plt.title('Random Forest')\n",
    "plt.savefig('Random Forest')\n",
    "print(classification_report(y_train, svc.predict(X_train)))"
   ]
  },
  {
   "cell_type": "markdown",
   "metadata": {},
   "source": [
    "Again, SVC works very well out of the box. We only have one type 2 error. We'll see if we can have better luck with hyperparameter tuning."
   ]
  },
  {
   "cell_type": "code",
   "execution_count": 698,
   "metadata": {},
   "outputs": [
    {
     "name": "stdout",
     "output_type": "stream",
     "text": [
      "Fitting 5 folds for each of 100 candidates, totalling 500 fits\n"
     ]
    },
    {
     "name": "stderr",
     "output_type": "stream",
     "text": [
      "[Parallel(n_jobs=10)]: Done 120 tasks      | elapsed:    2.2s\n"
     ]
    },
    {
     "name": "stdout",
     "output_type": "stream",
     "text": [
      "Best kernel: linear\n",
      "Best C: 1.66808801881\n",
      "Best gamma: 0.9\n",
      "0.970711297071\n"
     ]
    },
    {
     "name": "stderr",
     "output_type": "stream",
     "text": [
      "[Parallel(n_jobs=10)]: Done 500 out of 500 | elapsed:    5.6s finished\n"
     ]
    }
   ],
   "source": [
    "# Create regularization hyperparameter distribution using uniform distribution\n",
    "C = uniform(loc=0, scale=4)\n",
    "\n",
    "# Create gamma hyperparameter\n",
    "gamma = np.arange(0.1, 1, 0.2)\n",
    "\n",
    "#create kernel hyperparameter\n",
    "kernel = [ 'linear', 'poly', 'rbf', 'sigmoid' ]\n",
    "\n",
    "# Create hyperparameter options\n",
    "hyperparameters = dict(C=C, kernel = kernel, gamma = gamma)\n",
    "\n",
    "# Create randomized search 5-fold cross validation and 10 iterations. Add verbosity for runtime\n",
    "clf = RandomizedSearchCV(svc, hyperparameters, random_state=1, n_iter=100, cv=5,n_jobs =10, verbose=1)\n",
    "\n",
    "# Fit randomized search\n",
    "best_model = clf.fit(X_train, y_train)\n",
    "\n",
    "# View best hyperparameters \n",
    "print('Best kernel:', best_model.best_estimator_.get_params()['kernel'])\n",
    "print('Best C:', best_model.best_estimator_.get_params()['C'])\n",
    "print('Best gamma:', best_model.best_estimator_.get_params()['gamma'])\n",
    "print(clf.best_score_)"
   ]
  },
  {
   "cell_type": "code",
   "execution_count": 699,
   "metadata": {},
   "outputs": [
    {
     "name": "stdout",
     "output_type": "stream",
     "text": [
      "Cross Validation Accuracy Scores: 0.971(+/- 0.04)\n",
      "             precision    recall  f1-score   support\n",
      "\n",
      "          0       0.97      0.98      0.98       312\n",
      "          1       0.96      0.95      0.95       166\n",
      "\n",
      "avg / total       0.97      0.97      0.97       478\n",
      "\n"
     ]
    },
    {
     "data": {
      "image/png": "[encoded data removed]",
      "text/plain": [
       "<matplotlib.figure.Figure at 0x126dc8940>"
      ]
     },
     "metadata": {},
     "output_type": "display_data"
    }
   ],
   "source": [
    "\n",
    "svc1 = SVC(kernel = 'linear',\n",
    "          C = 1.66808801881,\n",
    "          gamma = 0.9)\n",
    "svc1.fit(X_train,y_train)\n",
    "scores_svc1 = cross_val_score(svc1, X_train, y_train, cv=10)\n",
    "print('Cross Validation Accuracy Scores: {:.3f}(+/- {:.2f})'.format(scores_svc1.mean(), \n",
    "                                                                      scores_svc1.std()*2))\n",
    "\n",
    "y_pred = svc1.predict(X_train)\n",
    "svc1_cm = metrics.confusion_matrix(y_pred, y_train, [1,0])\n",
    "sns.heatmap(svc1_cm, annot=True, fmt='.2f')\n",
    "plt.ylabel('True class')\n",
    "plt.xlabel('Predicted class')\n",
    "plt.title('Random Forest')\n",
    "plt.savefig('Random Forest')\n",
    "print(classification_report(y_train, svc1.predict(X_train)))"
   ]
  },
  {
   "cell_type": "markdown",
   "metadata": {},
   "source": [
    "And again, all of my models got worse in respects to precision, recall, and f1. We'll use all of the vanilla models on the test data below."
   ]
  },
  {
   "cell_type": "markdown",
   "metadata": {},
   "source": [
    "### Precision and Recall"
   ]
  },
  {
   "cell_type": "markdown",
   "metadata": {},
   "source": [
    "#### Logistic Regression"
   ]
  },
  {
   "cell_type": "code",
   "execution_count": 700,
   "metadata": {},
   "outputs": [
    {
     "name": "stdout",
     "output_type": "stream",
     "text": [
      "Cross Validation Accuracy Scores: 0.966(+/- 0.08)\n",
      "             precision    recall  f1-score   support\n",
      "\n",
      "          0       0.97      0.98      0.98       132\n",
      "          1       0.97      0.95      0.96        73\n",
      "\n",
      "avg / total       0.97      0.97      0.97       205\n",
      "\n"
     ]
    },
    {
     "data": {
      "image/png": "[encoded data removed]",
      "text/plain": [
       "<matplotlib.figure.Figure at 0x11bd234e0>"
      ]
     },
     "metadata": {},
     "output_type": "display_data"
    }
   ],
   "source": [
    "scores_lr = cross_val_score(lr, X_test, y_test, cv=10)\n",
    "print('Cross Validation Accuracy Scores: {:.3f}(+/- {:.2f})'.format(scores_lr.mean(), \n",
    "                                                                      scores_lr.std()*2))\n",
    "\n",
    "y_pred = lr.predict(X_test)\n",
    "lr_cm = metrics.confusion_matrix(y_pred, y_test, [1,0])\n",
    "sns.heatmap(lr_cm, annot=True, fmt='.2f')\n",
    "plt.ylabel('True class')\n",
    "plt.xlabel('Predicted class')\n",
    "plt.title('LogReg')\n",
    "plt.savefig('LogReg')\n",
    "print(classification_report(y_test, lr.predict(X_test)))"
   ]
  },
  {
   "cell_type": "markdown",
   "metadata": {},
   "source": [
    "The logistic regression model does okay on the test data. Precision, recall, and f1 all go from .96 to .97. We still have twice as many type 2 erros as type one errors which is not ideal."
   ]
  },
  {
   "cell_type": "markdown",
   "metadata": {},
   "source": [
    "#### Random Forest"
   ]
  },
  {
   "cell_type": "code",
   "execution_count": 701,
   "metadata": {},
   "outputs": [
    {
     "name": "stdout",
     "output_type": "stream",
     "text": [
      "Cross Validation Accuracy Scores: 0.957(+/- 0.10)\n",
      "             precision    recall  f1-score   support\n",
      "\n",
      "          0       0.98      0.97      0.98       132\n",
      "          1       0.95      0.97      0.96        73\n",
      "\n",
      "avg / total       0.97      0.97      0.97       205\n",
      "\n"
     ]
    },
    {
     "data": {
      "image/png": "[encoded data removed]",
      "text/plain": [
       "<matplotlib.figure.Figure at 0x11c06e5c0>"
      ]
     },
     "metadata": {},
     "output_type": "display_data"
    }
   ],
   "source": [
    "scores_rf = cross_val_score(rf, X_test, y_test, cv=10)\n",
    "print('Cross Validation Accuracy Scores: {:.3f}(+/- {:.2f})'.format(scores_rf.mean(), \n",
    "                                                                      scores_rf.std()*2))\n",
    "\n",
    "y_pred = rf.predict(X_test)\n",
    "rf_cm = metrics.confusion_matrix(y_pred, y_test, [1,0])\n",
    "sns.heatmap(rf_cm, annot=True, fmt='.2f')\n",
    "plt.ylabel('True class')\n",
    "plt.xlabel('Predicted class')\n",
    "plt.title('Random Forest')\n",
    "plt.savefig('Random Forest')\n",
    "print(classification_report(y_test, rf.predict(X_test)))"
   ]
  },
  {
   "cell_type": "markdown",
   "metadata": {},
   "source": [
    "RFC performs fairly well on the test data as well. The Accuracy is slightly worse with a higher standard deviation, but the recall is better for our malignant outcomes. "
   ]
  },
  {
   "cell_type": "markdown",
   "metadata": {},
   "source": [
    "#### Support Vector Classification"
   ]
  },
  {
   "cell_type": "code",
   "execution_count": 797,
   "metadata": {},
   "outputs": [
    {
     "name": "stdout",
     "output_type": "stream",
     "text": [
      "Cross Validation Accuracy Scores: 0.961(+/- 0.07)\n",
      "             precision    recall  f1-score   support\n",
      "\n",
      "          0       0.99      0.98      0.98       132\n",
      "          1       0.96      0.99      0.97        73\n",
      "\n",
      "avg / total       0.98      0.98      0.98       205\n",
      "\n"
     ]
    },
    {
     "data": {
      "image/png": "[encoded data removed]",
      "text/plain": [
       "<matplotlib.figure.Figure at 0x10f7fb198>"
      ]
     },
     "metadata": {},
     "output_type": "display_data"
    }
   ],
   "source": [
    "scores_svc = cross_val_score(svc, X_test, y_test, cv=10)\n",
    "print('Cross Validation Accuracy Scores: {:.3f}(+/- {:.2f})'.format(scores_svc.mean(), \n",
    "                                                                      scores_svc.std()*2))\n",
    "\n",
    "y_pred = svc.predict(X_test)\n",
    "svc_cm = metrics.confusion_matrix(y_pred, y_test, [1,0])\n",
    "sns.heatmap(svc_cm, annot=True, fmt='.2f')\n",
    "plt.ylabel('True class')\n",
    "plt.xlabel('Predicted class')\n",
    "plt.title('Random Forest')\n",
    "plt.savefig('Random Forest')\n",
    "print(classification_report(y_test, svc.predict(X_test)))"
   ]
  },
  {
   "cell_type": "markdown",
   "metadata": {},
   "source": [
    "SVC is the clear winner. We have a tighter range on cross-validation folds and we only have one type 1 error. "
   ]
  },
  {
   "cell_type": "markdown",
   "metadata": {},
   "source": [
    "SVC doesn't make it easy to determine feature importance, so we'll look at feature importances of the RFC and Liner regression models."
   ]
  },
  {
   "cell_type": "code",
   "execution_count": 702,
   "metadata": {},
   "outputs": [
    {
     "name": "stdout",
     "output_type": "stream",
     "text": [
      "mitoses-0.73%\n",
      "clump_thickness-7.72%\n",
      "bland_chromatin-10.68%\n",
      "bare_nuclei-12.50%\n",
      "normal_nucleoli-12.73%\n",
      "cell_size_shape-55.63%\n"
     ]
    }
   ],
   "source": [
    "feature_labels = np.array(['clump_thickness','bare_nuclei','bland_chromatin','normal_nucleoli',\n",
    "                                    'mitoses','cell_size_shape'])\n",
    "importance = rf.feature_importances_\n",
    "feature_indexes_by_importance = importance.argsort()\n",
    "for index in feature_indexes_by_importance:\n",
    "    print('{}-{:.2f}%'.format(feature_labels[index], (importance[index] *100.0)))"
   ]
  },
  {
   "cell_type": "code",
   "execution_count": 796,
   "metadata": {},
   "outputs": [
    {
     "name": "stdout",
     "output_type": "stream",
     "text": [
      "Feature            Coef\n",
      "---------------  ------\n",
      "clump_thickness  0.2052\n",
      "bare_nuclei      0.3722\n",
      "bland_chromatin  0.1186\n",
      "normal_nucleoli  0.2894\n",
      "mitoses          0.1831\n",
      "cell_size_shape  0.3472\n"
     ]
    }
   ],
   "source": [
    "coef = lr.coef_.tolist()[0]\n",
    "col = X_train.columns.tolist()\n",
    "a = zip(col, coef)\n",
    "print (tabulate(a, headers=['Feature','Coef'], floatfmt=(\".4f\",\".4f\")))"
   ]
  },
  {
   "cell_type": "markdown",
   "metadata": {},
   "source": [
    "RFC had cell_size_shape as by far it's most important feature, but the linear regression model bare_nuclei has the largest coefficient and cell_size_shapeis a close second. This might explain why the Random Forest Classifier performed slightly better, at least in term of type 2 errors."
   ]
  },
  {
   "cell_type": "markdown",
   "metadata": {},
   "source": [
    "## Conclusion"
   ]
  },
  {
   "cell_type": "markdown",
   "metadata": {
    "collapsed": true
   },
   "source": [
    "SVC was the best model for this exercise: Classify whether a cell is cancerous or not. Our biggest concern is a large number of type 2 errors (False Negatives) that could be disastrous. The SVC model had an f-1 of .97 for the malignant class and still perfomed better than the Random Forest model for type 1 errors."
   ]
  },
  {
   "cell_type": "code",
   "execution_count": null,
   "metadata": {
    "collapsed": true
   },
   "outputs": [],
   "source": []
  }
 ],
 "metadata": {
  "kernelspec": {
   "display_name": "Python 3",
   "language": "python",
   "name": "python3"
  },
  "language_info": {
   "codemirror_mode": {
    "name": "ipython",
    "version": 3
   },
   "file_extension": ".py",
   "mimetype": "text/x-python",
   "name": "python",
   "nbconvert_exporter": "python",
   "pygments_lexer": "ipython3",
   "version": "3.6.3"
  }
 },
 "nbformat": 4,
 "nbformat_minor": 2
}
