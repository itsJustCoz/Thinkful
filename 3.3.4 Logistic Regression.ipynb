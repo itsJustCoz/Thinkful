{
 "cells": [
  {
   "cell_type": "code",
   "execution_count": 157,
   "metadata": {},
   "outputs": [],
   "source": [
    "import pandas as pd\n",
    "import numpy as np\n",
    "import warnings\n",
    "import statsmodels.formula.api as smf\n",
    "from scipy import stats\n",
    "\n",
    "\n",
    "\n",
    "\n",
    "# Suppress annoying harmless error.\n",
    "warnings.filterwarnings(\n",
    "    action=\"ignore\",\n",
    "    module=\"scipy\",\n",
    "    message=\"^internal gelsd\"\n",
    ")\n",
    "\n",
    "\n",
    "#import my different data sets.\n",
    "df = pd.read_csv('ny.csv')\n",
    "dfIL = pd.read_excel('illinois.xls', index = False)\n",
    "#Name columns and drop ones that are text or have significant NAs making them unusable. Illinios does\n",
    "\n",
    "\n",
    "df.columns = (['City', 'Population', 'ViolentCrime', 'Murder', 'Rape1', 'Rape', 'Robbery', 'AggravatedAssault',\n",
    "               'PropertyCrime', 'Burglary', 'Larceny', 'MVTheft', 'Arson'])\n",
    "\n",
    "df = df.drop(['City', 'Rape1' ], axis=1)\n",
    "\n",
    "dfIL.columns = (['City', 'Population', 'ViolentCrime', 'Murder', 'Rape1', 'Rape', 'Robbery', 'AggravatedAssault',\n",
    "               'PropertyCrime', 'Burglary', 'Larceny', 'MVTheft', 'Arson'])\n",
    "\n",
    "dfIL = dfIL.drop(['City', 'Rape1'], axis=1)\n",
    "\n",
    "\n",
    "#Drop na's at the end\n",
    "df = df.dropna(subset = ['Population'])\n",
    "dfIL = dfIL.dropna(subset = ['Population'])\n",
    "\n",
    "\n",
    "\n",
    "#Drop weird header data\n",
    "df = df.iloc[4:]\n",
    "dfIL = dfIL.iloc[4:]\n",
    "\n",
    "\n",
    "\n",
    "\n"
   ]
  },
  {
   "cell_type": "code",
   "execution_count": 158,
   "metadata": {},
   "outputs": [],
   "source": [
    "#Clean data in a more pythonic way\n",
    "import math\n",
    "df.fillna(0, inplace = True)\n",
    "dfIL.fillna(0, inplace = True)\n",
    "\n",
    "#function to strip and convert vales to floats\n",
    "def fix(df):\n",
    "    for col in df.columns:\n",
    "        df[col]= df[col].apply(lambda x: str(x).replace(',', ''))\n",
    "        df[col]= df[col].apply(lambda x: str(x).strip())\n",
    "        df[col]= df[col].apply(lambda x: float(x))\n",
    "        \n",
    "#Fix data    \n",
    "fix(df)\n",
    "fix(dfIL)\n",
    "\n",
    "df['State'] = 'NY'\n",
    "dfIL['State'] = 'IL'\n",
    "\n",
    "df = pd.concat([df, dfIL])"
   ]
  },
  {
   "cell_type": "code",
   "execution_count": 159,
   "metadata": {},
   "outputs": [
    {
     "data": {
      "text/html": [
       "<div>\n",
       "<style scoped>\n",
       "    .dataframe tbody tr th:only-of-type {\n",
       "        vertical-align: middle;\n",
       "    }\n",
       "\n",
       "    .dataframe tbody tr th {\n",
       "        vertical-align: top;\n",
       "    }\n",
       "\n",
       "    .dataframe thead th {\n",
       "        text-align: right;\n",
       "    }\n",
       "</style>\n",
       "<table border=\"1\" class=\"dataframe\">\n",
       "  <thead>\n",
       "    <tr style=\"text-align: right;\">\n",
       "      <th></th>\n",
       "      <th>Population</th>\n",
       "      <th>ViolentCrime</th>\n",
       "      <th>Murder</th>\n",
       "      <th>Rape</th>\n",
       "      <th>Robbery</th>\n",
       "      <th>AggravatedAssault</th>\n",
       "      <th>PropertyCrime</th>\n",
       "      <th>Burglary</th>\n",
       "      <th>Larceny</th>\n",
       "      <th>MVTheft</th>\n",
       "      <th>Arson</th>\n",
       "      <th>State</th>\n",
       "    </tr>\n",
       "  </thead>\n",
       "  <tbody>\n",
       "    <tr>\n",
       "      <th>350</th>\n",
       "      <td>199134.0</td>\n",
       "      <td>1036.0</td>\n",
       "      <td>6.0</td>\n",
       "      <td>25.0</td>\n",
       "      <td>390.0</td>\n",
       "      <td>615.0</td>\n",
       "      <td>2368.0</td>\n",
       "      <td>470.0</td>\n",
       "      <td>1662.0</td>\n",
       "      <td>236.0</td>\n",
       "      <td>10.0</td>\n",
       "      <td>NY</td>\n",
       "    </tr>\n",
       "    <tr>\n",
       "      <th>21</th>\n",
       "      <td>200551.0</td>\n",
       "      <td>601.0</td>\n",
       "      <td>4.0</td>\n",
       "      <td>53.0</td>\n",
       "      <td>119.0</td>\n",
       "      <td>425.0</td>\n",
       "      <td>2972.0</td>\n",
       "      <td>576.0</td>\n",
       "      <td>2285.0</td>\n",
       "      <td>111.0</td>\n",
       "      <td>20.0</td>\n",
       "      <td>IL</td>\n",
       "    </tr>\n",
       "    <tr>\n",
       "      <th>276</th>\n",
       "      <td>210562.0</td>\n",
       "      <td>2107.0</td>\n",
       "      <td>42.0</td>\n",
       "      <td>92.0</td>\n",
       "      <td>918.0</td>\n",
       "      <td>1055.0</td>\n",
       "      <td>10051.0</td>\n",
       "      <td>2587.0</td>\n",
       "      <td>6855.0</td>\n",
       "      <td>609.0</td>\n",
       "      <td>132.0</td>\n",
       "      <td>NY</td>\n",
       "    </tr>\n",
       "    <tr>\n",
       "      <th>39</th>\n",
       "      <td>258789.0</td>\n",
       "      <td>3249.0</td>\n",
       "      <td>47.0</td>\n",
       "      <td>145.0</td>\n",
       "      <td>1322.0</td>\n",
       "      <td>1735.0</td>\n",
       "      <td>12491.0</td>\n",
       "      <td>3458.0</td>\n",
       "      <td>8076.0</td>\n",
       "      <td>957.0</td>\n",
       "      <td>0.0</td>\n",
       "      <td>NY</td>\n",
       "    </tr>\n",
       "  </tbody>\n",
       "</table>\n",
       "</div>"
      ],
      "text/plain": [
       "     Population  ViolentCrime  Murder   Rape  Robbery  AggravatedAssault  \\\n",
       "350    199134.0        1036.0     6.0   25.0    390.0              615.0   \n",
       "21     200551.0         601.0     4.0   53.0    119.0              425.0   \n",
       "276    210562.0        2107.0    42.0   92.0    918.0             1055.0   \n",
       "39     258789.0        3249.0    47.0  145.0   1322.0             1735.0   \n",
       "\n",
       "     PropertyCrime  Burglary  Larceny  MVTheft  Arson State  \n",
       "350         2368.0     470.0   1662.0    236.0   10.0    NY  \n",
       "21          2972.0     576.0   2285.0    111.0   20.0    IL  \n",
       "276        10051.0    2587.0   6855.0    609.0  132.0    NY  \n",
       "39         12491.0    3458.0   8076.0    957.0    0.0    NY  "
      ]
     },
     "execution_count": 159,
     "metadata": {},
     "output_type": "execute_result"
    }
   ],
   "source": [
    "#Drop NY and Chicago. \n",
    "df.drop(df[df.Population > 1000000].index, inplace=True)\n",
    "df.sort_values('Population').tail(4)"
   ]
  },
  {
   "cell_type": "code",
   "execution_count": 160,
   "metadata": {},
   "outputs": [],
   "source": [
    "#Enhance\n",
    "columns = (['Population', 'ViolentCrime', 'Murder', 'Rape', 'Robbery', 'AggravatedAssault',\n",
    "               'PropertyCrime', 'Burglary', 'Larceny', 'MVTheft', 'Arson'])\n",
    "for col in columns:\n",
    "    df[col] = df[col].apply(lambda x: 1 if x <1 else x)\n",
    "df.head(5)\n",
    "\n",
    "#Transform data\n",
    "df['PopulationLog'] = np.log(df['Population'])\n",
    "df['ViolentCrimeLog'] = np.log(df['ViolentCrime'])\n",
    "df['MurderLog'] = np.log(df['Murder'])\n",
    "df['BurglaryLog'] = np.log(df['Burglary'])\n",
    "df['LarcenyLog'] = np.log(df['Larceny'])\n",
    "\n",
    "#Transform and define class column\n",
    "#Using a 0 as low crime and 1 as high crime (threshold is the median)\n",
    "df['PropertyCrime'] = df['PropertyCrime'].apply(lambda x: 0 if x < 114 else 1)\n",
    "#split databack to NY and IL \n",
    "dfIL = df.loc[df['State'] == 'IL']\n",
    "dfNY = df.loc[df['State'] == 'NY']\n",
    "\n",
    "y_IL = dfIL['PropertyCrime']\n",
    "y_NY = dfNY['PropertyCrime']\n",
    "dfIL = dfIL.drop(['PropertyCrime', 'State' ], axis=1)\n",
    "dfNY = dfNY.drop(['PropertyCrime', 'State' ], axis=1)\n"
   ]
  },
  {
   "cell_type": "code",
   "execution_count": 161,
   "metadata": {
    "collapsed": true
   },
   "outputs": [],
   "source": [
    "# Create training and test sets\n",
    "X_train = dfNY\n",
    "X_test = dfIL\n",
    "y_train = y_NY\n",
    "y_test = y_IL\n"
   ]
  },
  {
   "cell_type": "code",
   "execution_count": null,
   "metadata": {},
   "outputs": [],
   "source": []
  },
  {
   "cell_type": "markdown",
   "metadata": {},
   "source": [
    "## Logistic Regression"
   ]
  },
  {
   "cell_type": "code",
   "execution_count": 162,
   "metadata": {
    "collapsed": true
   },
   "outputs": [],
   "source": [
    "# Import model\n",
    "from sklearn.linear_model import LogisticRegression\n",
    "from sklearn.model_selection import cross_val_score"
   ]
  },
  {
   "cell_type": "code",
   "execution_count": 163,
   "metadata": {},
   "outputs": [
    {
     "name": "stdout",
     "output_type": "stream",
     "text": [
      "Coefficient\n",
      "[[  2.12009357e-05   5.04982559e-02  -9.25377860e-02  -7.66275882e-02\n",
      "   -4.36145638e-02  -4.02407277e-02   8.27619529e-02   6.41689848e-02\n",
      "    4.23801540e-02  -9.06488028e-02  -7.03253296e-01  -2.01719651e-02\n",
      "    1.36532403e-04  -1.14356464e-01  -2.65666416e-01]]\n",
      "[-0.09273953]\n",
      "\n",
      "Accuracy of Low/High Crime\n",
      "PropertyCrime    0    1\n",
      "row_0                  \n",
      "0              250    8\n",
      "1                2  241\n",
      "\n",
      "Percentage accuracy\n",
      "[ 0.99009901  1.          0.99        0.99        0.95959596]\n",
      "Mean: 0.985938993899\n"
     ]
    }
   ],
   "source": [
    "# Instantiate and set regularization coefficient to high\n",
    "lr = LogisticRegression(C=1e9)\n",
    "\n",
    "\n",
    "# Fit model\n",
    "fit = lr.fit(X_train, y_train)\n",
    "\n",
    "# Get results\n",
    "print('Coefficient')\n",
    "coef = fit.coef_\n",
    "print(coef)\n",
    "print(fit.intercept_)\n",
    "\n",
    "# Get predictions\n",
    "pred_y = lr.predict(X_test)\n",
    "\n",
    "print('\\nAccuracy of Low/High Crime')\n",
    "print(pd.crosstab(pred_y, y_test))\n",
    "\n",
    "lr_scores = cross_val_score(lr, X_test, y_test, cv=5)\n",
    "print('\\nPercentage accuracy')\n",
    "print(lr_scores)\n",
    "print('Mean:', lr_scores.mean())"
   ]
  },
  {
   "cell_type": "markdown",
   "metadata": {},
   "source": [
    "Logistic Classification produces only 8 false positives and 2 false negatives from 500 rows. The accuracy holds rather well with the exception of the last fold."
   ]
  },
  {
   "cell_type": "markdown",
   "metadata": {},
   "source": [
    "## Ridge Logistic Regression"
   ]
  },
  {
   "cell_type": "code",
   "execution_count": 164,
   "metadata": {},
   "outputs": [],
   "source": [
    "# Generate range of alpha values\n",
    "alphas = np.arange(0.1, 10, 1)\n",
    "lr_ridge = LogisticRegression(penalty='l2')\n",
    "ridge_r_squared = []\n",
    "\n",
    "# Train/test with different alphas\n",
    "for a in alphas:\n",
    "    lr_ridge.set_params(C=a, fit_intercept=False)\n",
    "    lr_ridge.fit(X_train, y_train)\n",
    "    y_pred = lr_ridge.predict(X_test)\n",
    "    ridge_r_squared.append(lr_ridge.score(X_test, y_test))"
   ]
  },
  {
   "cell_type": "code",
   "execution_count": 165,
   "metadata": {},
   "outputs": [
    {
     "data": {
      "text/plain": [
       "[0.98003992015968067,\n",
       " 0.98003992015968067,\n",
       " 0.98003992015968067,\n",
       " 0.98003992015968067,\n",
       " 0.98003992015968067,\n",
       " 0.98003992015968067,\n",
       " 0.98003992015968067,\n",
       " 0.98003992015968067,\n",
       " 0.98003992015968067,\n",
       " 0.98003992015968067]"
      ]
     },
     "execution_count": 165,
     "metadata": {},
     "output_type": "execute_result"
    }
   ],
   "source": [
    "# Get values\n",
    "ridge_r_squared\n",
    "#Why are all my r2's the same?"
   ]
  },
  {
   "cell_type": "code",
   "execution_count": 166,
   "metadata": {},
   "outputs": [
    {
     "name": "stdout",
     "output_type": "stream",
     "text": [
      "Coefficient\n",
      "[[  1.64578284e-05   4.88358350e-02  -8.93850053e-02  -7.40533677e-02\n",
      "   -4.21861359e-02  -3.84152048e-02   7.88506877e-02   6.15930135e-02\n",
      "    3.97926467e-02  -8.75623915e-02  -6.79090898e-01  -1.94607590e-02\n",
      "    1.29590302e-04  -1.10243090e-01  -2.56242785e-01]]\n",
      "0.0\n",
      "\n",
      "Accuracy by Low/High Crime\n",
      "PropertyCrime    0    1\n",
      "row_0                  \n",
      "0              250    8\n",
      "1                2  241\n",
      "\n",
      "Percentage accuracy\n",
      "[ 0.99009901  1.          0.99        0.99        0.96969697]\n",
      "Mean: 0.98795919592\n"
     ]
    }
   ],
   "source": [
    "# Instantiate and set regularization coefficient \n",
    "lr_ridge = LogisticRegression(penalty='l2', C=0.1, fit_intercept=False)\n",
    "#Performs slightly better with l2 instead of l1\n",
    "\n",
    "# Fit model\n",
    "lr_ridge.fit(X_train, y_train)\n",
    "\n",
    "# Get results\n",
    "print('Coefficient')\n",
    "print(lr_ridge.coef_)\n",
    "print(lr_ridge.intercept_)\n",
    "\n",
    "# Get predictions\n",
    "pred_y_r = lr_ridge.predict(X_test)\n",
    "\n",
    "print('\\nAccuracy by Low/High Crime')\n",
    "print(pd.crosstab(pred_y_r, y_test))\n",
    "\n",
    "ridge_scores = cross_val_score(lr_ridge, X_test, y_test, cv=5)\n",
    "print('\\nPercentage accuracy')\n",
    "print(ridge_scores)\n",
    "print('Mean:', ridge_scores.mean())"
   ]
  },
  {
   "cell_type": "markdown",
   "metadata": {},
   "source": [
    "The number of errors is consistent, my accuracy went up slightly(how?) as did the performance across folds."
   ]
  },
  {
   "cell_type": "markdown",
   "metadata": {},
   "source": [
    "### LASSO Logistic Regression\n"
   ]
  },
  {
   "cell_type": "code",
   "execution_count": 167,
   "metadata": {
    "collapsed": true
   },
   "outputs": [],
   "source": [
    "# Generate range of alphas\n",
    "alphas = np.arange(0.01, 1, 0.1)\n",
    "lr_lasso = LogisticRegression(penalty='l2')\n",
    "#Again l2 performs better than l1\n",
    "lasso_r_squared = []\n",
    "\n",
    "# Train model with different regularization values\n",
    "for a in alphas:\n",
    "    lr_lasso.set_params(C=a, fit_intercept=False)\n",
    "    lr_lasso.fit(X_train, y_train)\n",
    "    y_pred = lr_lasso.predict(X_test)\n",
    "    lasso_r_squared.append(lr_lasso.score(X_test, y_test))"
   ]
  },
  {
   "cell_type": "code",
   "execution_count": 168,
   "metadata": {},
   "outputs": [
    {
     "data": {
      "text/plain": [
       "[0.98602794411177641,\n",
       " 0.98003992015968067,\n",
       " 0.98003992015968067,\n",
       " 0.98003992015968067,\n",
       " 0.98003992015968067,\n",
       " 0.98003992015968067,\n",
       " 0.98003992015968067,\n",
       " 0.98003992015968067,\n",
       " 0.98003992015968067,\n",
       " 0.98003992015968067]"
      ]
     },
     "execution_count": 168,
     "metadata": {},
     "output_type": "execute_result"
    }
   ],
   "source": [
    "# Get values\n",
    "lasso_r_squared"
   ]
  },
  {
   "cell_type": "code",
   "execution_count": 169,
   "metadata": {},
   "outputs": [
    {
     "name": "stdout",
     "output_type": "stream",
     "text": [
      "Coefficient\n",
      "[[ -1.14518072e-05   2.80233478e-02  -5.38823713e-02  -4.57595809e-02\n",
      "   -2.21077679e-02  -2.10519708e-02   4.38965202e-02   4.05173926e-02\n",
      "    5.89818439e-03  -5.27797499e-02  -4.09779555e-01  -1.28688373e-02\n",
      "    1.13637578e-04  -6.31342569e-02  -1.49538664e-01]]\n",
      "[-0.05405021]\n",
      "\n",
      "Accuracy by Low/High Crime\n",
      "PropertyCrime    0    1\n",
      "row_0                  \n",
      "0              250    5\n",
      "1                2  244\n",
      "\n",
      "Percentage accuracy\n",
      "[ 0.98019802  1.          1.          0.99        0.94949495]\n",
      "Mean: 0.983938593859\n"
     ]
    }
   ],
   "source": [
    "# Instantiate and set regularization coefficient to .01\n",
    "lr_lasso = LogisticRegression(penalty='l2', C=.01)\n",
    "\n",
    "# Fit model\n",
    "lr_lasso.fit(X_train, y_train)\n",
    "\n",
    "# Get results\n",
    "print('Coefficient')\n",
    "print(lr_lasso.coef_)\n",
    "print(lr_lasso.intercept_)\n",
    "\n",
    "# Get predictions\n",
    "pred_y_l = lr_lasso.predict(X_test)\n",
    "\n",
    "print('\\nAccuracy by Low/High Crime')\n",
    "print(pd.crosstab(pred_y_l, y_test))\n",
    "\n",
    "lasso_scores = cross_val_score(lr_lasso, X_test, y_test, cv=5)\n",
    "print('\\nPercentage accuracy')\n",
    "print(lasso_scores)\n",
    "print('Mean:', lasso_scores.mean())"
   ]
  },
  {
   "cell_type": "markdown",
   "metadata": {},
   "source": [
    "Suprisingly, the accuracy goes down slightly, but the number of type 1 erros drops by 3, and the last fold performs worse than the other models, which makes no sense."
   ]
  },
  {
   "cell_type": "markdown",
   "metadata": {},
   "source": [
    "I would choose the Lasso Regression model. It reduced my false positives and having worked with this dataset, I know some of the variables didnt correlate very well with the outcome and I would prefer to reduce the number of features in my model as much as I can."
   ]
  },
  {
   "cell_type": "code",
   "execution_count": null,
   "metadata": {
    "collapsed": true
   },
   "outputs": [],
   "source": []
  }
 ],
 "metadata": {
  "kernelspec": {
   "display_name": "Python 3",
   "language": "python",
   "name": "python3"
  },
  "language_info": {
   "codemirror_mode": {
    "name": "ipython",
    "version": 3
   },
   "file_extension": ".py",
   "mimetype": "text/x-python",
   "name": "python",
   "nbconvert_exporter": "python",
   "pygments_lexer": "ipython3",
   "version": "3.6.3"
  }
 },
 "nbformat": 4,
 "nbformat_minor": 2
}
