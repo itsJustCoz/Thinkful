{
 "cells": [
  {
   "cell_type": "code",
   "execution_count": 1509,
   "metadata": {},
   "outputs": [
    {
     "data": {
      "text/html": [
       "<div>\n",
       "<style scoped>\n",
       "    .dataframe tbody tr th:only-of-type {\n",
       "        vertical-align: middle;\n",
       "    }\n",
       "\n",
       "    .dataframe tbody tr th {\n",
       "        vertical-align: top;\n",
       "    }\n",
       "\n",
       "    .dataframe thead th {\n",
       "        text-align: right;\n",
       "    }\n",
       "</style>\n",
       "<table border=\"1\" class=\"dataframe\">\n",
       "  <thead>\n",
       "    <tr style=\"text-align: right;\">\n",
       "      <th></th>\n",
       "      <th>City</th>\n",
       "      <th>Population</th>\n",
       "      <th>Violent Crime</th>\n",
       "      <th>Murder</th>\n",
       "      <th>Rape1</th>\n",
       "      <th>Rape</th>\n",
       "      <th>Robbery</th>\n",
       "      <th>Aggravated Assault</th>\n",
       "      <th>PropertyCrime</th>\n",
       "      <th>Burglary</th>\n",
       "      <th>Larceny</th>\n",
       "      <th>MV Theft</th>\n",
       "      <th>Arson</th>\n",
       "    </tr>\n",
       "  </thead>\n",
       "  <tbody>\n",
       "    <tr>\n",
       "      <th>7</th>\n",
       "      <td>Albany</td>\n",
       "      <td>97,956</td>\n",
       "      <td>791</td>\n",
       "      <td>8</td>\n",
       "      <td>NaN</td>\n",
       "      <td>30</td>\n",
       "      <td>227</td>\n",
       "      <td>526</td>\n",
       "      <td>4,090</td>\n",
       "      <td>705</td>\n",
       "      <td>3,243</td>\n",
       "      <td>142</td>\n",
       "      <td>NaN</td>\n",
       "    </tr>\n",
       "    <tr>\n",
       "      <th>8</th>\n",
       "      <td>Albion Village</td>\n",
       "      <td>6,388</td>\n",
       "      <td>23</td>\n",
       "      <td>0</td>\n",
       "      <td>NaN</td>\n",
       "      <td>3</td>\n",
       "      <td>4</td>\n",
       "      <td>16</td>\n",
       "      <td>223</td>\n",
       "      <td>53</td>\n",
       "      <td>165</td>\n",
       "      <td>5</td>\n",
       "      <td>NaN</td>\n",
       "    </tr>\n",
       "    <tr>\n",
       "      <th>9</th>\n",
       "      <td>Alfred Village</td>\n",
       "      <td>4,089</td>\n",
       "      <td>5</td>\n",
       "      <td>0</td>\n",
       "      <td>NaN</td>\n",
       "      <td>0</td>\n",
       "      <td>3</td>\n",
       "      <td>2</td>\n",
       "      <td>46</td>\n",
       "      <td>10</td>\n",
       "      <td>36</td>\n",
       "      <td>0</td>\n",
       "      <td>NaN</td>\n",
       "    </tr>\n",
       "    <tr>\n",
       "      <th>10</th>\n",
       "      <td>Allegany Village</td>\n",
       "      <td>1,781</td>\n",
       "      <td>3</td>\n",
       "      <td>0</td>\n",
       "      <td>NaN</td>\n",
       "      <td>0</td>\n",
       "      <td>0</td>\n",
       "      <td>3</td>\n",
       "      <td>10</td>\n",
       "      <td>0</td>\n",
       "      <td>10</td>\n",
       "      <td>0</td>\n",
       "      <td>0</td>\n",
       "    </tr>\n",
       "    <tr>\n",
       "      <th>11</th>\n",
       "      <td>Amherst Town</td>\n",
       "      <td>118,296</td>\n",
       "      <td>107</td>\n",
       "      <td>1</td>\n",
       "      <td>NaN</td>\n",
       "      <td>7</td>\n",
       "      <td>31</td>\n",
       "      <td>68</td>\n",
       "      <td>2,118</td>\n",
       "      <td>204</td>\n",
       "      <td>1,882</td>\n",
       "      <td>32</td>\n",
       "      <td>3</td>\n",
       "    </tr>\n",
       "  </tbody>\n",
       "</table>\n",
       "</div>"
      ],
      "text/plain": [
       "                City Population Violent Crime Murder Rape1 Rape Robbery  \\\n",
       "7             Albany     97,956           791      8   NaN   30     227   \n",
       "8     Albion Village      6,388            23      0   NaN    3       4   \n",
       "9     Alfred Village      4,089             5      0   NaN    0       3   \n",
       "10  Allegany Village      1,781             3      0   NaN    0       0   \n",
       "11      Amherst Town    118,296           107      1   NaN    7      31   \n",
       "\n",
       "   Aggravated Assault PropertyCrime Burglary Larceny MV Theft Arson  \n",
       "7                 526         4,090      705   3,243      142   NaN  \n",
       "8                  16           223       53     165        5   NaN  \n",
       "9                   2            46       10      36        0   NaN  \n",
       "10                  3            10        0      10        0     0  \n",
       "11                 68         2,118      204   1,882       32     3  "
      ]
     },
     "execution_count": 1509,
     "metadata": {},
     "output_type": "execute_result"
    }
   ],
   "source": [
    "import pandas as pd\n",
    "import numpy as np\n",
    "import math\n",
    "import warnings\n",
    "from IPython.display import display\n",
    "from matplotlib import pyplot as plt\n",
    "import seaborn as sns\n",
    "from sklearn import linear_model\n",
    "import statsmodels.formula.api as smf\n",
    "\n",
    "# Display preferences.\n",
    "%matplotlib inline\n",
    "pd.options.display.float_format = '{:.3f}'.format\n",
    "\n",
    "# Suppress annoying harmless error.\n",
    "warnings.filterwarnings(\n",
    "    action=\"ignore\",\n",
    "    module=\"scipy\",\n",
    "    message=\"^internal gelsd\"\n",
    ")\n",
    "\n",
    "\n",
    "#import my different data sets.\n",
    "dfNY = pd.read_csv('ny.csv')\n",
    "dfAL = pd.read_excel('alabama.xls', index = False)\n",
    "dfIL = pd.read_excel('illinois.xls', index = False)\n",
    "\n",
    "\n",
    "dfNY.columns = (['City', 'Population', 'Violent Crime', 'Murder', 'Rape1', 'Rape', 'Robbery', 'Aggravated Assault',\n",
    "               'PropertyCrime', 'Burglary', 'Larceny', 'MV Theft', 'Arson'])\n",
    "\n",
    "\n",
    "dfAL.columns = (['City', 'Population', 'Violent Crime', 'Murder', 'Rape1', 'Rape', 'Robbery', 'Aggravated Assault',\n",
    "               'PropertyCrime', 'Burglary', 'Larceny', 'MV Theft', 'Arson','13','14','15'])\n",
    "\n",
    "\n",
    "dfIL.columns = (['City', 'Population', 'Violent Crime', 'Murder', 'Rape1', 'Rape', 'Robbery', 'Aggravated Assault',\n",
    "               'PropertyCrime', 'Burglary', 'Larceny', 'MV Theft', 'Arson'])\n",
    "\n",
    "#Drop na's at the end\n",
    "dfNY = dfNY.dropna(subset = ['Population'])\n",
    "dfAL = dfAL.dropna(subset = ['Population'])\n",
    "dfIL = dfIL.dropna(subset = ['Population'])\n",
    "\n",
    "#Drop weird header data\n",
    "dfNY = dfNY.iloc[4:]\n",
    "dfAL = dfAL.iloc[4:]\n",
    "dfIL = dfIL.iloc[4:]\n",
    "dfNY.head()"
   ]
  },
  {
   "cell_type": "code",
   "execution_count": 1510,
   "metadata": {},
   "outputs": [],
   "source": [
    "#Clean data in a more pythonic way\n",
    "\n",
    "# New York Data\n",
    "#Remove commas and spaces\n",
    "for col in dfNY.columns:\n",
    "    dfNY[col]= dfNY[col].apply(lambda x: str(x).replace(',', ''))\n",
    "    dfNY[col]= dfNY[col].apply(lambda x: str(x).strip())\n",
    "\n",
    "#Convert strings to floats\n",
    "numerical_columns = dfNY.columns[1:]\n",
    "for num_col in numerical_columns:\n",
    "    dfNY[num_col]= dfNY[num_col].apply(lambda x: float(x))\n",
    "    \n",
    "#Illinois Data\n",
    "    \n",
    "for col in dfIL.columns:\n",
    "    dfIL[col]= dfIL[col].apply(lambda x: str(x).replace(',', ''))\n",
    "    dfIL[col]= dfIL[col].apply(lambda x: str(x).strip())\n",
    "\n",
    "#Convert strings to floats\n",
    "numerical_columns = dfIL.columns[1:]\n",
    "for num_col in numerical_columns:\n",
    "    dfIL[num_col]= dfIL[num_col].apply(lambda x: float(x))\n",
    "    \n",
    "#Alabama Data\n",
    "\n",
    "for col in dfNY.columns:\n",
    "    dfAL[col]= dfAL[col].apply(lambda x: str(x).replace(',', ''))\n",
    "    dfAL[col]= dfAL[col].apply(lambda x: str(x).strip())\n",
    "\n",
    "#Convert strings to floats\n",
    "numerical_columns = dfAL.columns[1:]\n",
    "for num_col in numerical_columns:\n",
    "    dfAL[num_col]= dfAL[num_col].apply(lambda x: float(x))\n",
    "    "
   ]
  },
  {
   "cell_type": "code",
   "execution_count": 1511,
   "metadata": {},
   "outputs": [
    {
     "name": "stdout",
     "output_type": "stream",
     "text": [
      "PropertyCrime    0\n",
      "Population       0\n",
      "Murder           0\n",
      "Robbery          0\n",
      "dtype: int64\n",
      "PropertyCrime    0\n",
      "Population       0\n",
      "Murder           0\n",
      "Robbery          0\n",
      "dtype: int64\n",
      "PropertyCrime    0\n",
      "Population       0\n",
      "Murder           0\n",
      "Robbery          0\n",
      "dtype: int64\n"
     ]
    }
   ],
   "source": [
    "print(missing_valueNY[:])\n",
    "print(missing_valueAL[:])\n",
    "print(missing_valueIL[:])\n",
    "\n"
   ]
  },
  {
   "cell_type": "code",
   "execution_count": 1512,
   "metadata": {},
   "outputs": [],
   "source": [
    "dfNY['Population2'] = dfNY['Population']**2\n",
    "dfNY['Robbery2'] = dfNY['Robbery']**2\n",
    "dfNY['Murder'] = dfNY[\"Murder\"].apply(lambda x: 0 if x < 1 else 1)\n"
   ]
  },
  {
   "cell_type": "code",
   "execution_count": 1513,
   "metadata": {},
   "outputs": [
    {
     "data": {
      "text/html": [
       "<div>\n",
       "<style scoped>\n",
       "    .dataframe tbody tr th:only-of-type {\n",
       "        vertical-align: middle;\n",
       "    }\n",
       "\n",
       "    .dataframe tbody tr th {\n",
       "        vertical-align: top;\n",
       "    }\n",
       "\n",
       "    .dataframe thead th {\n",
       "        text-align: right;\n",
       "    }\n",
       "</style>\n",
       "<table border=\"1\" class=\"dataframe\">\n",
       "  <thead>\n",
       "    <tr style=\"text-align: right;\">\n",
       "      <th></th>\n",
       "      <th>City</th>\n",
       "      <th>Population</th>\n",
       "      <th>Violent Crime</th>\n",
       "      <th>Murder</th>\n",
       "      <th>Rape1</th>\n",
       "      <th>Rape</th>\n",
       "      <th>Robbery</th>\n",
       "      <th>Aggravated Assault</th>\n",
       "      <th>PropertyCrime</th>\n",
       "      <th>Burglary</th>\n",
       "      <th>Larceny</th>\n",
       "      <th>MV Theft</th>\n",
       "      <th>Arson</th>\n",
       "      <th>Population2</th>\n",
       "      <th>Robbery2</th>\n",
       "    </tr>\n",
       "  </thead>\n",
       "  <tbody>\n",
       "    <tr>\n",
       "      <th>314</th>\n",
       "      <td>Syracuse</td>\n",
       "      <td>143834.000</td>\n",
       "      <td>1192.000</td>\n",
       "      <td>1</td>\n",
       "      <td>nan</td>\n",
       "      <td>75.000</td>\n",
       "      <td>400.000</td>\n",
       "      <td>696.000</td>\n",
       "      <td>6473.000</td>\n",
       "      <td>1781.000</td>\n",
       "      <td>4298.000</td>\n",
       "      <td>394.000</td>\n",
       "      <td>57.000</td>\n",
       "      <td>20688219556.000</td>\n",
       "      <td>160000.000</td>\n",
       "    </tr>\n",
       "    <tr>\n",
       "      <th>11</th>\n",
       "      <td>Amherst Town</td>\n",
       "      <td>118296.000</td>\n",
       "      <td>107.000</td>\n",
       "      <td>1</td>\n",
       "      <td>nan</td>\n",
       "      <td>7.000</td>\n",
       "      <td>31.000</td>\n",
       "      <td>68.000</td>\n",
       "      <td>2118.000</td>\n",
       "      <td>204.000</td>\n",
       "      <td>1882.000</td>\n",
       "      <td>32.000</td>\n",
       "      <td>3.000</td>\n",
       "      <td>13993943616.000</td>\n",
       "      <td>961.000</td>\n",
       "    </tr>\n",
       "    <tr>\n",
       "      <th>7</th>\n",
       "      <td>Albany</td>\n",
       "      <td>97956.000</td>\n",
       "      <td>791.000</td>\n",
       "      <td>1</td>\n",
       "      <td>nan</td>\n",
       "      <td>30.000</td>\n",
       "      <td>227.000</td>\n",
       "      <td>526.000</td>\n",
       "      <td>4090.000</td>\n",
       "      <td>705.000</td>\n",
       "      <td>3243.000</td>\n",
       "      <td>142.000</td>\n",
       "      <td>nan</td>\n",
       "      <td>9595377936.000</td>\n",
       "      <td>51529.000</td>\n",
       "    </tr>\n",
       "    <tr>\n",
       "      <th>130</th>\n",
       "      <td>Greece Town</td>\n",
       "      <td>96667.000</td>\n",
       "      <td>151.000</td>\n",
       "      <td>0</td>\n",
       "      <td>nan</td>\n",
       "      <td>9.000</td>\n",
       "      <td>60.000</td>\n",
       "      <td>82.000</td>\n",
       "      <td>2303.000</td>\n",
       "      <td>332.000</td>\n",
       "      <td>1925.000</td>\n",
       "      <td>46.000</td>\n",
       "      <td>nan</td>\n",
       "      <td>9344508889.000</td>\n",
       "      <td>3600.000</td>\n",
       "    </tr>\n",
       "    <tr>\n",
       "      <th>271</th>\n",
       "      <td>Ramapo Town</td>\n",
       "      <td>87204.000</td>\n",
       "      <td>57.000</td>\n",
       "      <td>1</td>\n",
       "      <td>nan</td>\n",
       "      <td>5.000</td>\n",
       "      <td>9.000</td>\n",
       "      <td>41.000</td>\n",
       "      <td>567.000</td>\n",
       "      <td>88.000</td>\n",
       "      <td>466.000</td>\n",
       "      <td>13.000</td>\n",
       "      <td>nan</td>\n",
       "      <td>7604537616.000</td>\n",
       "      <td>81.000</td>\n",
       "    </tr>\n",
       "  </tbody>\n",
       "</table>\n",
       "</div>"
      ],
      "text/plain": [
       "             City  Population  Violent Crime  Murder  Rape1   Rape  Robbery  \\\n",
       "314      Syracuse  143834.000       1192.000       1    nan 75.000  400.000   \n",
       "11   Amherst Town  118296.000        107.000       1    nan  7.000   31.000   \n",
       "7          Albany   97956.000        791.000       1    nan 30.000  227.000   \n",
       "130   Greece Town   96667.000        151.000       0    nan  9.000   60.000   \n",
       "271   Ramapo Town   87204.000         57.000       1    nan  5.000    9.000   \n",
       "\n",
       "     Aggravated Assault  PropertyCrime  Burglary  Larceny  MV Theft  Arson  \\\n",
       "314             696.000       6473.000  1781.000 4298.000   394.000 57.000   \n",
       "11               68.000       2118.000   204.000 1882.000    32.000  3.000   \n",
       "7               526.000       4090.000   705.000 3243.000   142.000    nan   \n",
       "130              82.000       2303.000   332.000 1925.000    46.000    nan   \n",
       "271              41.000        567.000    88.000  466.000    13.000    nan   \n",
       "\n",
       "        Population2   Robbery2  \n",
       "314 20688219556.000 160000.000  \n",
       "11  13993943616.000    961.000  \n",
       "7    9595377936.000  51529.000  \n",
       "130  9344508889.000   3600.000  \n",
       "271  7604537616.000     81.000  "
      ]
     },
     "execution_count": 1513,
     "metadata": {},
     "output_type": "execute_result"
    }
   ],
   "source": [
    "dfNY.drop(dfNY[dfNY.Population >150000].index, inplace=True)\n",
    "dfNY.sort_values(by=['Population'], ascending = False).head(5)"
   ]
  },
  {
   "cell_type": "code",
   "execution_count": 1514,
   "metadata": {},
   "outputs": [
    {
     "data": {
      "text/html": [
       "<div>\n",
       "<style scoped>\n",
       "    .dataframe tbody tr th:only-of-type {\n",
       "        vertical-align: middle;\n",
       "    }\n",
       "\n",
       "    .dataframe tbody tr th {\n",
       "        vertical-align: top;\n",
       "    }\n",
       "\n",
       "    .dataframe thead th {\n",
       "        text-align: right;\n",
       "    }\n",
       "</style>\n",
       "<table border=\"1\" class=\"dataframe\">\n",
       "  <thead>\n",
       "    <tr style=\"text-align: right;\">\n",
       "      <th></th>\n",
       "      <th>City</th>\n",
       "      <th>Population</th>\n",
       "      <th>Violent Crime</th>\n",
       "      <th>Murder</th>\n",
       "      <th>Rape1</th>\n",
       "      <th>Rape</th>\n",
       "      <th>Robbery</th>\n",
       "      <th>Aggravated Assault</th>\n",
       "      <th>PropertyCrime</th>\n",
       "      <th>Burglary</th>\n",
       "      <th>Larceny</th>\n",
       "      <th>MV Theft</th>\n",
       "      <th>Arson</th>\n",
       "      <th>Population2</th>\n",
       "      <th>Robbery2</th>\n",
       "    </tr>\n",
       "  </thead>\n",
       "  <tbody>\n",
       "    <tr>\n",
       "      <th>7</th>\n",
       "      <td>Albany</td>\n",
       "      <td>97956.000</td>\n",
       "      <td>791.000</td>\n",
       "      <td>1</td>\n",
       "      <td>nan</td>\n",
       "      <td>30.000</td>\n",
       "      <td>227.000</td>\n",
       "      <td>526.000</td>\n",
       "      <td>4090.000</td>\n",
       "      <td>705.000</td>\n",
       "      <td>3243.000</td>\n",
       "      <td>142.000</td>\n",
       "      <td>nan</td>\n",
       "      <td>9595377936.000</td>\n",
       "      <td>51529.000</td>\n",
       "    </tr>\n",
       "    <tr>\n",
       "      <th>8</th>\n",
       "      <td>Albion Village</td>\n",
       "      <td>6388.000</td>\n",
       "      <td>23.000</td>\n",
       "      <td>0</td>\n",
       "      <td>nan</td>\n",
       "      <td>3.000</td>\n",
       "      <td>4.000</td>\n",
       "      <td>16.000</td>\n",
       "      <td>223.000</td>\n",
       "      <td>53.000</td>\n",
       "      <td>165.000</td>\n",
       "      <td>5.000</td>\n",
       "      <td>nan</td>\n",
       "      <td>40806544.000</td>\n",
       "      <td>16.000</td>\n",
       "    </tr>\n",
       "    <tr>\n",
       "      <th>9</th>\n",
       "      <td>Alfred Village</td>\n",
       "      <td>4089.000</td>\n",
       "      <td>5.000</td>\n",
       "      <td>0</td>\n",
       "      <td>nan</td>\n",
       "      <td>0.000</td>\n",
       "      <td>3.000</td>\n",
       "      <td>2.000</td>\n",
       "      <td>46.000</td>\n",
       "      <td>10.000</td>\n",
       "      <td>36.000</td>\n",
       "      <td>0.000</td>\n",
       "      <td>nan</td>\n",
       "      <td>16719921.000</td>\n",
       "      <td>9.000</td>\n",
       "    </tr>\n",
       "    <tr>\n",
       "      <th>10</th>\n",
       "      <td>Allegany Village</td>\n",
       "      <td>1781.000</td>\n",
       "      <td>3.000</td>\n",
       "      <td>0</td>\n",
       "      <td>nan</td>\n",
       "      <td>0.000</td>\n",
       "      <td>0.000</td>\n",
       "      <td>3.000</td>\n",
       "      <td>10.000</td>\n",
       "      <td>0.000</td>\n",
       "      <td>10.000</td>\n",
       "      <td>0.000</td>\n",
       "      <td>0.000</td>\n",
       "      <td>3171961.000</td>\n",
       "      <td>0.000</td>\n",
       "    </tr>\n",
       "    <tr>\n",
       "      <th>11</th>\n",
       "      <td>Amherst Town</td>\n",
       "      <td>118296.000</td>\n",
       "      <td>107.000</td>\n",
       "      <td>1</td>\n",
       "      <td>nan</td>\n",
       "      <td>7.000</td>\n",
       "      <td>31.000</td>\n",
       "      <td>68.000</td>\n",
       "      <td>2118.000</td>\n",
       "      <td>204.000</td>\n",
       "      <td>1882.000</td>\n",
       "      <td>32.000</td>\n",
       "      <td>3.000</td>\n",
       "      <td>13993943616.000</td>\n",
       "      <td>961.000</td>\n",
       "    </tr>\n",
       "  </tbody>\n",
       "</table>\n",
       "</div>"
      ],
      "text/plain": [
       "                City  Population  Violent Crime  Murder  Rape1   Rape  \\\n",
       "7             Albany   97956.000        791.000       1    nan 30.000   \n",
       "8     Albion Village    6388.000         23.000       0    nan  3.000   \n",
       "9     Alfred Village    4089.000          5.000       0    nan  0.000   \n",
       "10  Allegany Village    1781.000          3.000       0    nan  0.000   \n",
       "11      Amherst Town  118296.000        107.000       1    nan  7.000   \n",
       "\n",
       "    Robbery  Aggravated Assault  PropertyCrime  Burglary  Larceny  MV Theft  \\\n",
       "7   227.000             526.000       4090.000   705.000 3243.000   142.000   \n",
       "8     4.000              16.000        223.000    53.000  165.000     5.000   \n",
       "9     3.000               2.000         46.000    10.000   36.000     0.000   \n",
       "10    0.000               3.000         10.000     0.000   10.000     0.000   \n",
       "11   31.000              68.000       2118.000   204.000 1882.000    32.000   \n",
       "\n",
       "    Arson     Population2  Robbery2  \n",
       "7     nan  9595377936.000 51529.000  \n",
       "8     nan    40806544.000    16.000  \n",
       "9     nan    16719921.000     9.000  \n",
       "10  0.000     3171961.000     0.000  \n",
       "11  3.000 13993943616.000   961.000  "
      ]
     },
     "execution_count": 1514,
     "metadata": {},
     "output_type": "execute_result"
    }
   ],
   "source": [
    "dfNY.head(5)"
   ]
  },
  {
   "cell_type": "markdown",
   "metadata": {},
   "source": [
    "## Model with all variables"
   ]
  },
  {
   "cell_type": "code",
   "execution_count": 1515,
   "metadata": {},
   "outputs": [
    {
     "name": "stdout",
     "output_type": "stream",
     "text": [
      "\n",
      "Coefficients: \n",
      " [[  1.28387252e-02   1.95953986e+01   6.95345933e+00   6.14004559e-08\n",
      "    6.52192713e-04]]\n",
      "\n",
      "Intercept: \n",
      " [ 25.58281101]\n",
      "\n",
      "R-squared:\n",
      "0.868140679395\n"
     ]
    }
   ],
   "source": [
    "# Instantiate and fit our model.\n",
    "regr = linear_model.LinearRegression()\n",
    "Y = dfNY['PropertyCrime'].values.reshape(-1, 1)\n",
    "X = dfNY[['Population','Murder','Robbery', 'Population2', 'Robbery2']]\n",
    "regr.fit(X, Y)\n",
    "\n",
    "# Inspect the results.\n",
    "print('\\nCoefficients: \\n', regr.coef_)\n",
    "print('\\nIntercept: \\n', regr.intercept_)\n",
    "print('\\nR-squared:')\n",
    "print(regr.score(X, Y))"
   ]
  },
  {
   "cell_type": "markdown",
   "metadata": {},
   "source": [
    "## Explore mulitvariate normality and homoscedacity"
   ]
  },
  {
   "cell_type": "code",
   "execution_count": 1516,
   "metadata": {},
   "outputs": [
    {
     "data": {
      "image/png": "[encoded data removed]",
      "text/plain": [
       "<matplotlib.figure.Figure at 0x116f7bdd8>"
      ]
     },
     "metadata": {},
     "output_type": "display_data"
    }
   ],
   "source": [
    "#X = df[['Population','Murder','Robbery', 'Population2', 'Robbery2']]\n",
    "\n",
    "# Extract predicted values.\n",
    "predicted = regr.predict(X).ravel()\n",
    "actual = dfNY['PropertyCrime']\n",
    "\n",
    "# Calculate the error, also called the residual.\n",
    "residual = actual - predicted\n",
    "\n",
    "# Hist plot of residuals\n",
    "plt.hist(residual)\n",
    "plt.title('Residual counts')\n",
    "plt.xlabel('Residual')\n",
    "plt.ylabel('Count')\n",
    "plt.show()"
   ]
  },
  {
   "cell_type": "code",
   "execution_count": 1517,
   "metadata": {},
   "outputs": [
    {
     "data": {
      "image/png": "[encoded data removed]",
      "text/plain": [
       "<matplotlib.figure.Figure at 0x116f7b2b0>"
      ]
     },
     "metadata": {},
     "output_type": "display_data"
    }
   ],
   "source": [
    "plt.scatter(predicted, residual)\n",
    "plt.xlabel('Predicted')\n",
    "plt.ylabel('Residual')\n",
    "plt.axhline(y=0)\n",
    "plt.title('Residual vs. Predicted')\n",
    "plt.show()\n"
   ]
  },
  {
   "cell_type": "code",
   "execution_count": 1518,
   "metadata": {},
   "outputs": [
    {
     "data": {
      "text/html": [
       "<div>\n",
       "<style scoped>\n",
       "    .dataframe tbody tr th:only-of-type {\n",
       "        vertical-align: middle;\n",
       "    }\n",
       "\n",
       "    .dataframe tbody tr th {\n",
       "        vertical-align: top;\n",
       "    }\n",
       "\n",
       "    .dataframe thead th {\n",
       "        text-align: right;\n",
       "    }\n",
       "</style>\n",
       "<table border=\"1\" class=\"dataframe\">\n",
       "  <thead>\n",
       "    <tr style=\"text-align: right;\">\n",
       "      <th></th>\n",
       "      <th>Population</th>\n",
       "      <th>Murder</th>\n",
       "      <th>Robbery</th>\n",
       "      <th>Population2</th>\n",
       "      <th>Robbery2</th>\n",
       "    </tr>\n",
       "  </thead>\n",
       "  <tbody>\n",
       "    <tr>\n",
       "      <th>Population</th>\n",
       "      <td>1.000</td>\n",
       "      <td>0.497</td>\n",
       "      <td>0.685</td>\n",
       "      <td>0.899</td>\n",
       "      <td>0.550</td>\n",
       "    </tr>\n",
       "    <tr>\n",
       "      <th>Murder</th>\n",
       "      <td>0.497</td>\n",
       "      <td>1.000</td>\n",
       "      <td>0.488</td>\n",
       "      <td>0.388</td>\n",
       "      <td>0.335</td>\n",
       "    </tr>\n",
       "    <tr>\n",
       "      <th>Robbery</th>\n",
       "      <td>0.685</td>\n",
       "      <td>0.488</td>\n",
       "      <td>1.000</td>\n",
       "      <td>0.717</td>\n",
       "      <td>0.906</td>\n",
       "    </tr>\n",
       "    <tr>\n",
       "      <th>Population2</th>\n",
       "      <td>0.899</td>\n",
       "      <td>0.388</td>\n",
       "      <td>0.717</td>\n",
       "      <td>1.000</td>\n",
       "      <td>0.709</td>\n",
       "    </tr>\n",
       "    <tr>\n",
       "      <th>Robbery2</th>\n",
       "      <td>0.550</td>\n",
       "      <td>0.335</td>\n",
       "      <td>0.906</td>\n",
       "      <td>0.709</td>\n",
       "      <td>1.000</td>\n",
       "    </tr>\n",
       "  </tbody>\n",
       "</table>\n",
       "</div>"
      ],
      "text/plain": [
       "             Population  Murder  Robbery  Population2  Robbery2\n",
       "Population        1.000   0.497    0.685        0.899     0.550\n",
       "Murder            0.497   1.000    0.488        0.388     0.335\n",
       "Robbery           0.685   0.488    1.000        0.717     0.906\n",
       "Population2       0.899   0.388    0.717        1.000     0.709\n",
       "Robbery2          0.550   0.335    0.906        0.709     1.000"
      ]
     },
     "metadata": {},
     "output_type": "display_data"
    }
   ],
   "source": [
    "correlation_matrix = X.corr()\n",
    "display(correlation_matrix)"
   ]
  },
  {
   "cell_type": "markdown",
   "metadata": {},
   "source": [
    "## Model I settled on"
   ]
  },
  {
   "cell_type": "code",
   "execution_count": 1519,
   "metadata": {},
   "outputs": [
    {
     "name": "stdout",
     "output_type": "stream",
     "text": [
      "\n",
      "Coefficients: \n",
      " [[  1.40101778e+02   1.73851917e-07   7.17643328e+00]]\n",
      "\n",
      "Intercept: \n",
      " [ 128.28562057]\n",
      "\n",
      "R-squared:\n",
      "0.84214372793\n"
     ]
    }
   ],
   "source": [
    "regr = linear_model.LinearRegression()\n",
    "Y = dfNY['PropertyCrime'].values.reshape(-1, 1)\n",
    "X = dfNY[['Murder','Population2','Robbery']]\n",
    "regr.fit(X, Y)\n",
    "\n",
    "# Inspect the results.\n",
    "print('\\nCoefficients: \\n', regr.coef_)\n",
    "print('\\nIntercept: \\n', regr.intercept_)\n",
    "print('\\nR-squared:')\n",
    "print(regr.score(X, Y))"
   ]
  },
  {
   "cell_type": "code",
   "execution_count": 1520,
   "metadata": {},
   "outputs": [
    {
     "data": {
      "image/png": "[encoded data removed]",
      "text/plain": [
       "<matplotlib.figure.Figure at 0x1177b1160>"
      ]
     },
     "metadata": {},
     "output_type": "display_data"
    }
   ],
   "source": [
    "#X = df[['Murder','Population2','Robbery']]\n",
    "# Extract predicted values.\n",
    "predicted = regr.predict(X).ravel()\n",
    "actual = dfNY['PropertyCrime']\n",
    "\n",
    "# Calculate the error, also called the residual.\n",
    "residual = actual - predicted\n",
    "\n",
    "# Hist plot of residuals\n",
    "plt.hist(residual)\n",
    "plt.title('Residual counts')\n",
    "plt.xlabel('Residual')\n",
    "plt.ylabel('Count')\n",
    "plt.show()"
   ]
  },
  {
   "cell_type": "code",
   "execution_count": 1521,
   "metadata": {},
   "outputs": [
    {
     "data": {
      "image/png": "[encoded data removed]",
      "text/plain": [
       "<matplotlib.figure.Figure at 0x117054ac8>"
      ]
     },
     "metadata": {},
     "output_type": "display_data"
    }
   ],
   "source": [
    "plt.scatter(predicted, residual)\n",
    "plt.xlabel('Predicted')\n",
    "plt.ylabel('Residual')\n",
    "plt.axhline(y=0)\n",
    "plt.title('Residual vs. Predicted')\n",
    "plt.show()\n"
   ]
  },
  {
   "cell_type": "code",
   "execution_count": 1522,
   "metadata": {},
   "outputs": [
    {
     "data": {
      "text/html": [
       "<div>\n",
       "<style scoped>\n",
       "    .dataframe tbody tr th:only-of-type {\n",
       "        vertical-align: middle;\n",
       "    }\n",
       "\n",
       "    .dataframe tbody tr th {\n",
       "        vertical-align: top;\n",
       "    }\n",
       "\n",
       "    .dataframe thead th {\n",
       "        text-align: right;\n",
       "    }\n",
       "</style>\n",
       "<table border=\"1\" class=\"dataframe\">\n",
       "  <thead>\n",
       "    <tr style=\"text-align: right;\">\n",
       "      <th></th>\n",
       "      <th>Murder</th>\n",
       "      <th>Population2</th>\n",
       "      <th>Robbery</th>\n",
       "    </tr>\n",
       "  </thead>\n",
       "  <tbody>\n",
       "    <tr>\n",
       "      <th>Murder</th>\n",
       "      <td>1.000</td>\n",
       "      <td>0.388</td>\n",
       "      <td>0.488</td>\n",
       "    </tr>\n",
       "    <tr>\n",
       "      <th>Population2</th>\n",
       "      <td>0.388</td>\n",
       "      <td>1.000</td>\n",
       "      <td>0.717</td>\n",
       "    </tr>\n",
       "    <tr>\n",
       "      <th>Robbery</th>\n",
       "      <td>0.488</td>\n",
       "      <td>0.717</td>\n",
       "      <td>1.000</td>\n",
       "    </tr>\n",
       "  </tbody>\n",
       "</table>\n",
       "</div>"
      ],
      "text/plain": [
       "             Murder  Population2  Robbery\n",
       "Murder        1.000        0.388    0.488\n",
       "Population2   0.388        1.000    0.717\n",
       "Robbery       0.488        0.717    1.000"
      ]
     },
     "metadata": {},
     "output_type": "display_data"
    }
   ],
   "source": [
    "correlation_matrix = X.corr()\n",
    "display(correlation_matrix)"
   ]
  },
  {
   "cell_type": "markdown",
   "metadata": {},
   "source": [
    "Initially, I removed cities over 150,000 in population to reduce my population variance(this removed 3 cities). My initial model from the previous assignment(with robbery as a binary categorical) was giving me a -7 intercept which didn't intuitively make sense to me and gave me an R2 of .76\n",
    "\n",
    "I decided to leave the robbery column as a continuous variable and explored the linearity of the Population and Robbery features. Unfortunately, neither the raw or transformed features(both the sqrt and square) seemed to help the linearity of the relationship to my outcome. \n",
    "\n",
    "The error from all 3 of my potential models had some right skew to them. I tried correcting this by squaring and taking the sqaure of the continous independant variables (Population and Robbery), but it didn't noticeably help the normality or homoscedacity. \n",
    "\n",
    "Even though my final model has a stronger correlation between Robbery and Population2,the I would like, it explained 84% of the variance in the PropertyCrime and the intercept, directions and powers of the coefficenets for each dependent variable made intuitive sense.\n",
    "\n",
    "\n",
    "\n"
   ]
  },
  {
   "cell_type": "code",
   "execution_count": 1523,
   "metadata": {
    "collapsed": true
   },
   "outputs": [],
   "source": [
    "linear_formula = 'PropertyCrime ~ Murder+Population2+Robbery'\n",
    "# Fit the model to our data using the formula.\n",
    "lm = smf.ols(formula=linear_formula, data=dfNY).fit()"
   ]
  },
  {
   "cell_type": "code",
   "execution_count": 1524,
   "metadata": {},
   "outputs": [
    {
     "data": {
      "text/plain": [
       "Intercept     128.286\n",
       "Murder        140.102\n",
       "Population2     0.000\n",
       "Robbery         7.176\n",
       "dtype: float64"
      ]
     },
     "execution_count": 1524,
     "metadata": {},
     "output_type": "execute_result"
    }
   ],
   "source": [
    "lm.params"
   ]
  },
  {
   "cell_type": "code",
   "execution_count": 1525,
   "metadata": {},
   "outputs": [
    {
     "data": {
      "text/plain": [
       "Intercept     0.000\n",
       "Murder        0.002\n",
       "Population2   0.000\n",
       "Robbery       0.000\n",
       "dtype: float64"
      ]
     },
     "execution_count": 1525,
     "metadata": {},
     "output_type": "execute_result"
    }
   ],
   "source": [
    "lm.pvalues"
   ]
  },
  {
   "cell_type": "code",
   "execution_count": 1526,
   "metadata": {},
   "outputs": [
    {
     "data": {
      "text/plain": [
       "0.84214372793020531"
      ]
     },
     "execution_count": 1526,
     "metadata": {},
     "output_type": "execute_result"
    }
   ],
   "source": [
    "lm.rsquared"
   ]
  },
  {
   "cell_type": "code",
   "execution_count": 1527,
   "metadata": {},
   "outputs": [],
   "source": [
    "#Create features for AL an IL\n",
    "dfAL['Population2'] = dfAL['Population']**2\n",
    "dfAL['Murder'] = dfAL['Murder'].apply(lambda x: 1 if x >=1 else 0)\n",
    "\n",
    "dfIL['Population2'] = dfIL['Population'] ** 2\n",
    "dfIL['Murder'] = dfIL['Murder'].apply(lambda x: 1 if x >=1 else 0)\n"
   ]
  },
  {
   "cell_type": "code",
   "execution_count": 1528,
   "metadata": {},
   "outputs": [
    {
     "data": {
      "text/html": [
       "<div>\n",
       "<style scoped>\n",
       "    .dataframe tbody tr th:only-of-type {\n",
       "        vertical-align: middle;\n",
       "    }\n",
       "\n",
       "    .dataframe tbody tr th {\n",
       "        vertical-align: top;\n",
       "    }\n",
       "\n",
       "    .dataframe thead th {\n",
       "        text-align: right;\n",
       "    }\n",
       "</style>\n",
       "<table border=\"1\" class=\"dataframe\">\n",
       "  <thead>\n",
       "    <tr style=\"text-align: right;\">\n",
       "      <th></th>\n",
       "      <th>City</th>\n",
       "      <th>Population</th>\n",
       "      <th>Violent Crime</th>\n",
       "      <th>Murder</th>\n",
       "      <th>Rape1</th>\n",
       "      <th>Rape</th>\n",
       "      <th>Robbery</th>\n",
       "      <th>Aggravated Assault</th>\n",
       "      <th>PropertyCrime</th>\n",
       "      <th>Burglary</th>\n",
       "      <th>Larceny</th>\n",
       "      <th>MV Theft</th>\n",
       "      <th>Arson</th>\n",
       "      <th>13</th>\n",
       "      <th>14</th>\n",
       "      <th>15</th>\n",
       "      <th>Population2</th>\n",
       "    </tr>\n",
       "  </thead>\n",
       "  <tbody>\n",
       "    <tr>\n",
       "      <th>121</th>\n",
       "      <td>Mobile4</td>\n",
       "      <td>250557.000</td>\n",
       "      <td>1541.000</td>\n",
       "      <td>1</td>\n",
       "      <td>88.000</td>\n",
       "      <td>nan</td>\n",
       "      <td>459.000</td>\n",
       "      <td>965.000</td>\n",
       "      <td>13011.000</td>\n",
       "      <td>3207.000</td>\n",
       "      <td>9123.000</td>\n",
       "      <td>681.000</td>\n",
       "      <td>nan</td>\n",
       "      <td>nan</td>\n",
       "      <td>nan</td>\n",
       "      <td>nan</td>\n",
       "      <td>62778810249.000</td>\n",
       "    </tr>\n",
       "    <tr>\n",
       "      <th>24</th>\n",
       "      <td>Birmingham</td>\n",
       "      <td>212001.000</td>\n",
       "      <td>2852.000</td>\n",
       "      <td>1</td>\n",
       "      <td>178.000</td>\n",
       "      <td>nan</td>\n",
       "      <td>969.000</td>\n",
       "      <td>1642.000</td>\n",
       "      <td>14157.000</td>\n",
       "      <td>4018.000</td>\n",
       "      <td>8661.000</td>\n",
       "      <td>1478.000</td>\n",
       "      <td>nan</td>\n",
       "      <td>nan</td>\n",
       "      <td>nan</td>\n",
       "      <td>nan</td>\n",
       "      <td>44944424001.000</td>\n",
       "    </tr>\n",
       "    <tr>\n",
       "      <th>94</th>\n",
       "      <td>Huntsville</td>\n",
       "      <td>184738.000</td>\n",
       "      <td>1507.000</td>\n",
       "      <td>1</td>\n",
       "      <td>87.000</td>\n",
       "      <td>nan</td>\n",
       "      <td>391.000</td>\n",
       "      <td>1005.000</td>\n",
       "      <td>9216.000</td>\n",
       "      <td>1884.000</td>\n",
       "      <td>6629.000</td>\n",
       "      <td>703.000</td>\n",
       "      <td>nan</td>\n",
       "      <td>nan</td>\n",
       "      <td>nan</td>\n",
       "      <td>nan</td>\n",
       "      <td>34128128644.000</td>\n",
       "    </tr>\n",
       "    <tr>\n",
       "      <th>186</th>\n",
       "      <td>Tuscaloosa</td>\n",
       "      <td>94126.000</td>\n",
       "      <td>434.000</td>\n",
       "      <td>1</td>\n",
       "      <td>44.000</td>\n",
       "      <td>nan</td>\n",
       "      <td>161.000</td>\n",
       "      <td>221.000</td>\n",
       "      <td>4512.000</td>\n",
       "      <td>1165.000</td>\n",
       "      <td>3196.000</td>\n",
       "      <td>151.000</td>\n",
       "      <td>nan</td>\n",
       "      <td>nan</td>\n",
       "      <td>nan</td>\n",
       "      <td>nan</td>\n",
       "      <td>8859703876.000</td>\n",
       "    </tr>\n",
       "    <tr>\n",
       "      <th>92</th>\n",
       "      <td>Hoover</td>\n",
       "      <td>84139.000</td>\n",
       "      <td>74.000</td>\n",
       "      <td>1</td>\n",
       "      <td>9.000</td>\n",
       "      <td>nan</td>\n",
       "      <td>34.000</td>\n",
       "      <td>29.000</td>\n",
       "      <td>2596.000</td>\n",
       "      <td>344.000</td>\n",
       "      <td>2144.000</td>\n",
       "      <td>108.000</td>\n",
       "      <td>1.000</td>\n",
       "      <td>nan</td>\n",
       "      <td>nan</td>\n",
       "      <td>nan</td>\n",
       "      <td>7079371321.000</td>\n",
       "    </tr>\n",
       "  </tbody>\n",
       "</table>\n",
       "</div>"
      ],
      "text/plain": [
       "           City  Population  Violent Crime  Murder   Rape1  Rape  Robbery  \\\n",
       "121     Mobile4  250557.000       1541.000       1  88.000   nan  459.000   \n",
       "24   Birmingham  212001.000       2852.000       1 178.000   nan  969.000   \n",
       "94   Huntsville  184738.000       1507.000       1  87.000   nan  391.000   \n",
       "186  Tuscaloosa   94126.000        434.000       1  44.000   nan  161.000   \n",
       "92       Hoover   84139.000         74.000       1   9.000   nan   34.000   \n",
       "\n",
       "     Aggravated Assault  PropertyCrime  Burglary  Larceny  MV Theft  Arson  \\\n",
       "121             965.000      13011.000  3207.000 9123.000   681.000    nan   \n",
       "24             1642.000      14157.000  4018.000 8661.000  1478.000    nan   \n",
       "94             1005.000       9216.000  1884.000 6629.000   703.000    nan   \n",
       "186             221.000       4512.000  1165.000 3196.000   151.000    nan   \n",
       "92               29.000       2596.000   344.000 2144.000   108.000  1.000   \n",
       "\n",
       "     13  14  15     Population2  \n",
       "121 nan nan nan 62778810249.000  \n",
       "24  nan nan nan 44944424001.000  \n",
       "94  nan nan nan 34128128644.000  \n",
       "186 nan nan nan  8859703876.000  \n",
       "92  nan nan nan  7079371321.000  "
      ]
     },
     "execution_count": 1528,
     "metadata": {},
     "output_type": "execute_result"
    }
   ],
   "source": [
    "dfIL.drop(dfIL[dfIL.Population >150000].index, inplace=True)\n",
    "\n",
    "dfAL.sort_values(by=['Population'], ascending = False).head(5)\n",
    "#dfIL.sort_values(by=['Population'], ascending = False).head(5)"
   ]
  },
  {
   "cell_type": "code",
   "execution_count": 1529,
   "metadata": {},
   "outputs": [
    {
     "data": {
      "text/html": [
       "<div>\n",
       "<style scoped>\n",
       "    .dataframe tbody tr th:only-of-type {\n",
       "        vertical-align: middle;\n",
       "    }\n",
       "\n",
       "    .dataframe tbody tr th {\n",
       "        vertical-align: top;\n",
       "    }\n",
       "\n",
       "    .dataframe thead th {\n",
       "        text-align: right;\n",
       "    }\n",
       "</style>\n",
       "<table border=\"1\" class=\"dataframe\">\n",
       "  <thead>\n",
       "    <tr style=\"text-align: right;\">\n",
       "      <th></th>\n",
       "      <th>Murder</th>\n",
       "      <th>Population2</th>\n",
       "      <th>Robbery</th>\n",
       "    </tr>\n",
       "  </thead>\n",
       "  <tbody>\n",
       "    <tr>\n",
       "      <th>Murder</th>\n",
       "      <td>1.000</td>\n",
       "      <td>0.388</td>\n",
       "      <td>0.488</td>\n",
       "    </tr>\n",
       "    <tr>\n",
       "      <th>Population2</th>\n",
       "      <td>0.388</td>\n",
       "      <td>1.000</td>\n",
       "      <td>0.717</td>\n",
       "    </tr>\n",
       "    <tr>\n",
       "      <th>Robbery</th>\n",
       "      <td>0.488</td>\n",
       "      <td>0.717</td>\n",
       "      <td>1.000</td>\n",
       "    </tr>\n",
       "  </tbody>\n",
       "</table>\n",
       "</div>"
      ],
      "text/plain": [
       "             Murder  Population2  Robbery\n",
       "Murder        1.000        0.388    0.488\n",
       "Population2   0.388        1.000    0.717\n",
       "Robbery       0.488        0.717    1.000"
      ]
     },
     "metadata": {},
     "output_type": "display_data"
    }
   ],
   "source": [
    "correlation_matrix = X.corr()\n",
    "display(correlation_matrix)"
   ]
  },
  {
   "cell_type": "code",
   "execution_count": 1530,
   "metadata": {},
   "outputs": [],
   "source": [
    "lm = smf.ols(formula=linear_formula, data=dfAL).fit()"
   ]
  },
  {
   "cell_type": "code",
   "execution_count": 1531,
   "metadata": {},
   "outputs": [
    {
     "data": {
      "text/plain": [
       "Intercept     138.349\n",
       "Murder        529.768\n",
       "Population2     0.000\n",
       "Robbery         8.585\n",
       "dtype: float64"
      ]
     },
     "execution_count": 1531,
     "metadata": {},
     "output_type": "execute_result"
    }
   ],
   "source": [
    "lm.params"
   ]
  },
  {
   "cell_type": "code",
   "execution_count": 1532,
   "metadata": {},
   "outputs": [
    {
     "data": {
      "text/plain": [
       "Intercept     0.000\n",
       "Murder        0.000\n",
       "Population2   0.000\n",
       "Robbery       0.000\n",
       "dtype: float64"
      ]
     },
     "execution_count": 1532,
     "metadata": {},
     "output_type": "execute_result"
    }
   ],
   "source": [
    "lm.pvalues"
   ]
  },
  {
   "cell_type": "code",
   "execution_count": 1533,
   "metadata": {},
   "outputs": [
    {
     "data": {
      "text/plain": [
       "0.96226569819997532"
      ]
     },
     "execution_count": 1533,
     "metadata": {},
     "output_type": "execute_result"
    }
   ],
   "source": [
    "lm.rsquared"
   ]
  },
  {
   "cell_type": "code",
   "execution_count": 1534,
   "metadata": {},
   "outputs": [
    {
     "data": {
      "text/html": [
       "<div>\n",
       "<style scoped>\n",
       "    .dataframe tbody tr th:only-of-type {\n",
       "        vertical-align: middle;\n",
       "    }\n",
       "\n",
       "    .dataframe tbody tr th {\n",
       "        vertical-align: top;\n",
       "    }\n",
       "\n",
       "    .dataframe thead th {\n",
       "        text-align: right;\n",
       "    }\n",
       "</style>\n",
       "<table border=\"1\" class=\"dataframe\">\n",
       "  <thead>\n",
       "    <tr style=\"text-align: right;\">\n",
       "      <th></th>\n",
       "      <th>Murder</th>\n",
       "      <th>Population2</th>\n",
       "      <th>Robbery</th>\n",
       "    </tr>\n",
       "  </thead>\n",
       "  <tbody>\n",
       "    <tr>\n",
       "      <th>Murder</th>\n",
       "      <td>1.000</td>\n",
       "      <td>0.388</td>\n",
       "      <td>0.488</td>\n",
       "    </tr>\n",
       "    <tr>\n",
       "      <th>Population2</th>\n",
       "      <td>0.388</td>\n",
       "      <td>1.000</td>\n",
       "      <td>0.717</td>\n",
       "    </tr>\n",
       "    <tr>\n",
       "      <th>Robbery</th>\n",
       "      <td>0.488</td>\n",
       "      <td>0.717</td>\n",
       "      <td>1.000</td>\n",
       "    </tr>\n",
       "  </tbody>\n",
       "</table>\n",
       "</div>"
      ],
      "text/plain": [
       "             Murder  Population2  Robbery\n",
       "Murder        1.000        0.388    0.488\n",
       "Population2   0.388        1.000    0.717\n",
       "Robbery       0.488        0.717    1.000"
      ]
     },
     "metadata": {},
     "output_type": "display_data"
    }
   ],
   "source": [
    "correlation_matrix = X.corr()\n",
    "display(correlation_matrix)"
   ]
  },
  {
   "cell_type": "code",
   "execution_count": 1535,
   "metadata": {},
   "outputs": [],
   "source": [
    "lm = smf.ols(formula=linear_formula, data=dfIL).fit()"
   ]
  },
  {
   "cell_type": "code",
   "execution_count": 1536,
   "metadata": {},
   "outputs": [
    {
     "data": {
      "text/plain": [
       "Intercept     122.298\n",
       "Murder         86.935\n",
       "Population2     0.000\n",
       "Robbery         9.462\n",
       "dtype: float64"
      ]
     },
     "execution_count": 1536,
     "metadata": {},
     "output_type": "execute_result"
    }
   ],
   "source": [
    "lm.params"
   ]
  },
  {
   "cell_type": "code",
   "execution_count": 1537,
   "metadata": {},
   "outputs": [
    {
     "data": {
      "text/plain": [
       "Intercept     0.000\n",
       "Murder        0.003\n",
       "Population2   0.000\n",
       "Robbery       0.000\n",
       "dtype: float64"
      ]
     },
     "execution_count": 1537,
     "metadata": {},
     "output_type": "execute_result"
    }
   ],
   "source": [
    "lm.pvalues"
   ]
  },
  {
   "cell_type": "code",
   "execution_count": 1538,
   "metadata": {},
   "outputs": [
    {
     "data": {
      "text/plain": [
       "0.81620093377109815"
      ]
     },
     "execution_count": 1538,
     "metadata": {},
     "output_type": "execute_result"
    }
   ],
   "source": [
    "lm.rsquared"
   ]
  },
  {
   "cell_type": "markdown",
   "metadata": {
    "collapsed": true
   },
   "source": [
    "Alabama doesnt fit very well. the rsquared changes too much. The murder coefficient is significant but its probably throwing off the rsqaured."
   ]
  },
  {
   "cell_type": "code",
   "execution_count": 1539,
   "metadata": {},
   "outputs": [
    {
     "name": "stdout",
     "output_type": "stream",
     "text": [
      "Cross-validated scores: [ 0.86018436  0.66836403  0.6087018   0.61059084  0.70893471  0.94902743]\n",
      "Cross-Predicted Accuracy: 0.827785587704\n"
     ]
    },
    {
     "data": {
      "image/png": "[encoded data removed]",
      "text/plain": [
       "<matplotlib.figure.Figure at 0x116338eb8>"
      ]
     },
     "metadata": {},
     "output_type": "display_data"
    }
   ],
   "source": [
    "from sklearn.linear_model import LinearRegression\n",
    "from sklearn.cross_validation import cross_val_score, cross_val_predict\n",
    "from sklearn import metrics\n",
    "data = dfNY[['Murder', 'Population2', 'Robbery']]\n",
    "target = dfNY['PropertyCrime']\n",
    "\n",
    "# initialize ln function\n",
    "lm = LinearRegression()\n",
    "\n",
    "# Fit data\n",
    "model = lm.fit(data, target)\n",
    "\n",
    "# Perform 6-fold cross validation\n",
    "scores = cross_val_score(lm, data, target, cv=6)\n",
    "print (\"Cross-validated scores:\", scores)\n",
    "\n",
    "# Make cross validated predictions\n",
    "predictions = cross_val_predict(model, data, target, cv=6)\n",
    "plt.scatter(target, predictions)\n",
    "accuracy = metrics.r2_score(target, predictions)\n",
    "\n",
    "print (\"Cross-Predicted Accuracy:\", accuracy)\n",
    "\n"
   ]
  },
  {
   "cell_type": "code",
   "execution_count": 1540,
   "metadata": {
    "collapsed": true
   },
   "outputs": [],
   "source": [
    "# My model is pretty awful."
   ]
  },
  {
   "cell_type": "code",
   "execution_count": 1541,
   "metadata": {},
   "outputs": [
    {
     "name": "stdout",
     "output_type": "stream",
     "text": [
      "Cross-validated scores: [ 0.84573138  0.7780174   0.96098338  0.98935892  0.66196909  0.83400935]\n",
      "Cross-Predicted Accuracy: 0.907601362315\n"
     ]
    },
    {
     "data": {
      "image/png": "[encoded data removed]",
      "text/plain": [
       "<matplotlib.figure.Figure at 0x1178c1908>"
      ]
     },
     "metadata": {},
     "output_type": "display_data"
    }
   ],
   "source": [
    "data = dfAL[['Murder', 'Population2', 'Robbery']]\n",
    "target = dfAL['PropertyCrime']\n",
    "\n",
    "# initialize ln function\n",
    "lm = LinearRegression()\n",
    "\n",
    "# Fit data\n",
    "model = lm.fit(data, target)\n",
    "\n",
    "# Perform 6-fold cross validation\n",
    "scores = cross_val_score(lm, data, target, cv=6)\n",
    "print (\"Cross-validated scores:\", scores)\n",
    "\n",
    "# Make cross validated predictions\n",
    "predictions = cross_val_predict(model, data, target, cv=6)\n",
    "plt.scatter(target, predictions)\n",
    "accuracy = metrics.r2_score(target, predictions)\n",
    "\n",
    "print (\"Cross-Predicted Accuracy:\", accuracy)\n"
   ]
  },
  {
   "cell_type": "code",
   "execution_count": 1542,
   "metadata": {},
   "outputs": [
    {
     "name": "stdout",
     "output_type": "stream",
     "text": [
      "Cross-validated scores: [ 0.77963395  0.8063042   0.54926778  0.56696303  0.82328234  0.88897349]\n",
      "Cross-Predicted Accuracy: 0.780899679299\n"
     ]
    },
    {
     "data": {
      "image/png": "[encoded data removed]",
      "text/plain": [
       "<matplotlib.figure.Figure at 0x116330390>"
      ]
     },
     "metadata": {},
     "output_type": "display_data"
    }
   ],
   "source": [
    "data = dfIL[['Murder', 'Population2', 'Robbery']]\n",
    "target = dfIL['PropertyCrime']\n",
    "\n",
    "# initialize ln function\n",
    "lm = LinearRegression()\n",
    "\n",
    "# Fit data\n",
    "model = lm.fit(data, target)\n",
    "\n",
    "# Perform 6-fold cross validation\n",
    "scores = cross_val_score(lm, data, target, cv=6)\n",
    "print (\"Cross-validated scores:\", scores)\n",
    "\n",
    "# Make cross validated predictions\n",
    "predictions = cross_val_predict(model, data, target, cv=6)\n",
    "plt.scatter(target, predictions)\n",
    "accuracy = metrics.r2_score(target, predictions)\n",
    "\n",
    "print (\"Cross-Predicted Accuracy:\", accuracy)"
   ]
  },
  {
   "cell_type": "markdown",
   "metadata": {},
   "source": [
    "## Make a new Model\n",
    "  I wanted to try to increase the consistency of the crossval scores while bringing the Rsquared for Alabama closer to the NY and IL models."
   ]
  },
  {
   "cell_type": "code",
   "execution_count": 1543,
   "metadata": {},
   "outputs": [],
   "source": [
    "#Can't take log of zero. Turn 0's to 1's\n",
    "dfNY['Robbery'] = dfNY['Robbery'] + 1\n",
    "dfNY['PropertyCrime'] = dfNY['PropertyCrime'] + 1\n",
    "\n",
    "dfNY['Robbery_log'] = np.log(dfNY['Robbery'])\n",
    "dfNY['PropertyCrime_log'] = np.log(dfNY['PropertyCrime']) \n",
    "\n",
    "dfNY['ViolentCrime'] = dfNY['Violent Crime']\n"
   ]
  },
  {
   "cell_type": "code",
   "execution_count": 1544,
   "metadata": {},
   "outputs": [
    {
     "data": {
      "image/png": "[encoded data removed]",
      "text/plain": [
       "<matplotlib.figure.Figure at 0x10ced21d0>"
      ]
     },
     "metadata": {},
     "output_type": "display_data"
    },
    {
     "data": {
      "image/png": "[encoded data removed]",
      "text/plain": [
       "<matplotlib.figure.Figure at 0x1158cc7f0>"
      ]
     },
     "metadata": {},
     "output_type": "display_data"
    }
   ],
   "source": [
    "sns.regplot(dfNY['Robbery_log'], dfNY['PropertyCrime_log'], ci = False)\n",
    "plt.show()\n",
    "sns.regplot(dfNY['ViolentCrime'], dfNY['PropertyCrime_log'], ci = False)\n",
    "plt.show()"
   ]
  },
  {
   "cell_type": "code",
   "execution_count": 1555,
   "metadata": {},
   "outputs": [
    {
     "name": "stdout",
     "output_type": "stream",
     "text": [
      "Cross-validated scores: [ 0.70135658  0.62489584  0.67220336  0.58718964  0.62893957  0.6902279 ]\n",
      "Cross-Predicted Accuracy: 0.656794522043\n"
     ]
    },
    {
     "data": {
      "image/png": "[encoded data removed]",
      "text/plain": [
       "<matplotlib.figure.Figure at 0x1170ee710>"
      ]
     },
     "metadata": {},
     "output_type": "display_data"
    }
   ],
   "source": [
    "data = dfNY[['ViolentCrime', 'Population', 'Robbery_log']]\n",
    "target = dfNY['PropertyCrime_log']\n",
    "\n",
    "# initialize ln function\n",
    "lm = LinearRegression()\n",
    "\n",
    "# Fit data\n",
    "model = lm.fit(data, target)\n",
    "\n",
    "# Perform 6-fold cross validation\n",
    "scores = cross_val_score(lm, data, target, cv=6)\n",
    "print (\"Cross-validated scores:\", scores)\n",
    "\n",
    "# Make cross validated predictions\n",
    "predictions = cross_val_predict(model, data, target, cv=6)\n",
    "plt.scatter(target, predictions)\n",
    "accuracy = metrics.r2_score(target, predictions)\n",
    "\n",
    "print (\"Cross-Predicted Accuracy:\", accuracy)"
   ]
  },
  {
   "cell_type": "code",
   "execution_count": 1556,
   "metadata": {},
   "outputs": [
    {
     "data": {
      "text/plain": [
       "Intercept       3.467\n",
       "Robbery_log     0.880\n",
       "Population      0.000\n",
       "ViolentCrime   -0.003\n",
       "dtype: float64"
      ]
     },
     "execution_count": 1556,
     "metadata": {},
     "output_type": "execute_result"
    }
   ],
   "source": [
    "lm = smf.ols(formula=linear_formula, data=dfNY).fit()\n",
    "linear_formula = 'PropertyCrime_log ~ Robbery_log+Population+ViolentCrime'\n",
    "lm.params"
   ]
  },
  {
   "cell_type": "code",
   "execution_count": 1557,
   "metadata": {},
   "outputs": [
    {
     "data": {
      "text/plain": [
       "Intercept      0.000\n",
       "Robbery_log    0.000\n",
       "Population     0.000\n",
       "ViolentCrime   0.000\n",
       "dtype: float64"
      ]
     },
     "execution_count": 1557,
     "metadata": {},
     "output_type": "execute_result"
    }
   ],
   "source": [
    "lm.pvalues"
   ]
  },
  {
   "cell_type": "code",
   "execution_count": 1558,
   "metadata": {},
   "outputs": [
    {
     "data": {
      "text/plain": [
       "0.66176509076079504"
      ]
     },
     "execution_count": 1558,
     "metadata": {},
     "output_type": "execute_result"
    }
   ],
   "source": [
    "lm.rsquared"
   ]
  },
  {
   "cell_type": "markdown",
   "metadata": {},
   "source": [
    "## Alabama new features and model"
   ]
  },
  {
   "cell_type": "code",
   "execution_count": 1561,
   "metadata": {},
   "outputs": [],
   "source": [
    "#Can't take log of zero. Turn 0's to 1's\n",
    "dfAL['Robbery'] = dfAL['Robbery'] + 1\n",
    "dfAL['PropertyCrime'] = dfAL['PropertyCrime'] + 1\n",
    "\n",
    "\n",
    "\n",
    "dfAL['Robbery_log'] = np.log(dfAL['Robbery'])\n",
    "dfAL['PropertyCrime_log'] = np.log(dfAL['PropertyCrime'])\n",
    "\n",
    "dfAL['ViolentCrime'] = dfAL['Violent Crime']\n",
    "\n",
    "dfAL = dfAL.fillna(0)\n"
   ]
  },
  {
   "cell_type": "code",
   "execution_count": 1562,
   "metadata": {},
   "outputs": [
    {
     "name": "stdout",
     "output_type": "stream",
     "text": [
      "Cross-validated scores: [ 0.73909446  0.85039472  0.76689211  0.86497919  0.75686714  0.80027495]\n",
      "Cross-Predicted Accuracy: 0.792400437329\n"
     ]
    },
    {
     "data": {
      "image/png": "[encoded data removed]",
      "text/plain": [
       "<matplotlib.figure.Figure at 0x116e81630>"
      ]
     },
     "metadata": {},
     "output_type": "display_data"
    }
   ],
   "source": [
    "data = dfAL[['ViolentCrime', 'Population', 'Robbery_log']]\n",
    "target = dfAL['PropertyCrime_log']\n",
    "\n",
    "# initialize ln function\n",
    "lm = LinearRegression()\n",
    "\n",
    "# Fit data\n",
    "model = lm.fit(data, target)\n",
    "\n",
    "# Perform 6-fold cross validation\n",
    "scores = cross_val_score(lm, data, target, cv=6)\n",
    "print (\"Cross-validated scores:\", scores)\n",
    "\n",
    "# Make cross validated predictions\n",
    "predictions = cross_val_predict(model, data, target, cv=6)\n",
    "plt.scatter(target, predictions)\n",
    "accuracy = metrics.r2_score(target, predictions)\n",
    "\n",
    "print (\"Cross-Predicted Accuracy:\", accuracy)"
   ]
  },
  {
   "cell_type": "code",
   "execution_count": 1569,
   "metadata": {},
   "outputs": [
    {
     "data": {
      "text/plain": [
       "Intercept       3.678\n",
       "ViolentCrime   -0.001\n",
       "Population      0.000\n",
       "Robbery_log     0.988\n",
       "dtype: float64"
      ]
     },
     "execution_count": 1569,
     "metadata": {},
     "output_type": "execute_result"
    }
   ],
   "source": [
    "lm = smf.ols(formula=linear_formula, data=dfAL).fit()\n",
    "linear_formula ='PropertyCrime_log ~ ViolentCrime+Population+Robbery_log'\n",
    "lm.params"
   ]
  },
  {
   "cell_type": "code",
   "execution_count": 1570,
   "metadata": {},
   "outputs": [
    {
     "data": {
      "text/plain": [
       "Intercept      0.000\n",
       "ViolentCrime   0.001\n",
       "Population     0.012\n",
       "Robbery_log    0.000\n",
       "dtype: float64"
      ]
     },
     "execution_count": 1570,
     "metadata": {},
     "output_type": "execute_result"
    }
   ],
   "source": [
    "lm.pvalues"
   ]
  },
  {
   "cell_type": "code",
   "execution_count": 1571,
   "metadata": {},
   "outputs": [
    {
     "data": {
      "text/plain": [
       "0.81561315596575912"
      ]
     },
     "execution_count": 1571,
     "metadata": {},
     "output_type": "execute_result"
    }
   ],
   "source": [
    "lm.rsquared"
   ]
  },
  {
   "cell_type": "markdown",
   "metadata": {},
   "source": [
    "## Illinois Model"
   ]
  },
  {
   "cell_type": "code",
   "execution_count": 1576,
   "metadata": {},
   "outputs": [],
   "source": [
    "#Can't take log of zero. Turn 0's to 1's\n",
    "dfIL['Robbery'] = dfIL['Robbery'] + 1\n",
    "dfIL['PropertyCrime'] = dfIL['PropertyCrime'] + 1\n",
    "\n",
    "dfIL['Robbery_log'] = np.log(dfIL['Robbery'])\n",
    "dfIL['PropertyCrime_log'] = np.log(dfIL['PropertyCrime'])\n",
    "\n",
    "dfIL['ViolentCrime'] = dfIL['Violent Crime']\n"
   ]
  },
  {
   "cell_type": "code",
   "execution_count": 1577,
   "metadata": {},
   "outputs": [
    {
     "name": "stdout",
     "output_type": "stream",
     "text": [
      "Cross-validated scores: [ 0.65546252  0.65223159  0.5964108   0.60751847  0.64331158  0.60613455]\n",
      "Cross-Predicted Accuracy: 0.630450265057\n"
     ]
    },
    {
     "data": {
      "image/png": "[encoded data removed]",
      "text/plain": [
       "<matplotlib.figure.Figure at 0x117d914e0>"
      ]
     },
     "metadata": {},
     "output_type": "display_data"
    }
   ],
   "source": [
    "data = dfIL[['ViolentCrime', 'Population', 'Robbery_log']]\n",
    "target = dfIL['PropertyCrime_log']\n",
    "\n",
    "# initialize ln function\n",
    "lm = LinearRegression()\n",
    "\n",
    "# Fit data\n",
    "model = lm.fit(data, target)\n",
    "\n",
    "# Perform 6-fold cross validation\n",
    "scores = cross_val_score(lm, data, target, cv=6)\n",
    "print (\"Cross-validated scores:\", scores)\n",
    "\n",
    "# Make cross validated predictions\n",
    "predictions = cross_val_predict(model, data, target, cv=6)\n",
    "plt.scatter(target, predictions)\n",
    "accuracy = metrics.r2_score(target, predictions)\n",
    "\n",
    "print (\"Cross-Predicted Accuracy:\", accuracy)"
   ]
  },
  {
   "cell_type": "code",
   "execution_count": 1590,
   "metadata": {},
   "outputs": [
    {
     "data": {
      "text/plain": [
       "Intercept       3.309\n",
       "ViolentCrime   -0.004\n",
       "Population      0.000\n",
       "Robbery_log     0.828\n",
       "dtype: float64"
      ]
     },
     "execution_count": 1590,
     "metadata": {},
     "output_type": "execute_result"
    }
   ],
   "source": [
    "lm = smf.ols(formula=linear_formula, data=dfIL).fit()\n",
    "linear_formula = 'PropertyCrime_log ~ ViolentCrime+Population+Robbery_log'\n",
    "lm.params"
   ]
  },
  {
   "cell_type": "code",
   "execution_count": 1591,
   "metadata": {},
   "outputs": [
    {
     "data": {
      "text/plain": [
       "Intercept      0.000\n",
       "ViolentCrime   0.000\n",
       "Population     0.000\n",
       "Robbery_log    0.000\n",
       "dtype: float64"
      ]
     },
     "execution_count": 1591,
     "metadata": {},
     "output_type": "execute_result"
    }
   ],
   "source": [
    "lm.pvalues"
   ]
  },
  {
   "cell_type": "code",
   "execution_count": 1592,
   "metadata": {},
   "outputs": [
    {
     "data": {
      "text/plain": [
       "0.63641536342050731"
      ]
     },
     "execution_count": 1592,
     "metadata": {},
     "output_type": "execute_result"
    }
   ],
   "source": [
    "lm.rsquared"
   ]
  },
  {
   "cell_type": "markdown",
   "metadata": {},
   "source": [
    "After iterating through probably 30 models, I ended up with a model that isn't great, but is a slight improvement over my first model. My holdout scores were much more consistent within each dataset, but my rsquared values suffered, although the Alabama rsquared came down to a more reasonable 81.5. I was able to get them close to consistent across all 3 states, but by pvalues were as high as 80% and I had to drop the features that made the r2 more consistent.\n",
    "\n",
    "It's not surprising that IL and NY were reasonably consistent while Alabama always had a different r2 as NY and IL are more similar to each other than they are to Alabama. \n",
    "\n",
    "If were running this on all 50 states, I think I would try to use Naive Bayes to classify the states into certain categories and then run a regression model. "
   ]
  }
 ],
 "metadata": {
  "kernelspec": {
   "display_name": "Python 3",
   "language": "python",
   "name": "python3"
  },
  "language_info": {
   "codemirror_mode": {
    "name": "ipython",
    "version": 3
   },
   "file_extension": ".py",
   "mimetype": "text/x-python",
   "name": "python",
   "nbconvert_exporter": "python",
   "pygments_lexer": "ipython3",
   "version": "3.6.3"
  }
 },
 "nbformat": 4,
 "nbformat_minor": 2
}
