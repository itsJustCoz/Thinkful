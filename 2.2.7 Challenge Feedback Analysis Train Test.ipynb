{
 "cells": [
  {
   "cell_type": "code",
   "execution_count": 1,
   "metadata": {},
   "outputs": [],
   "source": [
    "import numpy as np\n",
    "import pandas as pd\n",
    "import scipy\n",
    "import sklearn\n",
    "import matplotlib.pyplot as plt\n",
    "import seaborn as sns\n",
    "%matplotlib inline"
   ]
  },
  {
   "cell_type": "code",
   "execution_count": 2,
   "metadata": {},
   "outputs": [
    {
     "data": {
      "text/html": [
       "<div>\n",
       "<style scoped>\n",
       "    .dataframe tbody tr th:only-of-type {\n",
       "        vertical-align: middle;\n",
       "    }\n",
       "\n",
       "    .dataframe tbody tr th {\n",
       "        vertical-align: top;\n",
       "    }\n",
       "\n",
       "    .dataframe thead th {\n",
       "        text-align: right;\n",
       "    }\n",
       "</style>\n",
       "<table border=\"1\" class=\"dataframe\">\n",
       "  <thead>\n",
       "    <tr style=\"text-align: right;\">\n",
       "      <th></th>\n",
       "      <th>text</th>\n",
       "      <th>sentiment</th>\n",
       "    </tr>\n",
       "  </thead>\n",
       "  <tbody>\n",
       "    <tr>\n",
       "      <th>0</th>\n",
       "      <td>A very, very, very slow-moving, aimless movie ...</td>\n",
       "      <td>0</td>\n",
       "    </tr>\n",
       "    <tr>\n",
       "      <th>1</th>\n",
       "      <td>Not sure who was more lost - the flat characte...</td>\n",
       "      <td>0</td>\n",
       "    </tr>\n",
       "    <tr>\n",
       "      <th>2</th>\n",
       "      <td>Attempting artiness with black &amp; white and cle...</td>\n",
       "      <td>0</td>\n",
       "    </tr>\n",
       "    <tr>\n",
       "      <th>3</th>\n",
       "      <td>Very little music or anything to speak of.</td>\n",
       "      <td>0</td>\n",
       "    </tr>\n",
       "    <tr>\n",
       "      <th>4</th>\n",
       "      <td>The best scene in the movie was when Gerardo i...</td>\n",
       "      <td>1</td>\n",
       "    </tr>\n",
       "  </tbody>\n",
       "</table>\n",
       "</div>"
      ],
      "text/plain": [
       "                                                text  sentiment\n",
       "0  A very, very, very slow-moving, aimless movie ...          0\n",
       "1  Not sure who was more lost - the flat characte...          0\n",
       "2  Attempting artiness with black & white and cle...          0\n",
       "3       Very little music or anything to speak of.            0\n",
       "4  The best scene in the movie was when Gerardo i...          1"
      ]
     },
     "execution_count": 2,
     "metadata": {},
     "output_type": "execute_result"
    }
   ],
   "source": [
    "#importing imdb data\n",
    "imdb_sent = pd.read_csv('sentiment labelled sentences/imdb_labelled.txt', '\\t', header=None)\n",
    "imdb_sent.columns = ['text', 'sentiment']\n",
    "imdb_sent.head()"
   ]
  },
  {
   "cell_type": "code",
   "execution_count": 3,
   "metadata": {},
   "outputs": [
    {
     "name": "stdout",
     "output_type": "stream",
     "text": [
      "Total\n",
      "Percent Positive: 48.39572192513369\tPercent Negative: 51.60427807486631\n",
      "Train\n",
      "Percent Positive: 47.05882352941177\tPercent Negative: 52.94117647058823\n",
      "Test\n",
      "Percent Positive: 49.73262032085562\tPercent Negative: 50.26737967914438\n"
     ]
    }
   ],
   "source": [
    "#identifying initial percent positive and negative\n",
    "sent_count = imdb_sent.sentiment.value_counts()\n",
    "print('Total\\nPercent Positive: {}\\tPercent Negative: {}'.format(100*sent_count[0]/(imdb_sent.shape[0]), 100*sent_count[1]/(imdb_sent.shape[0]))) \n",
    "\n",
    "#splitting imdb data into train and test groups - 75%/25%\n",
    "np.random.seed(222)\n",
    "imdb_train = imdb_sent.sample(frac=0.75, replace=False)\n",
    "imdb_test = imdb_sent.sample(frac=0.25, replace=False)\n",
    "\n",
    "#identifying train and test percent positive and negative\n",
    "sent_count_train = imdb_train.sentiment.value_counts()\n",
    "print('Train\\nPercent Positive: {}\\tPercent Negative: {}'.format(100*sent_count_train[0]/(imdb_train.shape[0]), 100*sent_count_train[1]/(imdb_train.shape[0]))) \n",
    "\n",
    "sent_count_test = imdb_test.sentiment.value_counts()\n",
    "print('Test\\nPercent Positive: {}\\tPercent Negative: {}'.format(100*sent_count_test[0]/(imdb_test.shape[0]), 100*sent_count_test[1]/(imdb_test.shape[0]))) \n"
   ]
  },
  {
   "cell_type": "code",
   "execution_count": 4,
   "metadata": {},
   "outputs": [],
   "source": [
    "#identifying key words for bad reviews\n",
    "keywords = ['worst', 'slow', 'boring', 'bored', \n",
    "            'bad', 'awful', 'terrible', 'negative', 'walked out', \n",
    "            'long', 'predictable', 'avoid', 'hard to watch', 'annoy', 'hate', \n",
    "            'stink', 'stunk', 'trash', 'unhappy', 'upset']\n",
    "\n",
    "#creating columns to identify if keyword in review for test and train \n",
    "for key in keywords:\n",
    "    imdb_train[str(key)] = imdb_train.text.str.contains(\n",
    "        str(key), \n",
    "        case=False\n",
    "    )\n",
    "\n",
    "for key in keywords:\n",
    "    imdb_test[str(key)] = imdb_test.text.str.contains(\n",
    "        str(key), \n",
    "        case=False\n",
    "    )"
   ]
  },
  {
   "cell_type": "markdown",
   "metadata": {},
   "source": [
    "__Feature Engineering and Selection Process:__\n",
    "In selecting these keywords as features in this model, I first brainstormed whatever words I could think of that could describe the latest bad movies I'd seen.  This yielded only a 50% correct labeling.  I then turned to google to identify more words that would describe bad movies.  I chose ones that I had seen in bad movie reviews in the past. "
   ]
  },
  {
   "cell_type": "code",
   "execution_count": 5,
   "metadata": {},
   "outputs": [
    {
     "data": {
      "text/plain": [
       "<matplotlib.axes._subplots.AxesSubplot at 0x105147470>"
      ]
     },
     "execution_count": 5,
     "metadata": {},
     "output_type": "execute_result"
    },
    {
     "data": {
      "image/png": "[encoded data removed]",
      "text/plain": [
       "<matplotlib.figure.Figure at 0x1132584a8>"
      ]
     },
     "metadata": {},
     "output_type": "display_data"
    }
   ],
   "source": [
    "#plotting heatmap to ensure independence\n",
    "plt.figure(figsize=(15, 15))\n",
    "sns.heatmap(imdb_train.corr())"
   ]
  },
  {
   "cell_type": "code",
   "execution_count": 6,
   "metadata": {},
   "outputs": [],
   "source": [
    "#identifying x and y values for train and test\n",
    "data_train = imdb_train[keywords]\n",
    "target_train = imdb_train['sentiment']\n",
    "\n",
    "data_test = imdb_test[keywords]\n",
    "target_test = imdb_test['sentiment']"
   ]
  },
  {
   "cell_type": "code",
   "execution_count": 7,
   "metadata": {},
   "outputs": [
    {
     "name": "stdout",
     "output_type": "stream",
     "text": [
      "Number of mislabeled points out of a total 187 points: 65\n",
      "Percent of Test Mislabeled:  34.75935828877005 %\n"
     ]
    }
   ],
   "source": [
    "from sklearn.naive_bayes import BernoulliNB\n",
    "\n",
    "#initializing NB\n",
    "bnb = BernoulliNB()\n",
    "#training model \n",
    "bnb.fit(data_train, target_train)\n",
    "#classifying test data\n",
    "y_pred_test = bnb.predict(data_test)\n",
    "\n",
    "print('Number of mislabeled points out of a total {} points: {}'.format(\n",
    "     data_test.shape[0],\n",
    "     (target_test != y_pred_test).sum()\n",
    "))\n",
    "#percent mislabeled\n",
    "print('Percent of Test Mislabeled: ', (100 * ((target_test != y_pred_test).sum()) /data_test.shape[0]), '%')"
   ]
  },
  {
   "cell_type": "code",
   "execution_count": 8,
   "metadata": {},
   "outputs": [],
   "source": [
    "#Repeating process for Yelp Data\n",
    "yelp_sent = pd.read_csv('sentiment labelled sentences/yelp_labelled.txt', '\\t', header=None)\n",
    "yelp_sent.columns = ['text', 'sentiment']\n",
    "\n",
    "for key in keywords:\n",
    "    yelp_sent[str(key)] = yelp_sent.text.str.contains(\n",
    "        str(key), \n",
    "        case=False\n",
    "    )\n",
    "    \n",
    "yelp_data = yelp_sent[keywords]\n",
    "yelp_target = yelp_sent['sentiment']"
   ]
  },
  {
   "cell_type": "code",
   "execution_count": 9,
   "metadata": {},
   "outputs": [
    {
     "name": "stdout",
     "output_type": "stream",
     "text": [
      "Number of mislabeled points out of a total 1000 points: 439\n",
      "Percent of Yelp Mislabeled:  43.9 %\n"
     ]
    }
   ],
   "source": [
    "y_pred_yelp = bnb.predict(yelp_data)\n",
    "\n",
    "print('Number of mislabeled points out of a total {} points: {}'.format(\n",
    "    yelp_data.shape[0], \n",
    "    (yelp_target != y_pred_yelp).sum()\n",
    "))\n",
    "print('Percent of Yelp Mislabeled: ', (100 * ((yelp_target != y_pred_yelp).sum()) /yelp_data.shape[0]), '%')"
   ]
  },
  {
   "cell_type": "code",
   "execution_count": 10,
   "metadata": {},
   "outputs": [],
   "source": [
    "#Repeating with Amazon data\n",
    "amazon_sent = pd.read_csv('sentiment labelled sentences/amazon_cells_labelled.txt', '\\t', header=None)\n",
    "amazon_sent.columns = ['text', 'sentiment']\n",
    "\n",
    "for key in keywords:\n",
    "    amazon_sent[str(key)] = amazon_sent.text.str.contains(\n",
    "        str(key), \n",
    "        case=False\n",
    "    )\n",
    "    \n",
    "amazon_data = amazon_sent[keywords]\n",
    "amazon_target = amazon_sent['sentiment']"
   ]
  },
  {
   "cell_type": "code",
   "execution_count": 11,
   "metadata": {},
   "outputs": [
    {
     "name": "stdout",
     "output_type": "stream",
     "text": [
      "Number of mislabeled points out of a total 1000 points: 451\n",
      "Percent of Amazon Mislabeled:  45.1 %\n"
     ]
    }
   ],
   "source": [
    "y_pred_amazon = bnb.predict(amazon_data)\n",
    "\n",
    "print('Number of mislabeled points out of a total {} points: {}'.format(\n",
    "    amazon_data.shape[0], \n",
    "    (amazon_target != y_pred_amazon).sum()\n",
    "))\n",
    "print('Percent of Amazon Mislabeled: ', (100 * ((amazon_target != y_pred_amazon).sum()) /amazon_data.shape[0]), '%')"
   ]
  },
  {
   "cell_type": "markdown",
   "metadata": {},
   "source": [
    "The features used in this model were 10% less accurate at predicting the sentiment for data that was translated from other contexts. "
   ]
  },
  {
   "cell_type": "code",
   "execution_count": null,
   "metadata": {},
   "outputs": [],
   "source": []
  }
 ],
 "metadata": {
  "kernelspec": {
   "display_name": "Python 3",
   "language": "python",
   "name": "python3"
  },
  "language_info": {
   "codemirror_mode": {
    "name": "ipython",
    "version": 3
   },
   "file_extension": ".py",
   "mimetype": "text/x-python",
   "name": "python",
   "nbconvert_exporter": "python",
   "pygments_lexer": "ipython3",
   "version": "3.6.2"
  }
 },
 "nbformat": 4,
 "nbformat_minor": 2
}
