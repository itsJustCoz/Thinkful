{
 "cells": [
  {
   "cell_type": "code",
   "execution_count": 209,
   "metadata": {
    "collapsed": true
   },
   "outputs": [],
   "source": [
    "import numpy as np\n",
    "import pandas as pd\n",
    "import matplotlib.pyplot as plt\n",
    "import scipy\n",
    "%matplotlib inline"
   ]
  },
  {
   "cell_type": "code",
   "execution_count": 274,
   "metadata": {},
   "outputs": [
    {
     "data": {
      "image/png": "[encoded data removed]",
      "text/plain": [
       "<matplotlib.figure.Figure at 0x117bdb1d0>"
      ]
     },
     "metadata": {},
     "output_type": "display_data"
    }
   ],
   "source": [
    "music = pd.DataFrame()\n",
    "\n",
    "# Some data to play with.\n",
    "music['duration'] = [184, 134, 243, 186, 122, 197, 294, 382, 102, 264, \n",
    "                     205, 110, 307, 110, 397, 153, 190, 192, 210, 403,\n",
    "                     164, 198, 204, 253, 234, 190, 182, 401, 376, 102]\n",
    "music['loudness'] = [18, 34, 43, 36, 22, 9, 29, 22, 10, 24, \n",
    "                     20, 10, 17, 51, 7, 13, 19, 12, 21, 22,\n",
    "                     16, 18, 4, 23, 34, 19, 14, 11, 37, 42]\n",
    "\n",
    "# We know whether the songs in our training data are jazz or not.\n",
    "music['jazz'] = [ 1, 0, 0, 0, 1, 1, 0, 1, 1, 0,\n",
    "                  0, 1, 1, 0, 1, 1, 0, 1, 1, 1,\n",
    "                  1, 1, 1, 1, 0, 0, 1, 1, 0, 0]\n",
    "\n",
    "\n",
    "# Look at our data.\n",
    "plt.scatter(\n",
    "    music[music['jazz'] == 1].duration,\n",
    "    music[music['jazz'] == 1].loudness,\n",
    "    color='red'\n",
    ")\n",
    "plt.scatter(\n",
    "    music[music['jazz'] == 0].duration,\n",
    "    music[music['jazz'] == 0].loudness,\n",
    "    color='blue'\n",
    ")\n",
    "plt.legend(['Jazz', 'Rock'])\n",
    "plt.title('Jazz and Rock Characteristics')\n",
    "plt.xlabel('Duration')\n",
    "plt.ylabel('Loudness')\n",
    "plt.show()"
   ]
  },
  {
   "cell_type": "code",
   "execution_count": 285,
   "metadata": {},
   "outputs": [
    {
     "data": {
      "text/plain": [
       "array([0])"
      ]
     },
     "execution_count": 285,
     "metadata": {},
     "output_type": "execute_result"
    }
   ],
   "source": [
    "from sklearn.neighbors import KNeighborsClassifier\n",
    "neighbors = KNeighborsClassifier(n_neighbors=1)\n",
    "X = music[['loudness', 'duration']]\n",
    "Y = music.jazz\n",
    "neighbors.fit(X,Y)\n",
    "\n",
    "## Predict for a song with 24 loudness that's 190 seconds long.\n",
    "neighbors.predict([[24, 190]])"
   ]
  },
  {
   "cell_type": "code",
   "execution_count": 276,
   "metadata": {},
   "outputs": [
    {
     "name": "stdout",
     "output_type": "stream",
     "text": [
      "[1]\n",
      "[[ 0.4  0.6]]\n"
     ]
    }
   ],
   "source": [
    "neighbors = KNeighborsClassifier(n_neighbors=5)\n",
    "X = music[['loudness', 'duration']]\n",
    "Y = music.jazz\n",
    "neighbors.fit(X,Y)\n",
    "\n",
    "## Predict for a 24 loudness, 190 seconds long song.\n",
    "print(neighbors.predict([[24, 190]]))\n",
    "print(neighbors.predict_proba([[24, 190]]))"
   ]
  },
  {
   "cell_type": "code",
   "execution_count": 277,
   "metadata": {},
   "outputs": [
    {
     "data": {
      "image/png": "[encoded data removed]",
      "text/plain": [
       "<matplotlib.figure.Figure at 0x117bc7e10>"
      ]
     },
     "metadata": {},
     "output_type": "display_data"
    }
   ],
   "source": [
    "# Our data. Converting from data frames to arrays for the mesh.\n",
    "X = np.array(X)# assign to array of X\n",
    "Y = np.array(Y) # assign to array of Y\n",
    "\n",
    "# Mesh size.\n",
    "h = 42 # assign a mesh with size 4 to var h\n",
    "\n",
    "# Plot the decision boundary. We assign a color to each point in the mesh.\n",
    "x_min = X[:, 0].min() - .5 # assign x_min to the min of the first column -.5\n",
    "x_max = X[:, 0].max() + .5 # assign x_max to the max of the first column +.5\n",
    "y_min = X[:, 1].min() - .5 # assign y_min to the min of the 2nd column -.5\n",
    "y_max = X[:, 1].max() + .5 # assign y_max to the max of the 2nd column -.5\n",
    "xx, yy = np.meshgrid(  #https://plot.ly/numpy/meshgrid/ -- creates N-D coordinate grids. each array here contains arrays with an array full of the first item\n",
    "    np.arange(x_min, x_max, h), # range from xmin to x max stepping by h(4 from above) > Assigned to xx\n",
    "    np.arange(y_min, y_max, h)  # range ymin to ymax  stepping by h(4 from above) >> assigned to yy\n",
    ")\n",
    "Z = neighbors.predict(np.c_[xx.ravel(), yy.ravel()]) # store neighbors classification prediction in Z.\n",
    "                       # ravel flattens > np.array([[1, 2, 3], [4, 5, 6]]) to[1 2 3 4 5 6]\n",
    "# Put the result into a color plot.\n",
    "Z = Z.reshape(xx.shape) #reshape Z into the shape of xx{Tuple of array dimensions.} (12, 76)\n",
    "plt.figure(1, figsize=(6, 4))\n",
    "plt.set_cmap(plt.cm.Paired) #setting colors\n",
    "plt.pcolormesh(xx, yy, Z) #plotting a colormap (x y data)\n",
    "\n",
    "# Add the training points to the plot.\n",
    "plt.scatter(X[:, 0], X[:, 1], c=Y)  #x = all in X column 1. y = all in column 2\n",
    "plt.xlabel('Loudness')\n",
    "plt.ylabel('Duration')\n",
    "plt.title('Mesh visualization')\n",
    "\n",
    "plt.xlim(xx.min(), xx.max())\n",
    "plt.ylim(yy.min(), yy.max())\n",
    "\n",
    "plt.show()"
   ]
  },
  {
   "cell_type": "code",
   "execution_count": 278,
   "metadata": {},
   "outputs": [
    {
     "data": {
      "text/plain": [
       "array([[  3.5,  45.5],\n",
       "       [  3.5,  45.5],\n",
       "       [  3.5,  45.5],\n",
       "       [  3.5,  45.5],\n",
       "       [  3.5,  45.5],\n",
       "       [  3.5,  45.5],\n",
       "       [  3.5,  45.5],\n",
       "       [  3.5,  45.5]])"
      ]
     },
     "execution_count": 278,
     "metadata": {},
     "output_type": "execute_result"
    }
   ],
   "source": [
    "xx"
   ]
  },
  {
   "cell_type": "code",
   "execution_count": 279,
   "metadata": {},
   "outputs": [
    {
     "data": {
      "text/plain": [
       "array([[   3.5,  101.5],\n",
       "       [  45.5,  101.5],\n",
       "       [   3.5,  143.5],\n",
       "       [  45.5,  143.5],\n",
       "       [   3.5,  185.5],\n",
       "       [  45.5,  185.5],\n",
       "       [   3.5,  227.5],\n",
       "       [  45.5,  227.5],\n",
       "       [   3.5,  269.5],\n",
       "       [  45.5,  269.5],\n",
       "       [   3.5,  311.5],\n",
       "       [  45.5,  311.5],\n",
       "       [   3.5,  353.5],\n",
       "       [  45.5,  353.5],\n",
       "       [   3.5,  395.5],\n",
       "       [  45.5,  395.5]])"
      ]
     },
     "execution_count": 279,
     "metadata": {},
     "output_type": "execute_result"
    }
   ],
   "source": [
    "(np.c_[xx.ravel(), yy.ravel()])"
   ]
  },
  {
   "cell_type": "code",
   "execution_count": 280,
   "metadata": {},
   "outputs": [
    {
     "data": {
      "text/plain": [
       "array([[1, 2, 3, 4, 5, 6]])"
      ]
     },
     "execution_count": 280,
     "metadata": {},
     "output_type": "execute_result"
    }
   ],
   "source": [
    "np.c_[np.array([[1,2,3]]), np.array([[4,5,6]])]"
   ]
  },
  {
   "cell_type": "code",
   "execution_count": 281,
   "metadata": {},
   "outputs": [
    {
     "data": {
      "text/plain": [
       "(8, 2)"
      ]
     },
     "execution_count": 281,
     "metadata": {},
     "output_type": "execute_result"
    }
   ],
   "source": [
    "xx.shape"
   ]
  },
  {
   "cell_type": "code",
   "execution_count": 282,
   "metadata": {},
   "outputs": [],
   "source": [
    "#square root of sum of the squared distances\n",
    "# find the neighbor that is the min() distance away\n",
    "# use music / loudness and duration from above\n",
    "# Loop through two dfs. Save the shortest distance in a var and the index if its the shortest. \n",
    "# Return the index from the \n",
    "import math \n",
    "\n",
    "\n",
    "def NN(a,b):\n",
    "    for ind, row in music.iterrows():\n",
    "        loudness = row['loudness']\n",
    "        duration = row['duration']\n",
    "        \n",
    "        #find distance\n",
    "        dist = np.sqrt(math.pow((a-loudness),2) + math.pow((b-duration),2))\n",
    "       \n",
    "        #deal with shortest being empty for the first loop\n",
    "        if ind == 0:\n",
    "            shortest = dist\n",
    "            index = ind\n",
    "        #store the shortest distance and the index \n",
    "        elif dist < shortest:\n",
    "            shortest = dist\n",
    "            index = ind\n",
    "   \n",
    "\n",
    "    print(shortest)\n",
    "    print('Loudness: ', music.at[index, 'loudness'])\n",
    "    print('Duration: ', music.at[index, 'duration'])\n",
    "    return music.at[index, 'jazz']\n",
    "            \n",
    "    \n",
    "  \n"
   ]
  },
  {
   "cell_type": "code",
   "execution_count": 283,
   "metadata": {},
   "outputs": [
    {
     "name": "stdout",
     "output_type": "stream",
     "text": [
      "2.2360679775\n",
      "Loudness:  18\n",
      "Duration:  198\n",
      "1\n",
      "3.60555127546\n",
      "Loudness:  18\n",
      "Duration:  198\n",
      "1\n",
      "3.0\n",
      "Loudness:  20\n",
      "Duration:  205\n",
      "0\n",
      "2.0\n",
      "Loudness:  20\n",
      "Duration:  205\n",
      "0\n"
     ]
    }
   ],
   "source": [
    "print(NN(19,200))\n",
    "print(NN(20,201))\n",
    "print(NN(20,202))\n",
    "print(NN(20,203))\n"
   ]
  },
  {
   "cell_type": "code",
   "execution_count": 288,
   "metadata": {},
   "outputs": [
    {
     "name": "stdout",
     "output_type": "stream",
     "text": [
      "[1]\n",
      "[1]\n",
      "[0]\n",
      "[0]\n"
     ]
    }
   ],
   "source": [
    "print(neighbors.predict([[19,200]]))\n",
    "print(neighbors.predict([[20,201]]))\n",
    "print(neighbors.predict([[20,202]]))\n",
    "print(neighbors.predict([[20,203]]))\n",
    "\n",
    "\n",
    "\n",
    "\n"
   ]
  }
 ],
 "metadata": {
  "kernelspec": {
   "display_name": "Python 3",
   "language": "python",
   "name": "python3"
  },
  "language_info": {
   "codemirror_mode": {
    "name": "ipython",
    "version": 3
   },
   "file_extension": ".py",
   "mimetype": "text/x-python",
   "name": "python",
   "nbconvert_exporter": "python",
   "pygments_lexer": "ipython3",
   "version": "3.6.3"
  }
 },
 "nbformat": 4,
 "nbformat_minor": 2
}
