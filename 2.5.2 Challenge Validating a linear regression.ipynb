{
 "cells": [
  {
   "cell_type": "markdown",
   "metadata": {
    "run_control": {
     "frozen": false,
     "read_only": false
    }
   },
   "source": [
    "# Validating a Linear Regression\n",
    "\n",
    "[Download the Excel file here](https://ucr.fbi.gov/crime-in-the-u.s/2013/crime-in-the-u.s.-2013/tables/table-8/table-8-state-cuts/table_8_offenses_known_to_law_enforcement_new_york_by_city_2013.xls) on crime data in New York State in 2013, provided by the FBI: UCR ([Thinkful mirror](https://raw.githubusercontent.com/Thinkful-Ed/data-201-resources/master/New_York_offenses/NEW_YORK-Offenses_Known_to_Law_Enforcement_by_City_2013%20-%2013tbl8ny.csv)).\n",
    "\n",
    "Prepare this data to model with multivariable regression (including data cleaning if necessary) according to this specification:\n",
    "\n",
    "$$ Property crime = \\alpha + Population + Population^2 + Murder + Robbery$$\n",
    "\n",
    "Features identified through analysis [here](https://github.com/ephs08kmp/Thinkful_Bootcamp_Challenges/blob/master/2.4.4%20Challenge%20Multivariable%20Regression%20Model.ipynb). Code below to set features for modeling and validation."
   ]
  },
  {
   "cell_type": "markdown",
   "metadata": {},
   "source": [
    "## Preparing the Data"
   ]
  },
  {
   "cell_type": "code",
   "execution_count": 2,
   "metadata": {},
   "outputs": [],
   "source": [
    "#necessary imports\n",
    "import pandas as pd\n",
    "from matplotlib import pyplot as plt\n",
    "import numpy as np\n",
    "from sklearn import linear_model\n",
    "from sklearn import metrics\n",
    "%matplotlib inline\n",
    "pd.options.display.float_format = '{:.3f}'.format\n",
    "\n",
    "import warnings\n",
    "warnings.filterwarnings(action='ignore', module='scipy', message='^internal gelsd')"
   ]
  },
  {
   "cell_type": "code",
   "execution_count": 3,
   "metadata": {},
   "outputs": [],
   "source": [
    "#read in data\n",
    "df = pd.read_excel('table_8_offenses_known_to_law_enforcement_new_york_by_city_2013.xls', header=4)"
   ]
  },
  {
   "cell_type": "code",
   "execution_count": 4,
   "metadata": {
    "scrolled": true
   },
   "outputs": [],
   "source": [
    "#calculating median, standard deviation and the limit for outliers\n",
    "median = df.Population.median()\n",
    "std = df.Population.std()\n",
    "pop_out = median + 2* std\n",
    "#turning outliers into None\n",
    "df['Population'] = df.Population.map(lambda x: x if x < pop_out else None)\n",
    "\n",
    "median = df['Murder and\\nnonnegligent\\nmanslaughter'].median()\n",
    "std = df['Murder and\\nnonnegligent\\nmanslaughter'].std()\n",
    "mur_out = median + 2* std\n",
    "df['Murder and\\nnonnegligent\\nmanslaughter'] = df['Murder and\\nnonnegligent\\nmanslaughter'].map(lambda x: x if x < mur_out else None)\n",
    "\n",
    "median = df.Robbery.median()\n",
    "std = df.Robbery.std()\n",
    "rob_out = median + 2* std\n",
    "df['Robbery'] = df.Robbery.map(lambda x: x if x < rob_out else None)\n",
    "\n",
    "median = df['Property\\ncrime'].median()\n",
    "std = df['Property\\ncrime'].std()\n",
    "prop_out = median + 2* std\n",
    "df['Property_crime'] = df['Property\\ncrime'].map(lambda x: x if x < prop_out else None)"
   ]
  },
  {
   "cell_type": "code",
   "execution_count": 5,
   "metadata": {},
   "outputs": [],
   "source": [
    "#creating population squared feature\n",
    "df['PopSq'] = df['Population']**2"
   ]
  },
  {
   "cell_type": "code",
   "execution_count": 6,
   "metadata": {},
   "outputs": [],
   "source": [
    "#turning murder and robbery into categorical features\n",
    "df['Murder_cat'] = df['Murder and\\nnonnegligent\\nmanslaughter'].dropna().map(lambda x: 1 if x > 0 else 0)\n",
    "df['Robbery_cat'] = df.Robbery.dropna().map(lambda x: 1 if x > 0 else 0)"
   ]
  },
  {
   "cell_type": "code",
   "execution_count": 7,
   "metadata": {},
   "outputs": [
    {
     "data": {
      "text/html": [
       "<div>\n",
       "<style scoped>\n",
       "    .dataframe tbody tr th:only-of-type {\n",
       "        vertical-align: middle;\n",
       "    }\n",
       "\n",
       "    .dataframe tbody tr th {\n",
       "        vertical-align: top;\n",
       "    }\n",
       "\n",
       "    .dataframe thead th {\n",
       "        text-align: right;\n",
       "    }\n",
       "</style>\n",
       "<table border=\"1\" class=\"dataframe\">\n",
       "  <thead>\n",
       "    <tr style=\"text-align: right;\">\n",
       "      <th></th>\n",
       "      <th>Population</th>\n",
       "      <th>PopSq</th>\n",
       "      <th>Murder_cat</th>\n",
       "      <th>Robbery_cat</th>\n",
       "      <th>Property_crime</th>\n",
       "    </tr>\n",
       "  </thead>\n",
       "  <tbody>\n",
       "    <tr>\n",
       "      <th>0</th>\n",
       "      <td>1861.000</td>\n",
       "      <td>3463321.000</td>\n",
       "      <td>0.000</td>\n",
       "      <td>0.000</td>\n",
       "      <td>12.000</td>\n",
       "    </tr>\n",
       "    <tr>\n",
       "      <th>1</th>\n",
       "      <td>2577.000</td>\n",
       "      <td>6640929.000</td>\n",
       "      <td>0.000</td>\n",
       "      <td>0.000</td>\n",
       "      <td>24.000</td>\n",
       "    </tr>\n",
       "    <tr>\n",
       "      <th>2</th>\n",
       "      <td>2846.000</td>\n",
       "      <td>8099716.000</td>\n",
       "      <td>0.000</td>\n",
       "      <td>0.000</td>\n",
       "      <td>16.000</td>\n",
       "    </tr>\n",
       "    <tr>\n",
       "      <th>3</th>\n",
       "      <td>97956.000</td>\n",
       "      <td>9595377936.000</td>\n",
       "      <td>1.000</td>\n",
       "      <td>1.000</td>\n",
       "      <td>4090.000</td>\n",
       "    </tr>\n",
       "    <tr>\n",
       "      <th>4</th>\n",
       "      <td>6388.000</td>\n",
       "      <td>40806544.000</td>\n",
       "      <td>0.000</td>\n",
       "      <td>1.000</td>\n",
       "      <td>223.000</td>\n",
       "    </tr>\n",
       "  </tbody>\n",
       "</table>\n",
       "</div>"
      ],
      "text/plain": [
       "   Population          PopSq  Murder_cat  Robbery_cat  Property_crime\n",
       "0    1861.000    3463321.000       0.000        0.000          12.000\n",
       "1    2577.000    6640929.000       0.000        0.000          24.000\n",
       "2    2846.000    8099716.000       0.000        0.000          16.000\n",
       "3   97956.000 9595377936.000       1.000        1.000        4090.000\n",
       "4    6388.000   40806544.000       0.000        1.000         223.000"
      ]
     },
     "execution_count": 7,
     "metadata": {},
     "output_type": "execute_result"
    }
   ],
   "source": [
    "#isolating data to be used for modeling\n",
    "data = df[['Population', 'PopSq', 'Murder_cat', 'Robbery_cat', 'Property_crime']].dropna()\n",
    "data.head()"
   ]
  },
  {
   "cell_type": "markdown",
   "metadata": {},
   "source": [
    "## Initial Model - Simple Linear Regression"
   ]
  },
  {
   "cell_type": "code",
   "execution_count": 8,
   "metadata": {
    "scrolled": true
   },
   "outputs": [
    {
     "name": "stdout",
     "output_type": "stream",
     "text": [
      "\n",
      "Coefficients: \n",
      " [ 2.62320223e-02 -3.30058846e-08  1.70080551e+02  1.27606800e+01]\n",
      "\n",
      "Intercept: \n",
      " -70.88477571593813\n",
      "\n",
      "R-squared: \n",
      "\n",
      "0.7135336089794011\n"
     ]
    }
   ],
   "source": [
    "#Instantiate and fit the model\n",
    "regr = linear_model.LinearRegression()\n",
    "Y = data['Property_crime']\n",
    "X = data[['Population', 'PopSq', 'Murder_cat', 'Robbery_cat']]\n",
    "regr.fit(X, Y)\n",
    "\n",
    "#inspect the results\n",
    "print('\\nCoefficients: \\n', regr.coef_)\n",
    "print('\\nIntercept: \\n', regr.intercept_)\n",
    "print('\\nR-squared: \\n')\n",
    "print(regr.score(X, Y))"
   ]
  },
  {
   "cell_type": "markdown",
   "metadata": {},
   "source": [
    "This R-squared value of 0.714 is not bad as a first pass of our model."
   ]
  },
  {
   "cell_type": "markdown",
   "metadata": {
    "scrolled": true
   },
   "source": [
    "## Cross Validation"
   ]
  },
  {
   "cell_type": "code",
   "execution_count": 11,
   "metadata": {
    "scrolled": false
   },
   "outputs": [
    {
     "name": "stdout",
     "output_type": "stream",
     "text": [
      "Accuracy of Test Data: 0.604408353934395\n",
      "Cross Validation\n",
      "Scores: [0.72916326 0.59135816 0.84034251]\n",
      "Mean: 0.7202879784789494\n",
      "Standard deviation: 0.10184098861197934\n",
      "RMSE Test Data: 547.8202818329678\n"
     ]
    }
   ],
   "source": [
    "from sklearn import cross_validation\n",
    "from sklearn import model_selection\n",
    "import statsmodels.formula.api as smf\n",
    "from statsmodels.sandbox.regression.predstd import wls_prediction_std\n",
    "\n",
    "\n",
    "#Splitting data into train and test\n",
    "X_train, X_test, y_train, y_test = cross_validation.train_test_split(X, Y, test_size=0.25, random_state=222)\n",
    "regr.fit(X_train, y_train)\n",
    "y_pred = regr.predict(X_test)\n",
    "accuracy = regr.score(X_test, y_test)\n",
    "print('Accuracy of Test Data:', accuracy)\n",
    "\n",
    "#cross validation on train data\n",
    "scores = model_selection.cross_val_score(regr, X_train, y_train, cv=3)\n",
    "\n",
    "print('Cross Validation\\nScores:', scores)\n",
    "print('Mean:', scores.mean())\n",
    "print('Standard deviation:', scores.std())\n",
    "\n",
    "RMSE_test = np.sqrt(metrics.mean_squared_error(y_test, y_pred))\n",
    "print('RMSE Test Data:', RMSE_test)"
   ]
  },
  {
   "cell_type": "markdown",
   "metadata": {},
   "source": [
    "Higher mean R-squared value for cross validation than test data."
   ]
  },
  {
   "cell_type": "markdown",
   "metadata": {},
   "source": [
    "## Ordinary Least Squares Regression"
   ]
  },
  {
   "cell_type": "code",
   "execution_count": 12,
   "metadata": {
    "scrolled": false
   },
   "outputs": [
    {
     "name": "stdout",
     "output_type": "stream",
     "text": [
      "Coefficients:\n",
      " Intercept     -70.885\n",
      "Population      0.026\n",
      "PopSq          -0.000\n",
      "Murder_cat    170.081\n",
      "Robbery_cat    12.761\n",
      "dtype: float64\n",
      "\n",
      "P-values:\n",
      " Intercept     0.016\n",
      "Population    0.000\n",
      "PopSq         0.019\n",
      "Murder_cat    0.006\n",
      "Robbery_cat   0.761\n",
      "dtype: float64\n",
      "\n",
      "R-squared:\n",
      " 0.7135336089794011\n"
     ]
    },
    {
     "data": {
      "text/html": [
       "<div>\n",
       "<style scoped>\n",
       "    .dataframe tbody tr th:only-of-type {\n",
       "        vertical-align: middle;\n",
       "    }\n",
       "\n",
       "    .dataframe tbody tr th {\n",
       "        vertical-align: top;\n",
       "    }\n",
       "\n",
       "    .dataframe thead th {\n",
       "        text-align: right;\n",
       "    }\n",
       "</style>\n",
       "<table border=\"1\" class=\"dataframe\">\n",
       "  <thead>\n",
       "    <tr style=\"text-align: right;\">\n",
       "      <th></th>\n",
       "      <th>0</th>\n",
       "      <th>1</th>\n",
       "    </tr>\n",
       "  </thead>\n",
       "  <tbody>\n",
       "    <tr>\n",
       "      <th>Intercept</th>\n",
       "      <td>-128.429</td>\n",
       "      <td>-13.340</td>\n",
       "    </tr>\n",
       "    <tr>\n",
       "      <th>Population</th>\n",
       "      <td>0.022</td>\n",
       "      <td>0.030</td>\n",
       "    </tr>\n",
       "    <tr>\n",
       "      <th>PopSq</th>\n",
       "      <td>-0.000</td>\n",
       "      <td>-0.000</td>\n",
       "    </tr>\n",
       "    <tr>\n",
       "      <th>Murder_cat</th>\n",
       "      <td>48.925</td>\n",
       "      <td>291.236</td>\n",
       "    </tr>\n",
       "    <tr>\n",
       "      <th>Robbery_cat</th>\n",
       "      <td>-69.581</td>\n",
       "      <td>95.102</td>\n",
       "    </tr>\n",
       "  </tbody>\n",
       "</table>\n",
       "</div>"
      ],
      "text/plain": [
       "                   0       1\n",
       "Intercept   -128.429 -13.340\n",
       "Population     0.022   0.030\n",
       "PopSq         -0.000  -0.000\n",
       "Murder_cat    48.925 291.236\n",
       "Robbery_cat  -69.581  95.102"
      ]
     },
     "execution_count": 12,
     "metadata": {},
     "output_type": "execute_result"
    }
   ],
   "source": [
    "linear_formula = 'Property_crime ~ Population+PopSq+Murder_cat+Robbery_cat'\n",
    "\n",
    "lm = smf.ols(formula=linear_formula, data=data).fit()\n",
    "\n",
    "print('Coefficients:\\n', lm.params)\n",
    "print('\\nP-values:\\n', lm.pvalues)\n",
    "print('\\nR-squared:\\n', lm.rsquared)\n",
    "lm.conf_int()"
   ]
  },
  {
   "cell_type": "markdown",
   "metadata": {},
   "source": [
    "Based on the model, we see that Population squared  has a coefficient of zero, and has a p-value of 0.000 as well. We should eliminate this feature from the model."
   ]
  },
  {
   "cell_type": "markdown",
   "metadata": {},
   "source": [
    "##### OLS Iteration 2"
   ]
  },
  {
   "cell_type": "code",
   "execution_count": 13,
   "metadata": {},
   "outputs": [
    {
     "name": "stdout",
     "output_type": "stream",
     "text": [
      "Coefficients:\n",
      " Intercept     -53.405\n",
      "Population      0.022\n",
      "Murder_cat    192.486\n",
      "Robbery_cat    44.234\n",
      "dtype: float64\n",
      "\n",
      "P-values:\n",
      " Intercept     0.062\n",
      "Population    0.000\n",
      "Murder_cat    0.002\n",
      "Robbery_cat   0.269\n",
      "dtype: float64\n",
      "\n",
      "R-squared:\n",
      " 0.7088744678562764\n"
     ]
    },
    {
     "data": {
      "text/html": [
       "<div>\n",
       "<style scoped>\n",
       "    .dataframe tbody tr th:only-of-type {\n",
       "        vertical-align: middle;\n",
       "    }\n",
       "\n",
       "    .dataframe tbody tr th {\n",
       "        vertical-align: top;\n",
       "    }\n",
       "\n",
       "    .dataframe thead th {\n",
       "        text-align: right;\n",
       "    }\n",
       "</style>\n",
       "<table border=\"1\" class=\"dataframe\">\n",
       "  <thead>\n",
       "    <tr style=\"text-align: right;\">\n",
       "      <th></th>\n",
       "      <th>0</th>\n",
       "      <th>1</th>\n",
       "    </tr>\n",
       "  </thead>\n",
       "  <tbody>\n",
       "    <tr>\n",
       "      <th>Intercept</th>\n",
       "      <td>-109.429</td>\n",
       "      <td>2.619</td>\n",
       "    </tr>\n",
       "    <tr>\n",
       "      <th>Population</th>\n",
       "      <td>0.020</td>\n",
       "      <td>0.024</td>\n",
       "    </tr>\n",
       "    <tr>\n",
       "      <th>Murder_cat</th>\n",
       "      <td>71.997</td>\n",
       "      <td>312.974</td>\n",
       "    </tr>\n",
       "    <tr>\n",
       "      <th>Robbery_cat</th>\n",
       "      <td>-34.301</td>\n",
       "      <td>122.769</td>\n",
       "    </tr>\n",
       "  </tbody>\n",
       "</table>\n",
       "</div>"
      ],
      "text/plain": [
       "                   0       1\n",
       "Intercept   -109.429   2.619\n",
       "Population     0.020   0.024\n",
       "Murder_cat    71.997 312.974\n",
       "Robbery_cat  -34.301 122.769"
      ]
     },
     "execution_count": 13,
     "metadata": {},
     "output_type": "execute_result"
    }
   ],
   "source": [
    "linear_formula2 = 'Property_crime ~ Population+Murder_cat+Robbery_cat'\n",
    "\n",
    "lm2 = smf.ols(formula=linear_formula2, data=data).fit()\n",
    "print('Coefficients:\\n', lm2.params)\n",
    "print('\\nP-values:\\n', lm2.pvalues)\n",
    "print('\\nR-squared:\\n', lm2.rsquared)\n",
    "lm2.conf_int()"
   ]
  },
  {
   "cell_type": "markdown",
   "metadata": {},
   "source": [
    "Removing Population Squared left the R-squared unchanged while reducing the p-values to below 0.001. "
   ]
  },
  {
   "cell_type": "markdown",
   "metadata": {},
   "source": [
    "##### OLS Version 3"
   ]
  },
  {
   "cell_type": "code",
   "execution_count": 35,
   "metadata": {},
   "outputs": [
    {
     "name": "stdout",
     "output_type": "stream",
     "text": [
      "Coefficients:\n",
      " Intercept    -32.989\n",
      "Population     0.022\n",
      "Murder_cat   201.795\n",
      "dtype: float64\n",
      "\n",
      "P-values:\n",
      " Intercept    0.130\n",
      "Population   0.000\n",
      "Murder_cat   0.001\n",
      "dtype: float64\n",
      "\n",
      "R-squared:\n",
      " 0.707826613002188\n"
     ]
    },
    {
     "data": {
      "text/html": [
       "<div>\n",
       "<style scoped>\n",
       "    .dataframe tbody tr th:only-of-type {\n",
       "        vertical-align: middle;\n",
       "    }\n",
       "\n",
       "    .dataframe tbody tr th {\n",
       "        vertical-align: top;\n",
       "    }\n",
       "\n",
       "    .dataframe thead th {\n",
       "        text-align: right;\n",
       "    }\n",
       "</style>\n",
       "<table border=\"1\" class=\"dataframe\">\n",
       "  <thead>\n",
       "    <tr style=\"text-align: right;\">\n",
       "      <th></th>\n",
       "      <th>0</th>\n",
       "      <th>1</th>\n",
       "    </tr>\n",
       "  </thead>\n",
       "  <tbody>\n",
       "    <tr>\n",
       "      <th>Intercept</th>\n",
       "      <td>-75.720</td>\n",
       "      <td>9.742</td>\n",
       "    </tr>\n",
       "    <tr>\n",
       "      <th>Population</th>\n",
       "      <td>0.020</td>\n",
       "      <td>0.024</td>\n",
       "    </tr>\n",
       "    <tr>\n",
       "      <th>Murder_cat</th>\n",
       "      <td>82.407</td>\n",
       "      <td>321.183</td>\n",
       "    </tr>\n",
       "  </tbody>\n",
       "</table>\n",
       "</div>"
      ],
      "text/plain": [
       "                 0       1\n",
       "Intercept  -75.720   9.742\n",
       "Population   0.020   0.024\n",
       "Murder_cat  82.407 321.183"
      ]
     },
     "execution_count": 35,
     "metadata": {},
     "output_type": "execute_result"
    }
   ],
   "source": [
    "linear_formula3 = 'Property_crime ~ Population+Murder_cat'\n",
    "\n",
    "lm3 = smf.ols(formula=linear_formula3, data=data).fit()\n",
    "print('Coefficients:\\n', lm3.params)\n",
    "print('\\nP-values:\\n', lm3.pvalues)\n",
    "print('\\nR-squared:\\n', lm3.rsquared)\n",
    "lm3.conf_int()"
   ]
  },
  {
   "cell_type": "markdown",
   "metadata": {},
   "source": [
    "### Linear Model Without PopSq"
   ]
  },
  {
   "cell_type": "code",
   "execution_count": 36,
   "metadata": {},
   "outputs": [
    {
     "name": "stdout",
     "output_type": "stream",
     "text": [
      "Coefficients: \n",
      " [('Population', 0.02205613985643152), ('Murder_cat', 192.48583974233387), ('Robbery_cat', 44.234313317275586)]\n",
      "\n",
      "Intercept: \n",
      " -53.40501615830658\n",
      "\n",
      "R-squared: \n",
      " 0.7088744678562764\n"
     ]
    }
   ],
   "source": [
    "#Instantiate and fit the model\n",
    "regr2 = linear_model.LinearRegression()\n",
    "Y2 = data['Property_crime']\n",
    "X2 = data[['Population', 'Murder_cat', 'Robbery_cat']]\n",
    "regr2.fit(X2, Y2)\n",
    "\n",
    "#inspect the results\n",
    "print('Coefficients: \\n', list(zip(X2.columns, regr2.coef_)))\n",
    "print('\\nIntercept: \\n', regr2.intercept_)\n",
    "print('\\nR-squared: \\n', regr2.score(X2, Y2))"
   ]
  },
  {
   "cell_type": "code",
   "execution_count": 41,
   "metadata": {},
   "outputs": [
    {
     "name": "stdout",
     "output_type": "stream",
     "text": [
      "Accuracy of Test Data: 0.6335879299700926\n",
      "\n",
      "Cross Validation\n",
      "Scores: [0.6506852  0.63870207 0.8001555 ]\n",
      "\n",
      "Mean: 0.6965142573216911\n",
      "\n",
      "Standard deviation: 0.0734485277222746\n",
      "RMSE Test Data: 527.2291777163994\n"
     ]
    }
   ],
   "source": [
    "#Splitting data into train and test\n",
    "X2_train, X2_test, y2_train, y2_test = cross_validation.train_test_split(X2, Y2, test_size=0.25, random_state=222)\n",
    "regr2.fit(X2_train, y2_train)\n",
    "y2_pred = regr2.predict(X2_test)\n",
    "accuracy2 = regr2.score(X2_test, y2_test)\n",
    "print('Accuracy of Test Data:', accuracy2)\n",
    "\n",
    "#cross validation on train data\n",
    "scores2 = model_selection.cross_val_score(regr2, X2_train, y2_train, cv=3)\n",
    "\n",
    "print('\\nCross Validation\\nScores:', scores2)\n",
    "print('\\nMean:', scores2.mean())\n",
    "print('\\nStandard deviation:', scores2.std())\n",
    "RMSE_test2 = np.sqrt(metrics.mean_squared_error(y2_test, y2_pred))\n",
    "print('RMSE Test Data:', RMSE_test2)"
   ]
  },
  {
   "cell_type": "markdown",
   "metadata": {},
   "source": [
    "#### Linear Regression without PopSq and Robberies"
   ]
  },
  {
   "cell_type": "code",
   "execution_count": 37,
   "metadata": {},
   "outputs": [
    {
     "name": "stdout",
     "output_type": "stream",
     "text": [
      "Coefficients: \n",
      " [('Population', 0.02237984425144919), ('Murder_cat', 201.79502627668543)]\n",
      "\n",
      "Intercept: \n",
      " -32.98868160699192\n",
      "\n",
      "R-squared: \n",
      " 0.7078266130021877\n"
     ]
    }
   ],
   "source": [
    "#Instantiate and fit the model\n",
    "regr3 = linear_model.LinearRegression()\n",
    "Y3 = data['Property_crime']\n",
    "X3 = data[['Population', 'Murder_cat']]\n",
    "regr3.fit(X3, Y3)\n",
    "\n",
    "#inspect the results\n",
    "print('Coefficients: \\n', list(zip(X3.columns, regr3.coef_)))\n",
    "print('\\nIntercept: \\n', regr3.intercept_)\n",
    "print('\\nR-squared: \\n', regr3.score(X3, Y3))"
   ]
  },
  {
   "cell_type": "code",
   "execution_count": 40,
   "metadata": {},
   "outputs": [
    {
     "name": "stdout",
     "output_type": "stream",
     "text": [
      "Accuracy of Test Data: 0.644313199512648\n",
      "\n",
      "Cross Validation\n",
      "Scores: [0.63499857 0.63392671 0.7982762 ]\n",
      "\n",
      "Mean: 0.6890671608817147\n",
      "\n",
      "Standard deviation: 0.07722368962328922\n",
      "RMSE Test Data: 519.4555916179133\n"
     ]
    }
   ],
   "source": [
    "#Splitting data into train and test\n",
    "X3_train, X3_test, y3_train, y3_test = cross_validation.train_test_split(X3, Y3, test_size=0.25, random_state=222)\n",
    "regr3.fit(X3_train, y3_train)\n",
    "y3_pred = regr3.predict(X3_test)\n",
    "accuracy3 = regr3.score(X3_test, y3_test)\n",
    "print('Accuracy of Test Data:', accuracy3)\n",
    "\n",
    "#cross validation on train data\n",
    "scores3 = model_selection.cross_val_score(regr3, X3_train, y3_train, cv=3)\n",
    "\n",
    "print('\\nCross Validation\\nScores:', scores3)\n",
    "print('\\nMean:', scores3.mean())\n",
    "print('\\nStandard deviation:', scores3.std())\n",
    "RMSE_test3 = np.sqrt(metrics.mean_squared_error(y3_test, y3_pred))\n",
    "print('RMSE Test Data:', RMSE_test3)"
   ]
  },
  {
   "cell_type": "markdown",
   "metadata": {},
   "source": [
    "## Validation Using Other States\n",
    "__Colorado:__"
   ]
  },
  {
   "cell_type": "code",
   "execution_count": 18,
   "metadata": {},
   "outputs": [],
   "source": [
    "#read in data\n",
    "df_co = pd.read_excel('table_8_offenses_known_to_law_enforcement_colorado_by_city_2013.xls', header=4)\n",
    "df_nj = pd.read_excel('table_8_offenses_known_to_law_enforcement_new_jersey_by_city_2013.xls', header=4)\n",
    "df_fl = pd.read_excel('table_8_offenses_known_to_law_enforcement_florida_by_city_2013.xls', header=4)"
   ]
  },
  {
   "cell_type": "code",
   "execution_count": 19,
   "metadata": {},
   "outputs": [
    {
     "data": {
      "text/html": [
       "<div>\n",
       "<style scoped>\n",
       "    .dataframe tbody tr th:only-of-type {\n",
       "        vertical-align: middle;\n",
       "    }\n",
       "\n",
       "    .dataframe tbody tr th {\n",
       "        vertical-align: top;\n",
       "    }\n",
       "\n",
       "    .dataframe thead th {\n",
       "        text-align: right;\n",
       "    }\n",
       "</style>\n",
       "<table border=\"1\" class=\"dataframe\">\n",
       "  <thead>\n",
       "    <tr style=\"text-align: right;\">\n",
       "      <th></th>\n",
       "      <th>Population</th>\n",
       "      <th>Murder_cat</th>\n",
       "      <th>Robbery_cat</th>\n",
       "      <th>Property_crime</th>\n",
       "    </tr>\n",
       "  </thead>\n",
       "  <tbody>\n",
       "    <tr>\n",
       "      <th>0</th>\n",
       "      <td>110792.000</td>\n",
       "      <td>0.000</td>\n",
       "      <td>1.000</td>\n",
       "      <td>2666.000</td>\n",
       "    </tr>\n",
       "    <tr>\n",
       "      <th>1</th>\n",
       "      <td>6685.000</td>\n",
       "      <td>0.000</td>\n",
       "      <td>0.000</td>\n",
       "      <td>314.000</td>\n",
       "    </tr>\n",
       "    <tr>\n",
       "      <th>2</th>\n",
       "      <td>1565.000</td>\n",
       "      <td>0.000</td>\n",
       "      <td>0.000</td>\n",
       "      <td>2.000</td>\n",
       "    </tr>\n",
       "    <tr>\n",
       "      <th>3</th>\n",
       "      <td>343484.000</td>\n",
       "      <td>1.000</td>\n",
       "      <td>1.000</td>\n",
       "      <td>10786.000</td>\n",
       "    </tr>\n",
       "    <tr>\n",
       "      <th>4</th>\n",
       "      <td>6336.000</td>\n",
       "      <td>0.000</td>\n",
       "      <td>0.000</td>\n",
       "      <td>140.000</td>\n",
       "    </tr>\n",
       "  </tbody>\n",
       "</table>\n",
       "</div>"
      ],
      "text/plain": [
       "   Population  Murder_cat  Robbery_cat  Property_crime\n",
       "0  110792.000       0.000        1.000        2666.000\n",
       "1    6685.000       0.000        0.000         314.000\n",
       "2    1565.000       0.000        0.000           2.000\n",
       "3  343484.000       1.000        1.000       10786.000\n",
       "4    6336.000       0.000        0.000         140.000"
      ]
     },
     "execution_count": 19,
     "metadata": {},
     "output_type": "execute_result"
    }
   ],
   "source": [
    "#setting categorical features and renaming property crime\n",
    "df_co['Murder_cat'] = df_co['Murder and\\nnonnegligent\\nmanslaughter'].dropna().map(lambda x: 1 if x > 0 else 0)\n",
    "df_co['Robbery_cat'] = df_co.Robbery.dropna().map(lambda x: 1 if x > 0 else 0)\n",
    "df_co['Property_crime'] = df_co['Property\\ncrime']\n",
    "#initializing data with features\n",
    "data_co = df_co[['Population', 'Murder_cat', 'Robbery_cat', 'Property_crime']].dropna()\n",
    "data_co.head()"
   ]
  },
  {
   "cell_type": "code",
   "execution_count": 47,
   "metadata": {
    "scrolled": true
   },
   "outputs": [
    {
     "name": "stdout",
     "output_type": "stream",
     "text": [
      "RMSE Colorado Data: 1224.71791381954\n"
     ]
    }
   ],
   "source": [
    "#using second linear regression to predict CO data\n",
    "y_pred_co = lm3.predict(data_co[['Population', 'Murder_cat', 'Robbery_cat']])\n",
    "\n",
    "RMSE_co = np.sqrt(metrics.mean_squared_error(data_co['Property_crime'], y_pred_co))\n",
    "print('RMSE Colorado Data:', RMSE_co)"
   ]
  },
  {
   "cell_type": "code",
   "execution_count": null,
   "metadata": {},
   "outputs": [],
   "source": []
  },
  {
   "cell_type": "markdown",
   "metadata": {},
   "source": [
    "__New Jersey:__"
   ]
  },
  {
   "cell_type": "code",
   "execution_count": 24,
   "metadata": {},
   "outputs": [
    {
     "data": {
      "text/html": [
       "<div>\n",
       "<style scoped>\n",
       "    .dataframe tbody tr th:only-of-type {\n",
       "        vertical-align: middle;\n",
       "    }\n",
       "\n",
       "    .dataframe tbody tr th {\n",
       "        vertical-align: top;\n",
       "    }\n",
       "\n",
       "    .dataframe thead th {\n",
       "        text-align: right;\n",
       "    }\n",
       "</style>\n",
       "<table border=\"1\" class=\"dataframe\">\n",
       "  <thead>\n",
       "    <tr style=\"text-align: right;\">\n",
       "      <th></th>\n",
       "      <th>Population</th>\n",
       "      <th>Murder_cat</th>\n",
       "      <th>Robbery_cat</th>\n",
       "      <th>Property_crime</th>\n",
       "    </tr>\n",
       "  </thead>\n",
       "  <tbody>\n",
       "    <tr>\n",
       "      <th>0</th>\n",
       "      <td>18150.000</td>\n",
       "      <td>0.000</td>\n",
       "      <td>1.000</td>\n",
       "      <td>237.000</td>\n",
       "    </tr>\n",
       "    <tr>\n",
       "      <th>1</th>\n",
       "      <td>8380.000</td>\n",
       "      <td>0.000</td>\n",
       "      <td>1.000</td>\n",
       "      <td>266.000</td>\n",
       "    </tr>\n",
       "    <tr>\n",
       "      <th>2</th>\n",
       "      <td>6712.000</td>\n",
       "      <td>0.000</td>\n",
       "      <td>0.000</td>\n",
       "      <td>37.000</td>\n",
       "    </tr>\n",
       "    <tr>\n",
       "      <th>3</th>\n",
       "      <td>493.000</td>\n",
       "      <td>0.000</td>\n",
       "      <td>0.000</td>\n",
       "      <td>39.000</td>\n",
       "    </tr>\n",
       "    <tr>\n",
       "      <th>4</th>\n",
       "      <td>1812.000</td>\n",
       "      <td>0.000</td>\n",
       "      <td>0.000</td>\n",
       "      <td>18.000</td>\n",
       "    </tr>\n",
       "  </tbody>\n",
       "</table>\n",
       "</div>"
      ],
      "text/plain": [
       "   Population  Murder_cat  Robbery_cat  Property_crime\n",
       "0   18150.000       0.000        1.000         237.000\n",
       "1    8380.000       0.000        1.000         266.000\n",
       "2    6712.000       0.000        0.000          37.000\n",
       "3     493.000       0.000        0.000          39.000\n",
       "4    1812.000       0.000        0.000          18.000"
      ]
     },
     "execution_count": 24,
     "metadata": {},
     "output_type": "execute_result"
    }
   ],
   "source": [
    "#setting categorical features and renaming property crime\n",
    "df_nj['Murder_cat'] = df_nj['Murder and\\nnonnegligent\\nmanslaughter'].dropna().map(lambda x: 1 if x > 0 else 0)\n",
    "df_nj['Robbery_cat'] = df_nj.Robbery.dropna().map(lambda x: 1 if x > 0 else 0)\n",
    "df_nj['Property_crime'] = df_nj['Property\\ncrime']\n",
    "#initializing data with features\n",
    "data_nj = df_nj[['Population', 'Murder_cat', 'Robbery_cat', 'Property_crime']].dropna()\n",
    "data_nj.head()"
   ]
  },
  {
   "cell_type": "code",
   "execution_count": 48,
   "metadata": {},
   "outputs": [
    {
     "name": "stdout",
     "output_type": "stream",
     "text": [
      "RMSE New Jersey Data: 294.9388767900218\n"
     ]
    }
   ],
   "source": [
    "#using second linear regression to predict NJ data\n",
    "y_pred_nj = lm3.predict(data_nj[['Population', 'Murder_cat', 'Robbery_cat']])\n",
    "\n",
    "RMSE_nj = np.sqrt(metrics.mean_squared_error(data_nj['Property_crime'], y_pred_nj))\n",
    "print('RMSE New Jersey Data:', RMSE_nj)"
   ]
  },
  {
   "cell_type": "markdown",
   "metadata": {},
   "source": [
    "__Florida:__"
   ]
  },
  {
   "cell_type": "code",
   "execution_count": 27,
   "metadata": {},
   "outputs": [
    {
     "data": {
      "text/html": [
       "<div>\n",
       "<style scoped>\n",
       "    .dataframe tbody tr th:only-of-type {\n",
       "        vertical-align: middle;\n",
       "    }\n",
       "\n",
       "    .dataframe tbody tr th {\n",
       "        vertical-align: top;\n",
       "    }\n",
       "\n",
       "    .dataframe thead th {\n",
       "        text-align: right;\n",
       "    }\n",
       "</style>\n",
       "<table border=\"1\" class=\"dataframe\">\n",
       "  <thead>\n",
       "    <tr style=\"text-align: right;\">\n",
       "      <th></th>\n",
       "      <th>Population</th>\n",
       "      <th>Murder_cat</th>\n",
       "      <th>Robbery_cat</th>\n",
       "      <th>Property_crime</th>\n",
       "    </tr>\n",
       "  </thead>\n",
       "  <tbody>\n",
       "    <tr>\n",
       "      <th>0</th>\n",
       "      <td>9338.000</td>\n",
       "      <td>0.000</td>\n",
       "      <td>1.000</td>\n",
       "      <td>166.000</td>\n",
       "    </tr>\n",
       "    <tr>\n",
       "      <th>1</th>\n",
       "      <td>42040.000</td>\n",
       "      <td>0.000</td>\n",
       "      <td>1.000</td>\n",
       "      <td>1564.000</td>\n",
       "    </tr>\n",
       "    <tr>\n",
       "      <th>2</th>\n",
       "      <td>536.000</td>\n",
       "      <td>0.000</td>\n",
       "      <td>0.000</td>\n",
       "      <td>3.000</td>\n",
       "    </tr>\n",
       "    <tr>\n",
       "      <th>3</th>\n",
       "      <td>2269.000</td>\n",
       "      <td>0.000</td>\n",
       "      <td>0.000</td>\n",
       "      <td>35.000</td>\n",
       "    </tr>\n",
       "    <tr>\n",
       "      <th>4</th>\n",
       "      <td>45397.000</td>\n",
       "      <td>1.000</td>\n",
       "      <td>1.000</td>\n",
       "      <td>1527.000</td>\n",
       "    </tr>\n",
       "  </tbody>\n",
       "</table>\n",
       "</div>"
      ],
      "text/plain": [
       "   Population  Murder_cat  Robbery_cat  Property_crime\n",
       "0    9338.000       0.000        1.000         166.000\n",
       "1   42040.000       0.000        1.000        1564.000\n",
       "2     536.000       0.000        0.000           3.000\n",
       "3    2269.000       0.000        0.000          35.000\n",
       "4   45397.000       1.000        1.000        1527.000"
      ]
     },
     "execution_count": 27,
     "metadata": {},
     "output_type": "execute_result"
    }
   ],
   "source": [
    "#setting categorical features and renaming property crime\n",
    "df_fl['Murder_cat'] = df_fl['Murder and\\nnonnegligent\\nmanslaughter'].dropna().map(lambda x: 1 if x > 0 else 0)\n",
    "df_fl['Robbery_cat'] = df_fl.Robbery.dropna().map(lambda x: 1 if x > 0 else 0)\n",
    "df_fl['Property_crime'] = df_fl['Property\\ncrime']\n",
    "#initializing data with features\n",
    "data_fl = df_fl[['Population', 'Murder_cat', 'Robbery_cat', 'Property_crime']].dropna()\n",
    "data_fl.head()"
   ]
  },
  {
   "cell_type": "code",
   "execution_count": 49,
   "metadata": {},
   "outputs": [
    {
     "name": "stdout",
     "output_type": "stream",
     "text": [
      "RMSE Florida Data: 1563.5519914928868\n"
     ]
    }
   ],
   "source": [
    "#using second linear regression to predict FL data\n",
    "y_pred_fl = lm3.predict(data_fl[['Population', 'Murder_cat', 'Robbery_cat']])\n",
    "\n",
    "RMSE_fl = np.sqrt(metrics.mean_squared_error(data_fl['Property_crime'], y_pred_fl))\n",
    "print('RMSE Florida Data:', RMSE_fl)"
   ]
  },
  {
   "cell_type": "markdown",
   "metadata": {},
   "source": [
    "The root mean square error is smallest when predicting the New Jersey data.  This is likely because of the similarities between New York and New Jersey.  Both Colorado and Florida have three times as much error. "
   ]
  },
  {
   "cell_type": "markdown",
   "metadata": {},
   "source": [
    "## Validating Using 2014 Data"
   ]
  },
  {
   "cell_type": "code",
   "execution_count": 30,
   "metadata": {},
   "outputs": [],
   "source": [
    "#read in data\n",
    "df_2014 = pd.read_excel('Table_8_Offenses_Known_to_Law_Enforcement_by_New_York_by_City_2014.xls', header=4)"
   ]
  },
  {
   "cell_type": "code",
   "execution_count": 31,
   "metadata": {},
   "outputs": [
    {
     "data": {
      "text/html": [
       "<div>\n",
       "<style scoped>\n",
       "    .dataframe tbody tr th:only-of-type {\n",
       "        vertical-align: middle;\n",
       "    }\n",
       "\n",
       "    .dataframe tbody tr th {\n",
       "        vertical-align: top;\n",
       "    }\n",
       "\n",
       "    .dataframe thead th {\n",
       "        text-align: right;\n",
       "    }\n",
       "</style>\n",
       "<table border=\"1\" class=\"dataframe\">\n",
       "  <thead>\n",
       "    <tr style=\"text-align: right;\">\n",
       "      <th></th>\n",
       "      <th>Population</th>\n",
       "      <th>Murder_cat</th>\n",
       "      <th>Robbery_cat</th>\n",
       "      <th>Property_crime</th>\n",
       "    </tr>\n",
       "  </thead>\n",
       "  <tbody>\n",
       "    <tr>\n",
       "      <th>0</th>\n",
       "      <td>1851.000</td>\n",
       "      <td>0.000</td>\n",
       "      <td>0.000</td>\n",
       "      <td>11.000</td>\n",
       "    </tr>\n",
       "    <tr>\n",
       "      <th>1</th>\n",
       "      <td>2568.000</td>\n",
       "      <td>0.000</td>\n",
       "      <td>1.000</td>\n",
       "      <td>49.000</td>\n",
       "    </tr>\n",
       "    <tr>\n",
       "      <th>2</th>\n",
       "      <td>820.000</td>\n",
       "      <td>0.000</td>\n",
       "      <td>0.000</td>\n",
       "      <td>1.000</td>\n",
       "    </tr>\n",
       "    <tr>\n",
       "      <th>3</th>\n",
       "      <td>2842.000</td>\n",
       "      <td>0.000</td>\n",
       "      <td>0.000</td>\n",
       "      <td>17.000</td>\n",
       "    </tr>\n",
       "    <tr>\n",
       "      <th>4</th>\n",
       "      <td>98595.000</td>\n",
       "      <td>1.000</td>\n",
       "      <td>1.000</td>\n",
       "      <td>3888.000</td>\n",
       "    </tr>\n",
       "  </tbody>\n",
       "</table>\n",
       "</div>"
      ],
      "text/plain": [
       "   Population  Murder_cat  Robbery_cat  Property_crime\n",
       "0    1851.000       0.000        0.000          11.000\n",
       "1    2568.000       0.000        1.000          49.000\n",
       "2     820.000       0.000        0.000           1.000\n",
       "3    2842.000       0.000        0.000          17.000\n",
       "4   98595.000       1.000        1.000        3888.000"
      ]
     },
     "execution_count": 31,
     "metadata": {},
     "output_type": "execute_result"
    }
   ],
   "source": [
    "#setting categorical features and renaming property crime\n",
    "df_2014['Murder_cat'] = df_2014['Murder and\\nnonnegligent\\nmanslaughter'].dropna().map(lambda x: 1 if x > 0 else 0)\n",
    "df_2014['Robbery_cat'] = df_2014.Robbery.dropna().map(lambda x: 1 if x > 0 else 0)\n",
    "df_2014['Property_crime'] = df_2014['Property\\ncrime']\n",
    "#initializing data with features\n",
    "data_2014 = df_2014[['Population', 'Murder_cat', 'Robbery_cat', 'Property_crime']].dropna()\n",
    "data_2014.head()"
   ]
  },
  {
   "cell_type": "code",
   "execution_count": 50,
   "metadata": {},
   "outputs": [
    {
     "name": "stdout",
     "output_type": "stream",
     "text": [
      "RMSE New York 2014 Data: 2862.696147310009\n"
     ]
    }
   ],
   "source": [
    "#using second linear regression to predict CO data\n",
    "y_pred_2014 = lm3.predict(data_2014[['Population', 'Murder_cat', 'Robbery_cat']])\n",
    "\n",
    "RMSE_2014 = np.sqrt(metrics.mean_squared_error(data_2014['Property_crime'], y_pred_2014))\n",
    "print('RMSE New York 2014 Data:', RMSE_2014)"
   ]
  },
  {
   "cell_type": "markdown",
   "metadata": {},
   "source": [
    "Based on the data, this linear regression model best predicts property crime for the same year.  Data in 2014 had a much higher error than the 2013 data."
   ]
  },
  {
   "cell_type": "code",
   "execution_count": null,
   "metadata": {},
   "outputs": [],
   "source": []
  }
 ],
 "metadata": {
  "hide_input": false,
  "kernelspec": {
   "display_name": "Python 3",
   "language": "python",
   "name": "python3"
  },
  "language_info": {
   "codemirror_mode": {
    "name": "ipython",
    "version": 3
   },
   "file_extension": ".py",
   "mimetype": "text/x-python",
   "name": "python",
   "nbconvert_exporter": "python",
   "pygments_lexer": "ipython3",
   "version": "3.6.2"
  },
  "toc": {
   "colors": {
    "hover_highlight": "#DAA520",
    "running_highlight": "#FF0000",
    "selected_highlight": "#FFD700"
   },
   "moveMenuLeft": true,
   "nav_menu": {
    "height": "86px",
    "width": "252px"
   },
   "navigate_menu": true,
   "number_sections": true,
   "sideBar": true,
   "threshold": 4,
   "toc_cell": false,
   "toc_section_display": "block",
   "toc_window_display": false
  }
 },
 "nbformat": 4,
 "nbformat_minor": 2
}
